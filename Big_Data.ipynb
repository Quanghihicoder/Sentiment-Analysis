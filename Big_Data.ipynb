{
  "cells": [
    {
      "cell_type": "markdown",
      "metadata": {
        "id": "zHT_r2mqvFd8"
      },
      "source": [
        "# Load the data\n"
      ]
    },
    {
      "cell_type": "markdown",
      "metadata": {
        "id": "WQT1u9WMvS0U"
      },
      "source": [
        "**Notes**\n",
        "\n",
        "NLP: is not model building\n",
        "\n",
        "NLP make the raw text ready for model building"
      ]
    },
    {
      "cell_type": "code",
      "execution_count": null,
      "metadata": {
        "id": "rppft57ovKZf"
      },
      "outputs": [],
      "source": [
        "# Pandas is a Python library used for working with data sets.\n",
        "# It has functions for analyzing, cleaning, exploring, and manipulating data.\n",
        "# https://www.w3schools.com/python/pandas/pandas_intro.asp\n",
        "\n",
        "# Why Pandas:\n",
        "# A convenient and efficient way to load data into a DataFrame\n",
        "# Automatically infers data types for each column\n",
        "# It loads only the necessary columns into memory, which is crucial for handling large datasets\n",
        "\n",
        "import pandas as pd\n",
        "\n",
        "# The display max length in a cell is 200, any left will display as ...\n",
        "pd.set_option(\"display.max_colwidth\", 200)"
      ]
    },
    {
      "cell_type": "code",
      "execution_count": null,
      "metadata": {
        "colab": {
          "base_uri": "https://localhost:8080/",
          "height": 241
        },
        "id": "SbcA2WekyrUL",
        "outputId": "f04b25b0-9b81-4d7c-bd2f-599490881bdd"
      },
      "outputs": [
        {
          "output_type": "execute_result",
          "data": {
            "text/plain": [
              "   id  \\\n",
              "0   0   \n",
              "1   1   \n",
              "2   2   \n",
              "3   3   \n",
              "4   4   \n",
              "\n",
              "                                                                                                                                                                                                      text  \\\n",
              "0                                                                                                                                                            i just feel really helpless and heavy hearted   \n",
              "1  ive enjoyed being able to slouch about relax and unwind and frankly needed it after those last few weeks around the end of uni and the expo i have lately started to find myself feeling a bit listl...   \n",
              "2                                                                                                                                          i gave up my internship with the dmrg and am feeling distraught   \n",
              "3                                                                                                                                                                               i dont know i feel so lost   \n",
              "4  i am a kindergarten teacher and i am thoroughly weary of my job after having taken the university entrance exam i suffered from anxiety for weeks as i did not want to carry on with my work studies...   \n",
              "\n",
              "   label  \n",
              "0      4  \n",
              "1      0  \n",
              "2      4  \n",
              "3      0  \n",
              "4      4  "
            ],
            "text/html": [
              "\n",
              "  <div id=\"df-9d20a5d7-2254-48a6-afc7-18c7e0421189\" class=\"colab-df-container\">\n",
              "    <div>\n",
              "<style scoped>\n",
              "    .dataframe tbody tr th:only-of-type {\n",
              "        vertical-align: middle;\n",
              "    }\n",
              "\n",
              "    .dataframe tbody tr th {\n",
              "        vertical-align: top;\n",
              "    }\n",
              "\n",
              "    .dataframe thead th {\n",
              "        text-align: right;\n",
              "    }\n",
              "</style>\n",
              "<table border=\"1\" class=\"dataframe\">\n",
              "  <thead>\n",
              "    <tr style=\"text-align: right;\">\n",
              "      <th></th>\n",
              "      <th>id</th>\n",
              "      <th>text</th>\n",
              "      <th>label</th>\n",
              "    </tr>\n",
              "  </thead>\n",
              "  <tbody>\n",
              "    <tr>\n",
              "      <th>0</th>\n",
              "      <td>0</td>\n",
              "      <td>i just feel really helpless and heavy hearted</td>\n",
              "      <td>4</td>\n",
              "    </tr>\n",
              "    <tr>\n",
              "      <th>1</th>\n",
              "      <td>1</td>\n",
              "      <td>ive enjoyed being able to slouch about relax and unwind and frankly needed it after those last few weeks around the end of uni and the expo i have lately started to find myself feeling a bit listl...</td>\n",
              "      <td>0</td>\n",
              "    </tr>\n",
              "    <tr>\n",
              "      <th>2</th>\n",
              "      <td>2</td>\n",
              "      <td>i gave up my internship with the dmrg and am feeling distraught</td>\n",
              "      <td>4</td>\n",
              "    </tr>\n",
              "    <tr>\n",
              "      <th>3</th>\n",
              "      <td>3</td>\n",
              "      <td>i dont know i feel so lost</td>\n",
              "      <td>0</td>\n",
              "    </tr>\n",
              "    <tr>\n",
              "      <th>4</th>\n",
              "      <td>4</td>\n",
              "      <td>i am a kindergarten teacher and i am thoroughly weary of my job after having taken the university entrance exam i suffered from anxiety for weeks as i did not want to carry on with my work studies...</td>\n",
              "      <td>4</td>\n",
              "    </tr>\n",
              "  </tbody>\n",
              "</table>\n",
              "</div>\n",
              "    <div class=\"colab-df-buttons\">\n",
              "\n",
              "  <div class=\"colab-df-container\">\n",
              "    <button class=\"colab-df-convert\" onclick=\"convertToInteractive('df-9d20a5d7-2254-48a6-afc7-18c7e0421189')\"\n",
              "            title=\"Convert this dataframe to an interactive table.\"\n",
              "            style=\"display:none;\">\n",
              "\n",
              "  <svg xmlns=\"http://www.w3.org/2000/svg\" height=\"24px\" viewBox=\"0 -960 960 960\">\n",
              "    <path d=\"M120-120v-720h720v720H120Zm60-500h600v-160H180v160Zm220 220h160v-160H400v160Zm0 220h160v-160H400v160ZM180-400h160v-160H180v160Zm440 0h160v-160H620v160ZM180-180h160v-160H180v160Zm440 0h160v-160H620v160Z\"/>\n",
              "  </svg>\n",
              "    </button>\n",
              "\n",
              "  <style>\n",
              "    .colab-df-container {\n",
              "      display:flex;\n",
              "      gap: 12px;\n",
              "    }\n",
              "\n",
              "    .colab-df-convert {\n",
              "      background-color: #E8F0FE;\n",
              "      border: none;\n",
              "      border-radius: 50%;\n",
              "      cursor: pointer;\n",
              "      display: none;\n",
              "      fill: #1967D2;\n",
              "      height: 32px;\n",
              "      padding: 0 0 0 0;\n",
              "      width: 32px;\n",
              "    }\n",
              "\n",
              "    .colab-df-convert:hover {\n",
              "      background-color: #E2EBFA;\n",
              "      box-shadow: 0px 1px 2px rgba(60, 64, 67, 0.3), 0px 1px 3px 1px rgba(60, 64, 67, 0.15);\n",
              "      fill: #174EA6;\n",
              "    }\n",
              "\n",
              "    .colab-df-buttons div {\n",
              "      margin-bottom: 4px;\n",
              "    }\n",
              "\n",
              "    [theme=dark] .colab-df-convert {\n",
              "      background-color: #3B4455;\n",
              "      fill: #D2E3FC;\n",
              "    }\n",
              "\n",
              "    [theme=dark] .colab-df-convert:hover {\n",
              "      background-color: #434B5C;\n",
              "      box-shadow: 0px 1px 3px 1px rgba(0, 0, 0, 0.15);\n",
              "      filter: drop-shadow(0px 1px 2px rgba(0, 0, 0, 0.3));\n",
              "      fill: #FFFFFF;\n",
              "    }\n",
              "  </style>\n",
              "\n",
              "    <script>\n",
              "      const buttonEl =\n",
              "        document.querySelector('#df-9d20a5d7-2254-48a6-afc7-18c7e0421189 button.colab-df-convert');\n",
              "      buttonEl.style.display =\n",
              "        google.colab.kernel.accessAllowed ? 'block' : 'none';\n",
              "\n",
              "      async function convertToInteractive(key) {\n",
              "        const element = document.querySelector('#df-9d20a5d7-2254-48a6-afc7-18c7e0421189');\n",
              "        const dataTable =\n",
              "          await google.colab.kernel.invokeFunction('convertToInteractive',\n",
              "                                                    [key], {});\n",
              "        if (!dataTable) return;\n",
              "\n",
              "        const docLinkHtml = 'Like what you see? Visit the ' +\n",
              "          '<a target=\"_blank\" href=https://colab.research.google.com/notebooks/data_table.ipynb>data table notebook</a>'\n",
              "          + ' to learn more about interactive tables.';\n",
              "        element.innerHTML = '';\n",
              "        dataTable['output_type'] = 'display_data';\n",
              "        await google.colab.output.renderOutput(dataTable, element);\n",
              "        const docLink = document.createElement('div');\n",
              "        docLink.innerHTML = docLinkHtml;\n",
              "        element.appendChild(docLink);\n",
              "      }\n",
              "    </script>\n",
              "  </div>\n",
              "\n",
              "\n",
              "<div id=\"df-595fabbb-f9b2-47a1-bd88-5f00e109e517\">\n",
              "  <button class=\"colab-df-quickchart\" onclick=\"quickchart('df-595fabbb-f9b2-47a1-bd88-5f00e109e517')\"\n",
              "            title=\"Suggest charts\"\n",
              "            style=\"display:none;\">\n",
              "\n",
              "<svg xmlns=\"http://www.w3.org/2000/svg\" height=\"24px\"viewBox=\"0 0 24 24\"\n",
              "     width=\"24px\">\n",
              "    <g>\n",
              "        <path d=\"M19 3H5c-1.1 0-2 .9-2 2v14c0 1.1.9 2 2 2h14c1.1 0 2-.9 2-2V5c0-1.1-.9-2-2-2zM9 17H7v-7h2v7zm4 0h-2V7h2v10zm4 0h-2v-4h2v4z\"/>\n",
              "    </g>\n",
              "</svg>\n",
              "  </button>\n",
              "\n",
              "<style>\n",
              "  .colab-df-quickchart {\n",
              "      --bg-color: #E8F0FE;\n",
              "      --fill-color: #1967D2;\n",
              "      --hover-bg-color: #E2EBFA;\n",
              "      --hover-fill-color: #174EA6;\n",
              "      --disabled-fill-color: #AAA;\n",
              "      --disabled-bg-color: #DDD;\n",
              "  }\n",
              "\n",
              "  [theme=dark] .colab-df-quickchart {\n",
              "      --bg-color: #3B4455;\n",
              "      --fill-color: #D2E3FC;\n",
              "      --hover-bg-color: #434B5C;\n",
              "      --hover-fill-color: #FFFFFF;\n",
              "      --disabled-bg-color: #3B4455;\n",
              "      --disabled-fill-color: #666;\n",
              "  }\n",
              "\n",
              "  .colab-df-quickchart {\n",
              "    background-color: var(--bg-color);\n",
              "    border: none;\n",
              "    border-radius: 50%;\n",
              "    cursor: pointer;\n",
              "    display: none;\n",
              "    fill: var(--fill-color);\n",
              "    height: 32px;\n",
              "    padding: 0;\n",
              "    width: 32px;\n",
              "  }\n",
              "\n",
              "  .colab-df-quickchart:hover {\n",
              "    background-color: var(--hover-bg-color);\n",
              "    box-shadow: 0 1px 2px rgba(60, 64, 67, 0.3), 0 1px 3px 1px rgba(60, 64, 67, 0.15);\n",
              "    fill: var(--button-hover-fill-color);\n",
              "  }\n",
              "\n",
              "  .colab-df-quickchart-complete:disabled,\n",
              "  .colab-df-quickchart-complete:disabled:hover {\n",
              "    background-color: var(--disabled-bg-color);\n",
              "    fill: var(--disabled-fill-color);\n",
              "    box-shadow: none;\n",
              "  }\n",
              "\n",
              "  .colab-df-spinner {\n",
              "    border: 2px solid var(--fill-color);\n",
              "    border-color: transparent;\n",
              "    border-bottom-color: var(--fill-color);\n",
              "    animation:\n",
              "      spin 1s steps(1) infinite;\n",
              "  }\n",
              "\n",
              "  @keyframes spin {\n",
              "    0% {\n",
              "      border-color: transparent;\n",
              "      border-bottom-color: var(--fill-color);\n",
              "      border-left-color: var(--fill-color);\n",
              "    }\n",
              "    20% {\n",
              "      border-color: transparent;\n",
              "      border-left-color: var(--fill-color);\n",
              "      border-top-color: var(--fill-color);\n",
              "    }\n",
              "    30% {\n",
              "      border-color: transparent;\n",
              "      border-left-color: var(--fill-color);\n",
              "      border-top-color: var(--fill-color);\n",
              "      border-right-color: var(--fill-color);\n",
              "    }\n",
              "    40% {\n",
              "      border-color: transparent;\n",
              "      border-right-color: var(--fill-color);\n",
              "      border-top-color: var(--fill-color);\n",
              "    }\n",
              "    60% {\n",
              "      border-color: transparent;\n",
              "      border-right-color: var(--fill-color);\n",
              "    }\n",
              "    80% {\n",
              "      border-color: transparent;\n",
              "      border-right-color: var(--fill-color);\n",
              "      border-bottom-color: var(--fill-color);\n",
              "    }\n",
              "    90% {\n",
              "      border-color: transparent;\n",
              "      border-bottom-color: var(--fill-color);\n",
              "    }\n",
              "  }\n",
              "</style>\n",
              "\n",
              "  <script>\n",
              "    async function quickchart(key) {\n",
              "      const quickchartButtonEl =\n",
              "        document.querySelector('#' + key + ' button');\n",
              "      quickchartButtonEl.disabled = true;  // To prevent multiple clicks.\n",
              "      quickchartButtonEl.classList.add('colab-df-spinner');\n",
              "      try {\n",
              "        const charts = await google.colab.kernel.invokeFunction(\n",
              "            'suggestCharts', [key], {});\n",
              "      } catch (error) {\n",
              "        console.error('Error during call to suggestCharts:', error);\n",
              "      }\n",
              "      quickchartButtonEl.classList.remove('colab-df-spinner');\n",
              "      quickchartButtonEl.classList.add('colab-df-quickchart-complete');\n",
              "    }\n",
              "    (() => {\n",
              "      let quickchartButtonEl =\n",
              "        document.querySelector('#df-595fabbb-f9b2-47a1-bd88-5f00e109e517 button');\n",
              "      quickchartButtonEl.style.display =\n",
              "        google.colab.kernel.accessAllowed ? 'block' : 'none';\n",
              "    })();\n",
              "  </script>\n",
              "</div>\n",
              "\n",
              "    </div>\n",
              "  </div>\n"
            ],
            "application/vnd.google.colaboratory.intrinsic+json": {
              "type": "dataframe",
              "variable_name": "data"
            }
          },
          "metadata": {},
          "execution_count": 19
        }
      ],
      "source": [
        "# Data source: https://www.kaggle.com/datasets/nelgiriyewithana/emotions\n",
        "# Load the raw data and print the first 5 rows\n",
        "data = pd.read_csv(\"/content/emotion.csv\")\n",
        "data[\"label\"] = data[\"label\"].astype(int)\n",
        "data.head()"
      ]
    },
    {
      "cell_type": "code",
      "execution_count": null,
      "metadata": {
        "id": "eBQlwX5SzQFd"
      },
      "outputs": [],
      "source": [
        "# sadness (0), joy (1), love (2), anger (3), fear (4), and surprise (5)"
      ]
    },
    {
      "cell_type": "markdown",
      "metadata": {
        "id": "P0DZMy9z1Uij"
      },
      "source": [
        "**Notes**\n",
        "\n",
        "Corpus = entire dataset (collection of documents - rows)\n",
        "\n",
        "Token = a word\n",
        "\n",
        "Vocabulary = collection of unique tokens from the corpus"
      ]
    },
    {
      "cell_type": "code",
      "execution_count": null,
      "metadata": {
        "colab": {
          "base_uri": "https://localhost:8080/"
        },
        "id": "H8x8RB8F1YEq",
        "outputId": "b5bf1b8e-3480-443d-f37f-65838eee38dd"
      },
      "outputs": [
        {
          "output_type": "stream",
          "name": "stdout",
          "text": [
            "<class 'pandas.core.frame.DataFrame'>\n",
            "RangeIndex: 416809 entries, 0 to 416808\n",
            "Data columns (total 3 columns):\n",
            " #   Column  Non-Null Count   Dtype \n",
            "---  ------  --------------   ----- \n",
            " 0   id      416809 non-null  int64 \n",
            " 1   text    416809 non-null  object\n",
            " 2   label   416809 non-null  int64 \n",
            "dtypes: int64(2), object(1)\n",
            "memory usage: 9.5+ MB\n"
          ]
        }
      ],
      "source": [
        "# Check data types and data frame info\n",
        "data.info()"
      ]
    },
    {
      "cell_type": "code",
      "execution_count": null,
      "metadata": {
        "colab": {
          "base_uri": "https://localhost:8080/"
        },
        "id": "579I94WE2UOh",
        "outputId": "b5faa2de-e9d1-40b9-9cec-e5d6ace2bf11"
      },
      "outputs": [
        {
          "output_type": "execute_result",
          "data": {
            "text/plain": [
              "id       0\n",
              "text     0\n",
              "label    0\n",
              "dtype: int64"
            ]
          },
          "metadata": {},
          "execution_count": 21
        }
      ],
      "source": [
        "# Check again to make sure no null document\n",
        "data.isnull().sum()"
      ]
    },
    {
      "cell_type": "code",
      "execution_count": null,
      "metadata": {
        "colab": {
          "base_uri": "https://localhost:8080/",
          "height": 241
        },
        "id": "MSu6Dl7I2pyX",
        "outputId": "7498c847-72d2-4819-a7eb-9bd3edfbe9c5"
      },
      "outputs": [
        {
          "output_type": "execute_result",
          "data": {
            "text/plain": [
              "                                                                                                                                                                                                      text  \\\n",
              "0                                                                                                                                                            i just feel really helpless and heavy hearted   \n",
              "1  ive enjoyed being able to slouch about relax and unwind and frankly needed it after those last few weeks around the end of uni and the expo i have lately started to find myself feeling a bit listl...   \n",
              "2                                                                                                                                          i gave up my internship with the dmrg and am feeling distraught   \n",
              "3                                                                                                                                                                               i dont know i feel so lost   \n",
              "4  i am a kindergarten teacher and i am thoroughly weary of my job after having taken the university entrance exam i suffered from anxiety for weeks as i did not want to carry on with my work studies...   \n",
              "\n",
              "   label  \n",
              "0      4  \n",
              "1      0  \n",
              "2      4  \n",
              "3      0  \n",
              "4      4  "
            ],
            "text/html": [
              "\n",
              "  <div id=\"df-cb432d50-d2b1-4895-9dbd-ce2c2a113863\" class=\"colab-df-container\">\n",
              "    <div>\n",
              "<style scoped>\n",
              "    .dataframe tbody tr th:only-of-type {\n",
              "        vertical-align: middle;\n",
              "    }\n",
              "\n",
              "    .dataframe tbody tr th {\n",
              "        vertical-align: top;\n",
              "    }\n",
              "\n",
              "    .dataframe thead th {\n",
              "        text-align: right;\n",
              "    }\n",
              "</style>\n",
              "<table border=\"1\" class=\"dataframe\">\n",
              "  <thead>\n",
              "    <tr style=\"text-align: right;\">\n",
              "      <th></th>\n",
              "      <th>text</th>\n",
              "      <th>label</th>\n",
              "    </tr>\n",
              "  </thead>\n",
              "  <tbody>\n",
              "    <tr>\n",
              "      <th>0</th>\n",
              "      <td>i just feel really helpless and heavy hearted</td>\n",
              "      <td>4</td>\n",
              "    </tr>\n",
              "    <tr>\n",
              "      <th>1</th>\n",
              "      <td>ive enjoyed being able to slouch about relax and unwind and frankly needed it after those last few weeks around the end of uni and the expo i have lately started to find myself feeling a bit listl...</td>\n",
              "      <td>0</td>\n",
              "    </tr>\n",
              "    <tr>\n",
              "      <th>2</th>\n",
              "      <td>i gave up my internship with the dmrg and am feeling distraught</td>\n",
              "      <td>4</td>\n",
              "    </tr>\n",
              "    <tr>\n",
              "      <th>3</th>\n",
              "      <td>i dont know i feel so lost</td>\n",
              "      <td>0</td>\n",
              "    </tr>\n",
              "    <tr>\n",
              "      <th>4</th>\n",
              "      <td>i am a kindergarten teacher and i am thoroughly weary of my job after having taken the university entrance exam i suffered from anxiety for weeks as i did not want to carry on with my work studies...</td>\n",
              "      <td>4</td>\n",
              "    </tr>\n",
              "  </tbody>\n",
              "</table>\n",
              "</div>\n",
              "    <div class=\"colab-df-buttons\">\n",
              "\n",
              "  <div class=\"colab-df-container\">\n",
              "    <button class=\"colab-df-convert\" onclick=\"convertToInteractive('df-cb432d50-d2b1-4895-9dbd-ce2c2a113863')\"\n",
              "            title=\"Convert this dataframe to an interactive table.\"\n",
              "            style=\"display:none;\">\n",
              "\n",
              "  <svg xmlns=\"http://www.w3.org/2000/svg\" height=\"24px\" viewBox=\"0 -960 960 960\">\n",
              "    <path d=\"M120-120v-720h720v720H120Zm60-500h600v-160H180v160Zm220 220h160v-160H400v160Zm0 220h160v-160H400v160ZM180-400h160v-160H180v160Zm440 0h160v-160H620v160ZM180-180h160v-160H180v160Zm440 0h160v-160H620v160Z\"/>\n",
              "  </svg>\n",
              "    </button>\n",
              "\n",
              "  <style>\n",
              "    .colab-df-container {\n",
              "      display:flex;\n",
              "      gap: 12px;\n",
              "    }\n",
              "\n",
              "    .colab-df-convert {\n",
              "      background-color: #E8F0FE;\n",
              "      border: none;\n",
              "      border-radius: 50%;\n",
              "      cursor: pointer;\n",
              "      display: none;\n",
              "      fill: #1967D2;\n",
              "      height: 32px;\n",
              "      padding: 0 0 0 0;\n",
              "      width: 32px;\n",
              "    }\n",
              "\n",
              "    .colab-df-convert:hover {\n",
              "      background-color: #E2EBFA;\n",
              "      box-shadow: 0px 1px 2px rgba(60, 64, 67, 0.3), 0px 1px 3px 1px rgba(60, 64, 67, 0.15);\n",
              "      fill: #174EA6;\n",
              "    }\n",
              "\n",
              "    .colab-df-buttons div {\n",
              "      margin-bottom: 4px;\n",
              "    }\n",
              "\n",
              "    [theme=dark] .colab-df-convert {\n",
              "      background-color: #3B4455;\n",
              "      fill: #D2E3FC;\n",
              "    }\n",
              "\n",
              "    [theme=dark] .colab-df-convert:hover {\n",
              "      background-color: #434B5C;\n",
              "      box-shadow: 0px 1px 3px 1px rgba(0, 0, 0, 0.15);\n",
              "      filter: drop-shadow(0px 1px 2px rgba(0, 0, 0, 0.3));\n",
              "      fill: #FFFFFF;\n",
              "    }\n",
              "  </style>\n",
              "\n",
              "    <script>\n",
              "      const buttonEl =\n",
              "        document.querySelector('#df-cb432d50-d2b1-4895-9dbd-ce2c2a113863 button.colab-df-convert');\n",
              "      buttonEl.style.display =\n",
              "        google.colab.kernel.accessAllowed ? 'block' : 'none';\n",
              "\n",
              "      async function convertToInteractive(key) {\n",
              "        const element = document.querySelector('#df-cb432d50-d2b1-4895-9dbd-ce2c2a113863');\n",
              "        const dataTable =\n",
              "          await google.colab.kernel.invokeFunction('convertToInteractive',\n",
              "                                                    [key], {});\n",
              "        if (!dataTable) return;\n",
              "\n",
              "        const docLinkHtml = 'Like what you see? Visit the ' +\n",
              "          '<a target=\"_blank\" href=https://colab.research.google.com/notebooks/data_table.ipynb>data table notebook</a>'\n",
              "          + ' to learn more about interactive tables.';\n",
              "        element.innerHTML = '';\n",
              "        dataTable['output_type'] = 'display_data';\n",
              "        await google.colab.output.renderOutput(dataTable, element);\n",
              "        const docLink = document.createElement('div');\n",
              "        docLink.innerHTML = docLinkHtml;\n",
              "        element.appendChild(docLink);\n",
              "      }\n",
              "    </script>\n",
              "  </div>\n",
              "\n",
              "\n",
              "<div id=\"df-dcf3d368-012f-4a4b-af5c-e7c50520900b\">\n",
              "  <button class=\"colab-df-quickchart\" onclick=\"quickchart('df-dcf3d368-012f-4a4b-af5c-e7c50520900b')\"\n",
              "            title=\"Suggest charts\"\n",
              "            style=\"display:none;\">\n",
              "\n",
              "<svg xmlns=\"http://www.w3.org/2000/svg\" height=\"24px\"viewBox=\"0 0 24 24\"\n",
              "     width=\"24px\">\n",
              "    <g>\n",
              "        <path d=\"M19 3H5c-1.1 0-2 .9-2 2v14c0 1.1.9 2 2 2h14c1.1 0 2-.9 2-2V5c0-1.1-.9-2-2-2zM9 17H7v-7h2v7zm4 0h-2V7h2v10zm4 0h-2v-4h2v4z\"/>\n",
              "    </g>\n",
              "</svg>\n",
              "  </button>\n",
              "\n",
              "<style>\n",
              "  .colab-df-quickchart {\n",
              "      --bg-color: #E8F0FE;\n",
              "      --fill-color: #1967D2;\n",
              "      --hover-bg-color: #E2EBFA;\n",
              "      --hover-fill-color: #174EA6;\n",
              "      --disabled-fill-color: #AAA;\n",
              "      --disabled-bg-color: #DDD;\n",
              "  }\n",
              "\n",
              "  [theme=dark] .colab-df-quickchart {\n",
              "      --bg-color: #3B4455;\n",
              "      --fill-color: #D2E3FC;\n",
              "      --hover-bg-color: #434B5C;\n",
              "      --hover-fill-color: #FFFFFF;\n",
              "      --disabled-bg-color: #3B4455;\n",
              "      --disabled-fill-color: #666;\n",
              "  }\n",
              "\n",
              "  .colab-df-quickchart {\n",
              "    background-color: var(--bg-color);\n",
              "    border: none;\n",
              "    border-radius: 50%;\n",
              "    cursor: pointer;\n",
              "    display: none;\n",
              "    fill: var(--fill-color);\n",
              "    height: 32px;\n",
              "    padding: 0;\n",
              "    width: 32px;\n",
              "  }\n",
              "\n",
              "  .colab-df-quickchart:hover {\n",
              "    background-color: var(--hover-bg-color);\n",
              "    box-shadow: 0 1px 2px rgba(60, 64, 67, 0.3), 0 1px 3px 1px rgba(60, 64, 67, 0.15);\n",
              "    fill: var(--button-hover-fill-color);\n",
              "  }\n",
              "\n",
              "  .colab-df-quickchart-complete:disabled,\n",
              "  .colab-df-quickchart-complete:disabled:hover {\n",
              "    background-color: var(--disabled-bg-color);\n",
              "    fill: var(--disabled-fill-color);\n",
              "    box-shadow: none;\n",
              "  }\n",
              "\n",
              "  .colab-df-spinner {\n",
              "    border: 2px solid var(--fill-color);\n",
              "    border-color: transparent;\n",
              "    border-bottom-color: var(--fill-color);\n",
              "    animation:\n",
              "      spin 1s steps(1) infinite;\n",
              "  }\n",
              "\n",
              "  @keyframes spin {\n",
              "    0% {\n",
              "      border-color: transparent;\n",
              "      border-bottom-color: var(--fill-color);\n",
              "      border-left-color: var(--fill-color);\n",
              "    }\n",
              "    20% {\n",
              "      border-color: transparent;\n",
              "      border-left-color: var(--fill-color);\n",
              "      border-top-color: var(--fill-color);\n",
              "    }\n",
              "    30% {\n",
              "      border-color: transparent;\n",
              "      border-left-color: var(--fill-color);\n",
              "      border-top-color: var(--fill-color);\n",
              "      border-right-color: var(--fill-color);\n",
              "    }\n",
              "    40% {\n",
              "      border-color: transparent;\n",
              "      border-right-color: var(--fill-color);\n",
              "      border-top-color: var(--fill-color);\n",
              "    }\n",
              "    60% {\n",
              "      border-color: transparent;\n",
              "      border-right-color: var(--fill-color);\n",
              "    }\n",
              "    80% {\n",
              "      border-color: transparent;\n",
              "      border-right-color: var(--fill-color);\n",
              "      border-bottom-color: var(--fill-color);\n",
              "    }\n",
              "    90% {\n",
              "      border-color: transparent;\n",
              "      border-bottom-color: var(--fill-color);\n",
              "    }\n",
              "  }\n",
              "</style>\n",
              "\n",
              "  <script>\n",
              "    async function quickchart(key) {\n",
              "      const quickchartButtonEl =\n",
              "        document.querySelector('#' + key + ' button');\n",
              "      quickchartButtonEl.disabled = true;  // To prevent multiple clicks.\n",
              "      quickchartButtonEl.classList.add('colab-df-spinner');\n",
              "      try {\n",
              "        const charts = await google.colab.kernel.invokeFunction(\n",
              "            'suggestCharts', [key], {});\n",
              "      } catch (error) {\n",
              "        console.error('Error during call to suggestCharts:', error);\n",
              "      }\n",
              "      quickchartButtonEl.classList.remove('colab-df-spinner');\n",
              "      quickchartButtonEl.classList.add('colab-df-quickchart-complete');\n",
              "    }\n",
              "    (() => {\n",
              "      let quickchartButtonEl =\n",
              "        document.querySelector('#df-dcf3d368-012f-4a4b-af5c-e7c50520900b button');\n",
              "      quickchartButtonEl.style.display =\n",
              "        google.colab.kernel.accessAllowed ? 'block' : 'none';\n",
              "    })();\n",
              "  </script>\n",
              "</div>\n",
              "\n",
              "    </div>\n",
              "  </div>\n"
            ],
            "application/vnd.google.colaboratory.intrinsic+json": {
              "type": "dataframe",
              "variable_name": "data"
            }
          },
          "metadata": {},
          "execution_count": 22
        }
      ],
      "source": [
        "# We do not need the id column as it has no meaning to the model\n",
        "# axis = 0 means drop rows; axis = 1 means drop cols\n",
        "# inplace = True means modifies the original data frame or returns a new one\n",
        "\n",
        "data.drop(['id'], axis=1, inplace=True)\n",
        "data.head()"
      ]
    },
    {
      "cell_type": "code",
      "execution_count": null,
      "metadata": {
        "colab": {
          "base_uri": "https://localhost:8080/"
        },
        "id": "K41uSwHj3Gvc",
        "outputId": "52134742-9cd6-44c4-97e8-de75b3cd96dc"
      },
      "outputs": [
        {
          "output_type": "execute_result",
          "data": {
            "text/plain": [
              "label\n",
              "1    0.338445\n",
              "0    0.290749\n",
              "3    0.137514\n",
              "4    0.114470\n",
              "2    0.082901\n",
              "5    0.035921\n",
              "Name: proportion, dtype: float64"
            ]
          },
          "metadata": {},
          "execution_count": 23
        }
      ],
      "source": [
        "# Check for class balance\n",
        "# normalize=True, it returns the relative frequencies of each unique value instead of the counts.\n",
        "\n",
        "data[\"label\"].value_counts(normalize=True)"
      ]
    },
    {
      "cell_type": "markdown",
      "metadata": {
        "id": "rXtjIX9v47Nt"
      },
      "source": [
        "**Notes**\n",
        "\n",
        "I can see here there is no imbalance issues\n",
        "\n",
        "Imbalance issue happens when 90% of samples belong to a class. Lead to biased model performance, as the model may favor the majority class."
      ]
    },
    {
      "cell_type": "markdown",
      "metadata": {
        "id": "M9yoDyKI6Mun"
      },
      "source": [
        "# Data cleaning"
      ]
    },
    {
      "cell_type": "markdown",
      "metadata": {
        "id": "P-8Osv23ELbo"
      },
      "source": [
        "## Text Cleaning"
      ]
    },
    {
      "cell_type": "code",
      "execution_count": null,
      "metadata": {
        "colab": {
          "base_uri": "https://localhost:8080/",
          "height": 241
        },
        "id": "0FG9yOWB6WoG",
        "outputId": "e4c46391-e965-45e5-ad57-63d6b1817d60"
      },
      "outputs": [
        {
          "output_type": "execute_result",
          "data": {
            "text/plain": [
              "                                                                                                                                                                                                      text  \\\n",
              "0                                                                                                                                                            i just feel really helpless and heavy hearted   \n",
              "1  ive enjoyed being able to slouch about relax and unwind and frankly needed it after those last few weeks around the end of uni and the expo i have lately started to find myself feeling a bit listl...   \n",
              "2                                                                                                                                          i gave up my internship with the dmrg and am feeling distraught   \n",
              "3                                                                                                                                                                               i dont know i feel so lost   \n",
              "4  i am a kindergarten teacher and i am thoroughly weary of my job after having taken the university entrance exam i suffered from anxiety for weeks as i did not want to carry on with my work studies...   \n",
              "\n",
              "   label  \n",
              "0      4  \n",
              "1      0  \n",
              "2      4  \n",
              "3      0  \n",
              "4      4  "
            ],
            "text/html": [
              "\n",
              "  <div id=\"df-077366a1-1f46-47ed-b454-e5f7f44a7432\" class=\"colab-df-container\">\n",
              "    <div>\n",
              "<style scoped>\n",
              "    .dataframe tbody tr th:only-of-type {\n",
              "        vertical-align: middle;\n",
              "    }\n",
              "\n",
              "    .dataframe tbody tr th {\n",
              "        vertical-align: top;\n",
              "    }\n",
              "\n",
              "    .dataframe thead th {\n",
              "        text-align: right;\n",
              "    }\n",
              "</style>\n",
              "<table border=\"1\" class=\"dataframe\">\n",
              "  <thead>\n",
              "    <tr style=\"text-align: right;\">\n",
              "      <th></th>\n",
              "      <th>text</th>\n",
              "      <th>label</th>\n",
              "    </tr>\n",
              "  </thead>\n",
              "  <tbody>\n",
              "    <tr>\n",
              "      <th>0</th>\n",
              "      <td>i just feel really helpless and heavy hearted</td>\n",
              "      <td>4</td>\n",
              "    </tr>\n",
              "    <tr>\n",
              "      <th>1</th>\n",
              "      <td>ive enjoyed being able to slouch about relax and unwind and frankly needed it after those last few weeks around the end of uni and the expo i have lately started to find myself feeling a bit listl...</td>\n",
              "      <td>0</td>\n",
              "    </tr>\n",
              "    <tr>\n",
              "      <th>2</th>\n",
              "      <td>i gave up my internship with the dmrg and am feeling distraught</td>\n",
              "      <td>4</td>\n",
              "    </tr>\n",
              "    <tr>\n",
              "      <th>3</th>\n",
              "      <td>i dont know i feel so lost</td>\n",
              "      <td>0</td>\n",
              "    </tr>\n",
              "    <tr>\n",
              "      <th>4</th>\n",
              "      <td>i am a kindergarten teacher and i am thoroughly weary of my job after having taken the university entrance exam i suffered from anxiety for weeks as i did not want to carry on with my work studies...</td>\n",
              "      <td>4</td>\n",
              "    </tr>\n",
              "  </tbody>\n",
              "</table>\n",
              "</div>\n",
              "    <div class=\"colab-df-buttons\">\n",
              "\n",
              "  <div class=\"colab-df-container\">\n",
              "    <button class=\"colab-df-convert\" onclick=\"convertToInteractive('df-077366a1-1f46-47ed-b454-e5f7f44a7432')\"\n",
              "            title=\"Convert this dataframe to an interactive table.\"\n",
              "            style=\"display:none;\">\n",
              "\n",
              "  <svg xmlns=\"http://www.w3.org/2000/svg\" height=\"24px\" viewBox=\"0 -960 960 960\">\n",
              "    <path d=\"M120-120v-720h720v720H120Zm60-500h600v-160H180v160Zm220 220h160v-160H400v160Zm0 220h160v-160H400v160ZM180-400h160v-160H180v160Zm440 0h160v-160H620v160ZM180-180h160v-160H180v160Zm440 0h160v-160H620v160Z\"/>\n",
              "  </svg>\n",
              "    </button>\n",
              "\n",
              "  <style>\n",
              "    .colab-df-container {\n",
              "      display:flex;\n",
              "      gap: 12px;\n",
              "    }\n",
              "\n",
              "    .colab-df-convert {\n",
              "      background-color: #E8F0FE;\n",
              "      border: none;\n",
              "      border-radius: 50%;\n",
              "      cursor: pointer;\n",
              "      display: none;\n",
              "      fill: #1967D2;\n",
              "      height: 32px;\n",
              "      padding: 0 0 0 0;\n",
              "      width: 32px;\n",
              "    }\n",
              "\n",
              "    .colab-df-convert:hover {\n",
              "      background-color: #E2EBFA;\n",
              "      box-shadow: 0px 1px 2px rgba(60, 64, 67, 0.3), 0px 1px 3px 1px rgba(60, 64, 67, 0.15);\n",
              "      fill: #174EA6;\n",
              "    }\n",
              "\n",
              "    .colab-df-buttons div {\n",
              "      margin-bottom: 4px;\n",
              "    }\n",
              "\n",
              "    [theme=dark] .colab-df-convert {\n",
              "      background-color: #3B4455;\n",
              "      fill: #D2E3FC;\n",
              "    }\n",
              "\n",
              "    [theme=dark] .colab-df-convert:hover {\n",
              "      background-color: #434B5C;\n",
              "      box-shadow: 0px 1px 3px 1px rgba(0, 0, 0, 0.15);\n",
              "      filter: drop-shadow(0px 1px 2px rgba(0, 0, 0, 0.3));\n",
              "      fill: #FFFFFF;\n",
              "    }\n",
              "  </style>\n",
              "\n",
              "    <script>\n",
              "      const buttonEl =\n",
              "        document.querySelector('#df-077366a1-1f46-47ed-b454-e5f7f44a7432 button.colab-df-convert');\n",
              "      buttonEl.style.display =\n",
              "        google.colab.kernel.accessAllowed ? 'block' : 'none';\n",
              "\n",
              "      async function convertToInteractive(key) {\n",
              "        const element = document.querySelector('#df-077366a1-1f46-47ed-b454-e5f7f44a7432');\n",
              "        const dataTable =\n",
              "          await google.colab.kernel.invokeFunction('convertToInteractive',\n",
              "                                                    [key], {});\n",
              "        if (!dataTable) return;\n",
              "\n",
              "        const docLinkHtml = 'Like what you see? Visit the ' +\n",
              "          '<a target=\"_blank\" href=https://colab.research.google.com/notebooks/data_table.ipynb>data table notebook</a>'\n",
              "          + ' to learn more about interactive tables.';\n",
              "        element.innerHTML = '';\n",
              "        dataTable['output_type'] = 'display_data';\n",
              "        await google.colab.output.renderOutput(dataTable, element);\n",
              "        const docLink = document.createElement('div');\n",
              "        docLink.innerHTML = docLinkHtml;\n",
              "        element.appendChild(docLink);\n",
              "      }\n",
              "    </script>\n",
              "  </div>\n",
              "\n",
              "\n",
              "<div id=\"df-c92813dd-1f84-45ba-b0f0-f91cb0729fec\">\n",
              "  <button class=\"colab-df-quickchart\" onclick=\"quickchart('df-c92813dd-1f84-45ba-b0f0-f91cb0729fec')\"\n",
              "            title=\"Suggest charts\"\n",
              "            style=\"display:none;\">\n",
              "\n",
              "<svg xmlns=\"http://www.w3.org/2000/svg\" height=\"24px\"viewBox=\"0 0 24 24\"\n",
              "     width=\"24px\">\n",
              "    <g>\n",
              "        <path d=\"M19 3H5c-1.1 0-2 .9-2 2v14c0 1.1.9 2 2 2h14c1.1 0 2-.9 2-2V5c0-1.1-.9-2-2-2zM9 17H7v-7h2v7zm4 0h-2V7h2v10zm4 0h-2v-4h2v4z\"/>\n",
              "    </g>\n",
              "</svg>\n",
              "  </button>\n",
              "\n",
              "<style>\n",
              "  .colab-df-quickchart {\n",
              "      --bg-color: #E8F0FE;\n",
              "      --fill-color: #1967D2;\n",
              "      --hover-bg-color: #E2EBFA;\n",
              "      --hover-fill-color: #174EA6;\n",
              "      --disabled-fill-color: #AAA;\n",
              "      --disabled-bg-color: #DDD;\n",
              "  }\n",
              "\n",
              "  [theme=dark] .colab-df-quickchart {\n",
              "      --bg-color: #3B4455;\n",
              "      --fill-color: #D2E3FC;\n",
              "      --hover-bg-color: #434B5C;\n",
              "      --hover-fill-color: #FFFFFF;\n",
              "      --disabled-bg-color: #3B4455;\n",
              "      --disabled-fill-color: #666;\n",
              "  }\n",
              "\n",
              "  .colab-df-quickchart {\n",
              "    background-color: var(--bg-color);\n",
              "    border: none;\n",
              "    border-radius: 50%;\n",
              "    cursor: pointer;\n",
              "    display: none;\n",
              "    fill: var(--fill-color);\n",
              "    height: 32px;\n",
              "    padding: 0;\n",
              "    width: 32px;\n",
              "  }\n",
              "\n",
              "  .colab-df-quickchart:hover {\n",
              "    background-color: var(--hover-bg-color);\n",
              "    box-shadow: 0 1px 2px rgba(60, 64, 67, 0.3), 0 1px 3px 1px rgba(60, 64, 67, 0.15);\n",
              "    fill: var(--button-hover-fill-color);\n",
              "  }\n",
              "\n",
              "  .colab-df-quickchart-complete:disabled,\n",
              "  .colab-df-quickchart-complete:disabled:hover {\n",
              "    background-color: var(--disabled-bg-color);\n",
              "    fill: var(--disabled-fill-color);\n",
              "    box-shadow: none;\n",
              "  }\n",
              "\n",
              "  .colab-df-spinner {\n",
              "    border: 2px solid var(--fill-color);\n",
              "    border-color: transparent;\n",
              "    border-bottom-color: var(--fill-color);\n",
              "    animation:\n",
              "      spin 1s steps(1) infinite;\n",
              "  }\n",
              "\n",
              "  @keyframes spin {\n",
              "    0% {\n",
              "      border-color: transparent;\n",
              "      border-bottom-color: var(--fill-color);\n",
              "      border-left-color: var(--fill-color);\n",
              "    }\n",
              "    20% {\n",
              "      border-color: transparent;\n",
              "      border-left-color: var(--fill-color);\n",
              "      border-top-color: var(--fill-color);\n",
              "    }\n",
              "    30% {\n",
              "      border-color: transparent;\n",
              "      border-left-color: var(--fill-color);\n",
              "      border-top-color: var(--fill-color);\n",
              "      border-right-color: var(--fill-color);\n",
              "    }\n",
              "    40% {\n",
              "      border-color: transparent;\n",
              "      border-right-color: var(--fill-color);\n",
              "      border-top-color: var(--fill-color);\n",
              "    }\n",
              "    60% {\n",
              "      border-color: transparent;\n",
              "      border-right-color: var(--fill-color);\n",
              "    }\n",
              "    80% {\n",
              "      border-color: transparent;\n",
              "      border-right-color: var(--fill-color);\n",
              "      border-bottom-color: var(--fill-color);\n",
              "    }\n",
              "    90% {\n",
              "      border-color: transparent;\n",
              "      border-bottom-color: var(--fill-color);\n",
              "    }\n",
              "  }\n",
              "</style>\n",
              "\n",
              "  <script>\n",
              "    async function quickchart(key) {\n",
              "      const quickchartButtonEl =\n",
              "        document.querySelector('#' + key + ' button');\n",
              "      quickchartButtonEl.disabled = true;  // To prevent multiple clicks.\n",
              "      quickchartButtonEl.classList.add('colab-df-spinner');\n",
              "      try {\n",
              "        const charts = await google.colab.kernel.invokeFunction(\n",
              "            'suggestCharts', [key], {});\n",
              "      } catch (error) {\n",
              "        console.error('Error during call to suggestCharts:', error);\n",
              "      }\n",
              "      quickchartButtonEl.classList.remove('colab-df-spinner');\n",
              "      quickchartButtonEl.classList.add('colab-df-quickchart-complete');\n",
              "    }\n",
              "    (() => {\n",
              "      let quickchartButtonEl =\n",
              "        document.querySelector('#df-c92813dd-1f84-45ba-b0f0-f91cb0729fec button');\n",
              "      quickchartButtonEl.style.display =\n",
              "        google.colab.kernel.accessAllowed ? 'block' : 'none';\n",
              "    })();\n",
              "  </script>\n",
              "</div>\n",
              "\n",
              "    </div>\n",
              "  </div>\n"
            ],
            "application/vnd.google.colaboratory.intrinsic+json": {
              "type": "dataframe",
              "variable_name": "data"
            }
          },
          "metadata": {},
          "execution_count": 8
        }
      ],
      "source": [
        "data.head()"
      ]
    },
    {
      "cell_type": "markdown",
      "metadata": {
        "id": "C-MqzE416Pf_"
      },
      "source": [
        "**Notes**\n",
        "\n",
        "In my data set, some words are written not correctly, that lead to a problem that both stopwords and contractions can not recognize it. Most of the cases that the contractions have '\n",
        "\n",
        "\"didn't\" but \"didn t\"\n",
        "\n",
        "\"don't\" but \"don t\"\n",
        "\n"
      ]
    },
    {
      "cell_type": "code",
      "execution_count": null,
      "metadata": {
        "id": "fYORT1J66fpU"
      },
      "outputs": [],
      "source": [
        "# Using regular expressions lib\n",
        "\n",
        "import re"
      ]
    },
    {
      "cell_type": "markdown",
      "metadata": {
        "id": "5AorVebw7CaZ"
      },
      "source": [
        "Some examples"
      ]
    },
    {
      "cell_type": "code",
      "execution_count": null,
      "metadata": {
        "colab": {
          "base_uri": "https://localhost:8080/",
          "height": 53
        },
        "id": "vL0vH7VB61HG",
        "outputId": "d3f47b8b-6ce6-4137-8c07-fd475caee29f"
      },
      "outputs": [
        {
          "output_type": "execute_result",
          "data": {
            "text/plain": [
              "'i have enjoyed being able to slouch about relax and unwind and frankly needed it after those last few weeks around the end of uni and the expo i have lately started to find myself feeling a bit listless which is never really a good thing'"
            ],
            "application/vnd.google.colaboratory.intrinsic+json": {
              "type": "string"
            }
          },
          "metadata": {},
          "execution_count": 10
        }
      ],
      "source": [
        "# Replace ive with i have\n",
        "# The ive must be inside \\b and \\b. Because I only want to replace the ive text that stands alone.\n",
        "# For example\n",
        "# ive a dog -> i have a dog\n",
        "# Not\n",
        "# i live in sydney -> i li have in sydney\n",
        "\n",
        "re.sub(r\"\\bive\\b\", \"i have\", data[\"text\"][1])"
      ]
    },
    {
      "cell_type": "code",
      "execution_count": null,
      "metadata": {
        "colab": {
          "base_uri": "https://localhost:8080/",
          "height": 53
        },
        "id": "rYrpbtcW8MU2",
        "outputId": "72cc2e95-fa2d-4a4f-e746-e9f3c239721e"
      },
      "outputs": [
        {
          "output_type": "execute_result",
          "data": {
            "text/plain": [
              "'ive enjoyed being able to slouch about relax and unwind and frankly needed it after those last few weeks around the end of uni and the expo i have lately started to find myself feeling a bit listless which is never really a good thing'"
            ],
            "application/vnd.google.colaboratory.intrinsic+json": {
              "type": "string"
            }
          },
          "metadata": {},
          "execution_count": 11
        }
      ],
      "source": [
        "# Remove any number, special chars \"!,.\", for emotion detection, these are not pay an important role.\n",
        "re.sub(r'[^a-zA-Z\\s]', '', data[\"text\"][1])"
      ]
    },
    {
      "cell_type": "markdown",
      "metadata": {
        "id": "3_KI5fmG-zh4"
      },
      "source": [
        "## Stopwords"
      ]
    },
    {
      "cell_type": "code",
      "execution_count": null,
      "metadata": {
        "colab": {
          "base_uri": "https://localhost:8080/"
        },
        "id": "VNERn1oZ-15g",
        "outputId": "42938354-4938-4347-bc18-131eccc4434b"
      },
      "outputs": [
        {
          "output_type": "stream",
          "name": "stderr",
          "text": [
            "[nltk_data] Downloading package stopwords to /root/nltk_data...\n",
            "[nltk_data]   Unzipping corpora/stopwords.zip.\n"
          ]
        }
      ],
      "source": [
        "# Using lib nltk (Natural Language Toolkit)\n",
        "\n",
        "import nltk\n",
        "nltk.download('stopwords')\n",
        "from nltk.corpus import stopwords"
      ]
    },
    {
      "cell_type": "code",
      "execution_count": null,
      "metadata": {
        "colab": {
          "base_uri": "https://localhost:8080/"
        },
        "id": "P_0qhptF_jxU",
        "outputId": "4b8f7ddc-86c1-4df1-9def-9b0a9fd4e8e4"
      },
      "outputs": [
        {
          "output_type": "stream",
          "name": "stdout",
          "text": [
            "{'any', 'how', 'been', 'does', 'them', 'below', \"didn't\", 'their', 'more', 'isn', 'once', 'own', 'his', 'only', 'there', 'in', \"you're\", 'few', 'o', 'having', 'why', 'for', 'but', 'again', 'is', 'herself', 'because', 'has', 'when', 'an', 'all', 'over', 'between', 'too', 'if', \"should've\", 'by', \"it's\", 'don', \"wouldn't\", 'above', 'will', \"you'll\", 'each', \"don't\", 'of', \"needn't\", 'won', 'shouldn', 'further', 'they', 'hasn', 'which', 'most', 'him', 'he', 's', 'with', 'my', 'being', 'did', 'or', \"haven't\", \"couldn't\", 'mustn', 'that', 'what', 'hers', 'was', 'shan', 'a', 'until', 'under', 'can', 'himself', 'before', 'off', \"shouldn't\", 'wouldn', 'y', 'am', 'against', 'had', 'it', 'hadn', 'no', 'into', 'than', 'themselves', 'both', 'myself', 'now', 'we', 'whom', 'needn', 'weren', 'yours', 'ourselves', 'then', 'me', 'these', \"that'll\", 'who', 'be', 'should', 've', 're', \"mustn't\", 'were', \"she's\", 'out', 'll', 'where', 'its', \"hasn't\", 'do', 'those', 'her', 'so', \"shan't\", 'have', 'just', 'd', 'through', 'our', 'this', 'during', 't', 'on', 'up', 'mightn', \"isn't\", 'you', 'after', 'are', 'and', 'while', 'very', 'didn', 'wasn', 'i', 'm', 'about', 'from', 'couldn', \"you'd\", 'to', 'doesn', \"hadn't\", \"won't\", 'haven', \"weren't\", 'your', 'other', 'ours', 'such', 'nor', \"mightn't\", 'at', 'down', 'aren', \"doesn't\", 'theirs', 'the', 'same', 'ain', 'here', 'doing', 'not', 'itself', 'ma', 'as', 'she', 'yourselves', \"wasn't\", 'yourself', 'some', \"you've\", \"aren't\"}\n"
          ]
        }
      ],
      "source": [
        "# Stop words are non informative words. It has no meaning for emotion detection\n",
        "\n",
        "nltk_stopwords = set(stopwords.words(\"english\"))\n",
        "print(nltk_stopwords)"
      ]
    },
    {
      "cell_type": "code",
      "execution_count": null,
      "metadata": {
        "colab": {
          "base_uri": "https://localhost:8080/"
        },
        "id": "R_Nd3ElSAR7F",
        "outputId": "7bf55fe0-ed11-48aa-fafd-06645c339e69"
      },
      "outputs": [
        {
          "output_type": "execute_result",
          "data": {
            "text/plain": [
              "179"
            ]
          },
          "metadata": {},
          "execution_count": 14
        }
      ],
      "source": [
        "# There are 179 stop words from the nltk lib\n",
        "\n",
        "len(nltk_stopwords)"
      ]
    },
    {
      "cell_type": "code",
      "execution_count": null,
      "metadata": {
        "colab": {
          "base_uri": "https://localhost:8080/"
        },
        "id": "xEd9OKtCAjHs",
        "outputId": "097241af-85c0-46f1-9e3c-1496525eebd3"
      },
      "outputs": [
        {
          "output_type": "stream",
          "name": "stdout",
          "text": [
            "{'any', 'none', 'well', 'them', 'else', 'move', 'below', 'whenever', 'everything', 'twelve', 'more', 'anywhere', 'side', 'once', 'latter', 'own', 'only', 'first', 'there', 'beside', 'serious', 'namely', 'also', 'bottom', 'beforehand', 'for', 'but', 'de', 'again', 'because', 'an', 'among', 'hundred', 'over', 'fifteen', 'inc', 'if', 'by', 'amongst', 'nobody', 'above', 'will', 'several', 'otherwise', 'across', 'behind', 'amount', 'which', 'almost', 'him', 'nothing', 'being', 'name', 'made', 'whatever', 'thru', 'that', 'already', 'fill', 'what', 'throughout', 'a', 'until', 'can', 'without', 'before', 'am', 'it', 'thereby', 'into', 'than', 'get', 'six', 'hereby', 'upon', 'both', 'now', 'thence', 'thick', 'bill', 'whereas', 'neither', 'toward', 'describe', 'yours', 'wherein', 'least', 'me', 'anyway', 'then', 'these', 'around', 'four', 'whoever', 'third', 'enough', 'noone', 'eight', 'everywhere', 're', 'whether', 'someone', 'never', 'out', 'where', 'part', 'three', 'whereupon', 'done', 'even', 'her', 'would', 'so', 'mine', 'back', 'have', 'thereafter', 'along', 'our', 'during', 'you', 'after', 'very', 'while', 'latterly', 'nevertheless', 'i', 'somewhere', 'except', 'may', 'about', 'from', 'two', 'whence', 'take', 'rather', 'thus', 'go', 'something', 'ours', 'at', 'mostly', 'the', 'not', 'itself', 'un', 'as', 'cannot', 'she', 'every', 'yourself', 'others', 'fire', 'how', 'been', 'herein', 'nine', 'thereupon', 'via', 'everyone', 'afterwards', 'meanwhile', 'per', 'their', 'might', 'interest', 'thin', 'co', 'whose', 'therein', 'ever', 'his', 'hence', 'towards', 'in', 'few', 'why', 'is', 'herself', 'one', 'has', 'when', 'although', 'all', 'see', 'whither', 'found', 'between', 'too', 'each', 'of', 'show', 'further', 'they', 'cry', 'whereby', 'hereafter', 'most', 'yet', 'he', 'moreover', 'anyhow', 'with', 'my', 'or', 'anything', 'nowhere', 'front', 'therefore', 'hers', 'was', 'full', 'former', 'empty', 'con', 'under', 'besides', 'elsewhere', 'himself', 'keep', 'off', 'seems', 'against', 'had', 'seeming', 'no', 'forty', 'find', 'etc', 'since', 'twenty', 'ten', 'themselves', 'fifty', 'myself', 'we', 'whom', 'becomes', 'sometime', 'system', 'became', 'within', 'alone', 'ourselves', 'either', 'please', 'mill', 'beyond', 'ie', 'though', 'becoming', 'wherever', 'who', 'be', 'top', 'sometimes', 'detail', 'should', 'somehow', 'sixty', 'together', 'were', 'cant', 'ltd', 'indeed', 'its', 'formerly', 'hasnt', 'still', 'do', 'those', 'always', 'hereupon', 'next', 'us', 'through', 'this', 'less', 'on', 'eleven', 'onto', 'up', 'are', 'often', 'and', 'due', 'many', 'whereafter', 'could', 'much', 'call', 'seemed', 'to', 'eg', 'sincere', 'anyone', 'however', 'become', 'other', 'nor', 'such', 'your', 'down', 'perhaps', 'couldnt', 'five', 'seem', 'give', 'same', 'last', 'here', 'put', 'whole', 'must', 'amoungst', 'yourselves', 'another', 'some'}\n"
          ]
        }
      ],
      "source": [
        "# There is another lib that provides stop words\n",
        "# I want to combine the stop words list from both libs\n",
        "\n",
        "from sklearn.feature_extraction.text import ENGLISH_STOP_WORDS\n",
        "sklearn_stopwords = set(ENGLISH_STOP_WORDS)\n",
        "print(sklearn_stopwords)"
      ]
    },
    {
      "cell_type": "code",
      "execution_count": null,
      "metadata": {
        "colab": {
          "base_uri": "https://localhost:8080/"
        },
        "id": "IXeEvyPLBNh9",
        "outputId": "c5c777e6-823a-46c5-b7d0-038b3745ea82"
      },
      "outputs": [
        {
          "output_type": "execute_result",
          "data": {
            "text/plain": [
              "318"
            ]
          },
          "metadata": {},
          "execution_count": 16
        }
      ],
      "source": [
        "# There are 318 stop words from the sklearn lib\n",
        "\n",
        "len(sklearn_stopwords)"
      ]
    },
    {
      "cell_type": "code",
      "execution_count": null,
      "metadata": {
        "colab": {
          "base_uri": "https://localhost:8080/"
        },
        "id": "frukAtNmB566",
        "outputId": "c8e032d5-0c46-4ec1-9c10-915e5cf434f1"
      },
      "outputs": [
        {
          "output_type": "execute_result",
          "data": {
            "text/plain": [
              "380"
            ]
          },
          "metadata": {},
          "execution_count": 17
        }
      ],
      "source": [
        "# Combine stop words lists\n",
        "\n",
        "domain_stopwords = [\"feel\", \"feeling\"]\n",
        "\n",
        "combine_stopwords = domain_stopwords + list(nltk_stopwords.union(sklearn_stopwords))\n",
        "\n",
        "len(combine_stopwords)"
      ]
    },
    {
      "cell_type": "code",
      "execution_count": null,
      "metadata": {
        "colab": {
          "base_uri": "https://localhost:8080/"
        },
        "id": "umpkqjwgCaaR",
        "outputId": "0236cab5-33a1-47b6-f90f-bd8b7acff3c6"
      },
      "outputs": [
        {
          "output_type": "stream",
          "name": "stdout",
          "text": [
            "['feel', 'feeling', 'any', 'none', 'well', 'does', 'them', 'else', 'move', 'below', 'whenever', 'everything', 'twelve', 'more', 'isn', 'anywhere', 'side', 'once', 'latter', 'own', 'only', 'first', 'there', 'beside', 'serious', 'namely', 'having', 'also', 'bottom', 'beforehand', 'for', 'but', 'de', 'again', 'because', 'an', 'among', 'hundred', 'over', 'fifteen', 'inc', 'if', \"should've\", 'by', 'amongst', \"wouldn't\", 'nobody', 'above', 'will', \"you'll\", \"needn't\", 'several', 'otherwise', 'across', 'behind', 'hasn', 'amount', 'which', 'almost', 'him', 'nothing', 'being', \"haven't\", 'name', 'made', 'whatever', 'thru', \"couldn't\", 'that', 'already', 'what', 'fill', 'throughout', 'shan', 'a', 'until', 'can', 'without', 'wouldn', 'before', 'am', 'it', 'hadn', 'thereby', 'into', 'than', 'get', 'six', 'hereby', 'upon', 'both', 'now', 'weren', 'thence', 'thick', 'bill', 'whereas', 'neither', 'toward', 'yours', 'describe', 'wherein', 'then', 'me', 'these', 'least', 'anyway', 'around', 'four', \"that'll\", 'whoever', 'third', 'enough', 'noone', 'eight', 'everywhere', 're', 'whether', 'someone', 'never', \"she's\", 'out', 'll', 'where', 'part', 'three', 'whereupon', 'done', 'her', 'so', 'even', 'would', 'mine', 'back', 'have', 'thereafter', 'along', 'our', 'during', 't', \"isn't\", 'you', 'after', 'while', 'very', 'latterly', 'nevertheless', 'i', 'somewhere', 'except', 'may', 'm', 'about', 'from', 'two', 'couldn', \"won't\", 'whence', 'haven', 'take', 'rather', 'thus', 'go', 'ours', 'something', \"mightn't\", 'at', 'aren', \"doesn't\", 'theirs', 'mostly', 'the', 'not', 'itself', 'un', 'ma', 'as', 'cannot', 'she', 'every', 'yourself', 'others', 'fire', \"aren't\", 'how', 'been', 'herein', 'nine', 'thereupon', 'via', 'everyone', \"didn't\", 'afterwards', 'meanwhile', 'their', 'per', 'might', 'interest', 'thin', 'co', 'whose', 'therein', 'his', 'ever', 'hence', 'towards', 'in', \"you're\", 'few', 'o', 'why', 'is', 'herself', 'one', 'has', 'when', 'although', 'all', 'see', 'whither', 'found', 'between', 'too', \"it's\", 'don', 'each', \"don't\", 'of', 'show', 'won', 'shouldn', 'further', 'they', 'cry', 'whereby', 'hereafter', 'most', 'yet', 'he', 's', 'moreover', 'with', 'my', 'did', 'or', 'anyhow', 'anything', 'mustn', 'nowhere', 'front', 'therefore', 'hers', 'was', 'full', 'former', 'under', 'empty', 'con', 'besides', 'elsewhere', 'himself', \"shouldn't\", 'off', 'keep', 'seems', 'y', 'against', 'had', 'seeming', 'no', 'forty', 'find', 'etc', 'since', 'twenty', 'ten', 'themselves', 'fifty', 'myself', 'needn', 'we', 'whom', 'becomes', 'sometime', 'system', 'became', 'within', 'alone', 'ourselves', 'either', 'please', 'mill', 'beyond', 'ie', 'though', 'becoming', 'wherever', 'who', 'be', 'top', 'sometimes', 'detail', 'should', 'somehow', 've', \"mustn't\", 'sixty', 'together', 'were', 'cant', 'ltd', 'indeed', 'its', 'formerly', \"hasn't\", 'hasnt', 'still', 'do', 'those', 'always', 'hereupon', \"shan't\", 'next', 'just', 'd', 'us', 'through', 'this', 'less', 'on', 'up', 'eleven', 'mightn', 'onto', 'are', 'and', 'wasn', 'didn', 'often', 'due', 'many', 'whereafter', 'could', 'much', 'call', \"you'd\", 'to', 'seemed', 'doesn', \"hadn't\", 'eg', 'sincere', \"weren't\", 'anyone', 'however', 'become', 'your', 'other', 'such', 'nor', 'down', 'perhaps', 'couldnt', 'five', 'seem', 'give', 'same', 'ain', 'last', 'here', 'doing', 'put', 'whole', 'must', 'amoungst', 'yourselves', \"wasn't\", 'another', 'some', \"you've\"]\n"
          ]
        }
      ],
      "source": [
        "print(combine_stopwords)"
      ]
    },
    {
      "cell_type": "markdown",
      "metadata": {
        "id": "VoUlLwEZDqmh"
      },
      "source": [
        "## Text Normalization"
      ]
    },
    {
      "cell_type": "code",
      "execution_count": null,
      "metadata": {
        "colab": {
          "base_uri": "https://localhost:8080/"
        },
        "id": "n32WuVKCD7RX",
        "outputId": "c6ddf72f-cdf3-4eee-f33f-ca6e7824146a"
      },
      "outputs": [
        {
          "output_type": "stream",
          "name": "stderr",
          "text": [
            "[nltk_data] Downloading package wordnet to /root/nltk_data...\n"
          ]
        }
      ],
      "source": [
        "# In English, go, going and goes have the same meaning.\n",
        "# So we want to normalize them into go\n",
        "\n",
        "# There are two ways: Stemming and Lemmatization (prefer)\n",
        "\n",
        "# The difference are:\n",
        "# Stemming only removes prefixes and suffixes by a set of rules, but sometimes it will mess up the words\n",
        "# Lemmatization will attach a english dictionary to the memory to make sure after normalization it still meaning words\n",
        "\n",
        "from nltk.stem import WordNetLemmatizer\n",
        "nltk.download('wordnet')\n",
        "lemmatizer = WordNetLemmatizer()"
      ]
    },
    {
      "cell_type": "markdown",
      "metadata": {
        "id": "N98yYOZVGgb4"
      },
      "source": [
        "For example, images to image"
      ]
    },
    {
      "cell_type": "code",
      "execution_count": null,
      "metadata": {
        "colab": {
          "base_uri": "https://localhost:8080/",
          "height": 35
        },
        "id": "3EiIEfj1GjID",
        "outputId": "b80f59b7-d903-498a-cd09-b5c00a17aa6b"
      },
      "outputs": [
        {
          "output_type": "execute_result",
          "data": {
            "text/plain": [
              "'i feel about my holiday break from work pagetitle rugmi popular images of the now'"
            ],
            "application/vnd.google.colaboratory.intrinsic+json": {
              "type": "string"
            }
          },
          "metadata": {},
          "execution_count": 20
        }
      ],
      "source": [
        "# Before\n",
        "data[\"text\"][41]"
      ]
    },
    {
      "cell_type": "code",
      "execution_count": null,
      "metadata": {
        "colab": {
          "base_uri": "https://localhost:8080/",
          "height": 35
        },
        "id": "QdOJGwysG_V4",
        "outputId": "a6952db4-e2bd-4aa6-985e-c221d753abf1"
      },
      "outputs": [
        {
          "output_type": "execute_result",
          "data": {
            "text/plain": [
              "'i feel about my holiday break from work pagetitle rugmi popular image of the now '"
            ],
            "application/vnd.google.colaboratory.intrinsic+json": {
              "type": "string"
            }
          },
          "metadata": {},
          "execution_count": 21
        }
      ],
      "source": [
        "# After\n",
        "\n",
        "new_doc = \"\"\n",
        "\n",
        "for token in data[\"text\"][41].split():\n",
        "    new_doc = new_doc + lemmatizer.lemmatize(token.lower()) + \" \"\n",
        "\n",
        "new_doc"
      ]
    },
    {
      "cell_type": "code",
      "execution_count": null,
      "metadata": {
        "colab": {
          "base_uri": "https://localhost:8080/"
        },
        "id": "suQa83u5K6KC",
        "outputId": "97523f51-1aaf-409c-cb36-b4047fce5a6f"
      },
      "outputs": [
        {
          "output_type": "stream",
          "name": "stdout",
          "text": [
            "Collecting contractions\n",
            "  Downloading contractions-0.1.73-py2.py3-none-any.whl (8.7 kB)\n",
            "Collecting textsearch>=0.0.21 (from contractions)\n",
            "  Downloading textsearch-0.0.24-py2.py3-none-any.whl (7.6 kB)\n",
            "Collecting anyascii (from textsearch>=0.0.21->contractions)\n",
            "  Downloading anyascii-0.3.2-py3-none-any.whl (289 kB)\n",
            "\u001b[2K     \u001b[90m━━━━━━━━━━━━━━━━━━━━━━━━━━━━━━━━━━━━━━━━\u001b[0m \u001b[32m289.9/289.9 kB\u001b[0m \u001b[31m2.3 MB/s\u001b[0m eta \u001b[36m0:00:00\u001b[0m\n",
            "\u001b[?25hCollecting pyahocorasick (from textsearch>=0.0.21->contractions)\n",
            "  Downloading pyahocorasick-2.1.0-cp310-cp310-manylinux_2_5_x86_64.manylinux1_x86_64.manylinux_2_12_x86_64.manylinux2010_x86_64.whl (110 kB)\n",
            "\u001b[2K     \u001b[90m━━━━━━━━━━━━━━━━━━━━━━━━━━━━━━━━━━━━━━━━\u001b[0m \u001b[32m110.7/110.7 kB\u001b[0m \u001b[31m12.5 MB/s\u001b[0m eta \u001b[36m0:00:00\u001b[0m\n",
            "\u001b[?25hInstalling collected packages: pyahocorasick, anyascii, textsearch, contractions\n",
            "Successfully installed anyascii-0.3.2 contractions-0.1.73 pyahocorasick-2.1.0 textsearch-0.0.24\n"
          ]
        }
      ],
      "source": [
        "pip install contractions"
      ]
    },
    {
      "cell_type": "code",
      "execution_count": null,
      "metadata": {
        "id": "BM1TmAaWKWtO"
      },
      "outputs": [],
      "source": [
        "# In english, people are usually prefer using the short form of words\n",
        "# For example, it's = it is\n",
        "\n",
        "import contractions"
      ]
    },
    {
      "cell_type": "markdown",
      "metadata": {
        "id": "Xjby6-fyK__E"
      },
      "source": [
        "For example, dunno to do not"
      ]
    },
    {
      "cell_type": "code",
      "execution_count": null,
      "metadata": {
        "colab": {
          "base_uri": "https://localhost:8080/",
          "height": 35
        },
        "id": "EnWnwhZVLB9H",
        "outputId": "e2d34a66-a030-4ad0-f7ee-694393129dd2"
      },
      "outputs": [
        {
          "output_type": "execute_result",
          "data": {
            "text/plain": [
              "'i dunno i just feel scared to walk in after awhile it got ok but when i walk into this room w poorly erected brick walls separating the room into xm partitions'"
            ],
            "application/vnd.google.colaboratory.intrinsic+json": {
              "type": "string"
            }
          },
          "metadata": {},
          "execution_count": 24
        }
      ],
      "source": [
        "# Before\n",
        "data[\"text\"][40]"
      ]
    },
    {
      "cell_type": "code",
      "execution_count": null,
      "metadata": {
        "colab": {
          "base_uri": "https://localhost:8080/",
          "height": 53
        },
        "id": "sDh9Ph5tLI_S",
        "outputId": "ed7d9ec4-5093-4946-e2b2-527fd8eca937"
      },
      "outputs": [
        {
          "output_type": "execute_result",
          "data": {
            "text/plain": [
              "'i do not know i just feel scared to walk in after awhile it got ok but when i walk into this room w poorly erected brick walls separating the room into xm partitions'"
            ],
            "application/vnd.google.colaboratory.intrinsic+json": {
              "type": "string"
            }
          },
          "metadata": {},
          "execution_count": 25
        }
      ],
      "source": [
        "# After\n",
        "contractions.fix(data[\"text\"][40])"
      ]
    },
    {
      "cell_type": "markdown",
      "metadata": {
        "id": "jkrXZqprOIHv"
      },
      "source": [
        "## Define the cleaner function"
      ]
    },
    {
      "cell_type": "code",
      "execution_count": null,
      "metadata": {
        "colab": {
          "base_uri": "https://localhost:8080/"
        },
        "id": "iLyHIi8fOLx8",
        "outputId": "41ce229b-ffa1-43c1-b026-cba4845866a7"
      },
      "outputs": [
        {
          "output_type": "stream",
          "name": "stderr",
          "text": [
            "[nltk_data] Downloading package averaged_perceptron_tagger to\n",
            "[nltk_data]     /root/nltk_data...\n",
            "[nltk_data]   Unzipping taggers/averaged_perceptron_tagger.zip.\n",
            "[nltk_data] Downloading package punkt to /root/nltk_data...\n",
            "[nltk_data]   Unzipping tokenizers/punkt.zip.\n"
          ]
        }
      ],
      "source": [
        "nltk.download('averaged_perceptron_tagger')\n",
        "nltk.download('punkt')\n",
        "from nltk.corpus import wordnet\n",
        "\n",
        "# Define function to lemmatize each word with its POS tag\n",
        "def pos_tagger(nltk_tag):\n",
        "    if nltk_tag.startswith('J'):\n",
        "        return wordnet.ADJ\n",
        "    elif nltk_tag.startswith('V'):\n",
        "        return wordnet.VERB\n",
        "    elif nltk_tag.startswith('N'):\n",
        "        return wordnet.NOUN\n",
        "    elif nltk_tag.startswith('R'):\n",
        "        return wordnet.ADV\n",
        "    else:\n",
        "        return None\n",
        "\n",
        "def text_cleaner(text, removestopwords):\n",
        "  # As mention before, there are many text \"'s\" \"'t\" but \" s\" \" t\" so that both stopwords and contractions can not normalize it\n",
        "  # Begin of custom cleaner\n",
        "  new_text = re.sub(r\"\\baren t\\b\", \"are not\", text)\n",
        "  new_text = re.sub(r\"\\bcan t\\b\", \"can not\", new_text)\n",
        "  new_text = re.sub(r\"\\bcouldn t\\b\", \"could not\", new_text)\n",
        "  new_text = re.sub(r\"\\bdidn t\\b\", \"did not\", new_text)\n",
        "  new_text = re.sub(r\"\\bdon t\\b\", \"do not\", new_text)\n",
        "  new_text = re.sub(r\"\\bdoesn t\\b\", \"does not\", new_text)\n",
        "  new_text = re.sub(r\"\\bhadn t\\b\", \"had not\", new_text)\n",
        "  new_text = re.sub(r\"\\bhasn t\\b\", \"has not\", new_text)\n",
        "  new_text = re.sub(r\"\\bhaven t\\b\", \"have not\", new_text)\n",
        "  new_text = re.sub(r\"\\bisn t\\b\", \"is not\", new_text)\n",
        "  new_text = re.sub(r\"\\bmustn t\\b\", \"must not\", new_text)\n",
        "  new_text = re.sub(r\"\\bshouldn t\\b\", \"should not\", new_text)\n",
        "  new_text = re.sub(r\"\\bwasn t\\b\", \"was not\", new_text)\n",
        "  new_text = re.sub(r\"\\bweren t\\b\", \"were not\", new_text)\n",
        "  new_text = re.sub(r\"\\bwon t\\b\", \"will not\", new_text)\n",
        "  new_text = re.sub(r\"\\bwouldn t\\b\", \"would not\", new_text)\n",
        "\n",
        "  new_text = re.sub(r\"\\bi m\\b\", \"i am\", new_text)\n",
        "  new_text = re.sub(r\"\\bhe s\\b\", \"he is\", new_text)\n",
        "  new_text = re.sub(r\"\\bshe s\\b\", \"she is\", new_text)\n",
        "  new_text = re.sub(r\"\\bit s\\b\", \"it is\", new_text)\n",
        "\n",
        "  new_text = re.sub(r\"\\byou re\\b\", \"you are\", new_text)\n",
        "  new_text = re.sub(r\"\\bwe re\\b\", \"we are\", new_text)\n",
        "  new_text = re.sub(r\"\\bthey re\\b\", \"they are\", new_text)\n",
        "\n",
        "  new_text = re.sub(r\"\\bi ve\\b\", \"i ve\", new_text)\n",
        "  new_text = re.sub(r\"\\byou ve\\b\", \"you ve\", new_text)\n",
        "  new_text = re.sub(r\"\\bwe ve\\b\", \"we ve\", new_text)\n",
        "  new_text = re.sub(r\"\\bthey ve\\b\", \"they ve\", new_text)\n",
        "  new_text = re.sub(r\"\\bshould ve\\b\", \"should ve\", new_text)\n",
        "  new_text = re.sub(r\"\\bcould ve\\b\", \"could ve\", new_text)\n",
        "  new_text = re.sub(r\"\\bwould ve\\b\", \"would ve\", new_text)\n",
        "\n",
        "  new_text = re.sub(r\"\\bi ll\\b\", \"i will\", new_text)\n",
        "  new_text = re.sub(r\"\\byou ll\\b\", \"you will\", new_text)\n",
        "  new_text = re.sub(r\"\\bhe ll\\b\", \"he will\", new_text)\n",
        "  new_text = re.sub(r\"\\bshe ll\\b\", \"she will\", new_text)\n",
        "  new_text = re.sub(r\"\\bit ll\\b\", \"it will\", new_text)\n",
        "  new_text = re.sub(r\"\\bwe ll\\b\", \"we will\", new_text)\n",
        "  new_text = re.sub(r\"\\bthey ll\\b\", \"they will\", new_text)\n",
        "\n",
        "  new_text = re.sub(r\"\\bi d\\b\", \"i would\", new_text)\n",
        "  new_text = re.sub(r\"\\byou d\\b\", \"you would\", new_text)\n",
        "  new_text = re.sub(r\"\\bhe d\\b\", \"he would\", new_text)\n",
        "  new_text = re.sub(r\"\\bshe d\\b\", \"she would\", new_text)\n",
        "  new_text = re.sub(r\"\\bwe d\\b\", \"we would\", new_text)\n",
        "  new_text = re.sub(r\"\\bthey d\\b\", \"they would\", new_text)\n",
        "\n",
        "  new_text = re.sub(r\"\\bhere s\\b\", \"here is\", new_text)\n",
        "  new_text = re.sub(r\"\\bthere s\\b\", \"there is\", new_text)\n",
        "  new_text = re.sub(r\"\\bthat s\\b\", \"that is\", new_text)\n",
        "  new_text = re.sub(r\"\\bthat d\\b\", \"that would\", new_text)\n",
        "  new_text = re.sub(r\"\\bthis ll\\b\", \"this will\", new_text)\n",
        "  new_text = re.sub(r\"\\bthat ll\\b\", \"that will\", new_text)\n",
        "  new_text = re.sub(r\"\\bwhat s\\b\", \"what is\", new_text)\n",
        "  new_text = re.sub(r\"\\bwhere s\\b\", \"where is\", new_text)\n",
        "  new_text = re.sub(r\"\\bwhere d\\b\", \"where did\", new_text)\n",
        "  new_text = re.sub(r\"\\bwho s\\b\", \"who is\", new_text)\n",
        "  new_text = re.sub(r\"\\bwhen s\\b\", \"when is\", new_text)\n",
        "  new_text = re.sub(r\"\\bhow s\\b\", \"how is\", new_text)\n",
        "  new_text = re.sub(r\"\\bhow d\\b\", \"how would\", new_text)\n",
        "  new_text = re.sub(r\"\\bwhy s\\b\", \"why is\", new_text)\n",
        "  new_text = re.sub(r\"\\bwhy d\\b\", \"why did\", new_text)\n",
        "  new_text = re.sub(r\"\\blet s\\b\", \"let\", new_text)\n",
        "  # End of custom cleaner\n",
        "\n",
        "  # Contractions\n",
        "  new_text = contractions.fix(new_text)\n",
        "\n",
        "  # Chars and space only\n",
        "  new_text = re.sub(r'[^a-zA-Z\\s]', '', new_text)\n",
        "\n",
        "  # Remove begin & last spaces\n",
        "  new_text = new_text.lower().strip()\n",
        "\n",
        "  # Remove stopwords\n",
        "  if (removestopwords):\n",
        "    temp_text = \"\"\n",
        "    for token in new_text.split():\n",
        "       if token not in combine_stopwords:\n",
        "         temp_text = temp_text + token + \" \"\n",
        "\n",
        "    new_text = temp_text\n",
        "\n",
        "  # Split and tag the token\n",
        "  pos_tagged = nltk.pos_tag(nltk.word_tokenize(new_text))\n",
        "  wordnet_tagged = list(map(lambda x: (x[0], pos_tagger(x[1])), pos_tagged))\n",
        "\n",
        "  cleaned_text = \"\"\n",
        "\n",
        "  for token, tag in wordnet_tagged:\n",
        "      if tag is None:\n",
        "        # if there is no available tag, append the token as is\n",
        "        cleaned_text = cleaned_text + token + \" \"\n",
        "      else:\n",
        "        cleaned_text = cleaned_text + lemmatizer.lemmatize(token, tag) + \" \"\n",
        "\n",
        "  return cleaned_text"
      ]
    },
    {
      "cell_type": "markdown",
      "metadata": {
        "id": "VgawG34apsZi"
      },
      "source": [
        "We need to do this because the size of the vocab will be the size of features.\n",
        "\n",
        "And we do not want non meaning words to be consider as features."
      ]
    },
    {
      "cell_type": "markdown",
      "source": [
        "This cleaned text took 10mins to run"
      ],
      "metadata": {
        "id": "dh7upX5zuFjh"
      }
    },
    {
      "cell_type": "code",
      "execution_count": null,
      "metadata": {
        "id": "XTBDb5-vr05D"
      },
      "outputs": [],
      "source": [
        "cleaned_text=[]\n",
        "for text in data[\"text\"]:\n",
        "  cleaned_text.append(text_cleaner(text, True))"
      ]
    },
    {
      "cell_type": "code",
      "execution_count": null,
      "metadata": {
        "colab": {
          "base_uri": "https://localhost:8080/",
          "height": 241
        },
        "id": "Ek55GnGqzs7N",
        "outputId": "758c7f29-7e43-43aa-9f59-4f34ce6ceedb"
      },
      "outputs": [
        {
          "output_type": "execute_result",
          "data": {
            "text/plain": [
              "                                                                                                                                                                                                      text  \\\n",
              "0                                                                                                                                                            i just feel really helpless and heavy hearted   \n",
              "1  ive enjoyed being able to slouch about relax and unwind and frankly needed it after those last few weeks around the end of uni and the expo i have lately started to find myself feeling a bit listl...   \n",
              "2                                                                                                                                          i gave up my internship with the dmrg and am feeling distraught   \n",
              "3                                                                                                                                                                               i dont know i feel so lost   \n",
              "4  i am a kindergarten teacher and i am thoroughly weary of my job after having taken the university entrance exam i suffered from anxiety for weeks as i did not want to carry on with my work studies...   \n",
              "\n",
              "   label  \\\n",
              "0      4   \n",
              "1      0   \n",
              "2      4   \n",
              "3      0   \n",
              "4      4   \n",
              "\n",
              "                                                                                                                     cleaned_text  \n",
              "0                                                                                                  really helpless heavy hearted   \n",
              "1                      enjoy able slouch relax unwind frankly need week end uni expo lately start bit listless really good thing   \n",
              "2                                                                                                give internship dmrg distraught   \n",
              "3                                                                                                                      know lose   \n",
              "4  kindergarten teacher thoroughly weary job take university entrance exam suffer anxiety week want carry work study alternative   "
            ],
            "text/html": [
              "\n",
              "  <div id=\"df-9d96bef2-aa12-451d-b40d-b304b15e966d\" class=\"colab-df-container\">\n",
              "    <div>\n",
              "<style scoped>\n",
              "    .dataframe tbody tr th:only-of-type {\n",
              "        vertical-align: middle;\n",
              "    }\n",
              "\n",
              "    .dataframe tbody tr th {\n",
              "        vertical-align: top;\n",
              "    }\n",
              "\n",
              "    .dataframe thead th {\n",
              "        text-align: right;\n",
              "    }\n",
              "</style>\n",
              "<table border=\"1\" class=\"dataframe\">\n",
              "  <thead>\n",
              "    <tr style=\"text-align: right;\">\n",
              "      <th></th>\n",
              "      <th>text</th>\n",
              "      <th>label</th>\n",
              "      <th>cleaned_text</th>\n",
              "    </tr>\n",
              "  </thead>\n",
              "  <tbody>\n",
              "    <tr>\n",
              "      <th>0</th>\n",
              "      <td>i just feel really helpless and heavy hearted</td>\n",
              "      <td>4</td>\n",
              "      <td>really helpless heavy hearted</td>\n",
              "    </tr>\n",
              "    <tr>\n",
              "      <th>1</th>\n",
              "      <td>ive enjoyed being able to slouch about relax and unwind and frankly needed it after those last few weeks around the end of uni and the expo i have lately started to find myself feeling a bit listl...</td>\n",
              "      <td>0</td>\n",
              "      <td>enjoy able slouch relax unwind frankly need week end uni expo lately start bit listless really good thing</td>\n",
              "    </tr>\n",
              "    <tr>\n",
              "      <th>2</th>\n",
              "      <td>i gave up my internship with the dmrg and am feeling distraught</td>\n",
              "      <td>4</td>\n",
              "      <td>give internship dmrg distraught</td>\n",
              "    </tr>\n",
              "    <tr>\n",
              "      <th>3</th>\n",
              "      <td>i dont know i feel so lost</td>\n",
              "      <td>0</td>\n",
              "      <td>know lose</td>\n",
              "    </tr>\n",
              "    <tr>\n",
              "      <th>4</th>\n",
              "      <td>i am a kindergarten teacher and i am thoroughly weary of my job after having taken the university entrance exam i suffered from anxiety for weeks as i did not want to carry on with my work studies...</td>\n",
              "      <td>4</td>\n",
              "      <td>kindergarten teacher thoroughly weary job take university entrance exam suffer anxiety week want carry work study alternative</td>\n",
              "    </tr>\n",
              "  </tbody>\n",
              "</table>\n",
              "</div>\n",
              "    <div class=\"colab-df-buttons\">\n",
              "\n",
              "  <div class=\"colab-df-container\">\n",
              "    <button class=\"colab-df-convert\" onclick=\"convertToInteractive('df-9d96bef2-aa12-451d-b40d-b304b15e966d')\"\n",
              "            title=\"Convert this dataframe to an interactive table.\"\n",
              "            style=\"display:none;\">\n",
              "\n",
              "  <svg xmlns=\"http://www.w3.org/2000/svg\" height=\"24px\" viewBox=\"0 -960 960 960\">\n",
              "    <path d=\"M120-120v-720h720v720H120Zm60-500h600v-160H180v160Zm220 220h160v-160H400v160Zm0 220h160v-160H400v160ZM180-400h160v-160H180v160Zm440 0h160v-160H620v160ZM180-180h160v-160H180v160Zm440 0h160v-160H620v160Z\"/>\n",
              "  </svg>\n",
              "    </button>\n",
              "\n",
              "  <style>\n",
              "    .colab-df-container {\n",
              "      display:flex;\n",
              "      gap: 12px;\n",
              "    }\n",
              "\n",
              "    .colab-df-convert {\n",
              "      background-color: #E8F0FE;\n",
              "      border: none;\n",
              "      border-radius: 50%;\n",
              "      cursor: pointer;\n",
              "      display: none;\n",
              "      fill: #1967D2;\n",
              "      height: 32px;\n",
              "      padding: 0 0 0 0;\n",
              "      width: 32px;\n",
              "    }\n",
              "\n",
              "    .colab-df-convert:hover {\n",
              "      background-color: #E2EBFA;\n",
              "      box-shadow: 0px 1px 2px rgba(60, 64, 67, 0.3), 0px 1px 3px 1px rgba(60, 64, 67, 0.15);\n",
              "      fill: #174EA6;\n",
              "    }\n",
              "\n",
              "    .colab-df-buttons div {\n",
              "      margin-bottom: 4px;\n",
              "    }\n",
              "\n",
              "    [theme=dark] .colab-df-convert {\n",
              "      background-color: #3B4455;\n",
              "      fill: #D2E3FC;\n",
              "    }\n",
              "\n",
              "    [theme=dark] .colab-df-convert:hover {\n",
              "      background-color: #434B5C;\n",
              "      box-shadow: 0px 1px 3px 1px rgba(0, 0, 0, 0.15);\n",
              "      filter: drop-shadow(0px 1px 2px rgba(0, 0, 0, 0.3));\n",
              "      fill: #FFFFFF;\n",
              "    }\n",
              "  </style>\n",
              "\n",
              "    <script>\n",
              "      const buttonEl =\n",
              "        document.querySelector('#df-9d96bef2-aa12-451d-b40d-b304b15e966d button.colab-df-convert');\n",
              "      buttonEl.style.display =\n",
              "        google.colab.kernel.accessAllowed ? 'block' : 'none';\n",
              "\n",
              "      async function convertToInteractive(key) {\n",
              "        const element = document.querySelector('#df-9d96bef2-aa12-451d-b40d-b304b15e966d');\n",
              "        const dataTable =\n",
              "          await google.colab.kernel.invokeFunction('convertToInteractive',\n",
              "                                                    [key], {});\n",
              "        if (!dataTable) return;\n",
              "\n",
              "        const docLinkHtml = 'Like what you see? Visit the ' +\n",
              "          '<a target=\"_blank\" href=https://colab.research.google.com/notebooks/data_table.ipynb>data table notebook</a>'\n",
              "          + ' to learn more about interactive tables.';\n",
              "        element.innerHTML = '';\n",
              "        dataTable['output_type'] = 'display_data';\n",
              "        await google.colab.output.renderOutput(dataTable, element);\n",
              "        const docLink = document.createElement('div');\n",
              "        docLink.innerHTML = docLinkHtml;\n",
              "        element.appendChild(docLink);\n",
              "      }\n",
              "    </script>\n",
              "  </div>\n",
              "\n",
              "\n",
              "<div id=\"df-a18e232e-9e41-41ac-9400-65f75e74730b\">\n",
              "  <button class=\"colab-df-quickchart\" onclick=\"quickchart('df-a18e232e-9e41-41ac-9400-65f75e74730b')\"\n",
              "            title=\"Suggest charts\"\n",
              "            style=\"display:none;\">\n",
              "\n",
              "<svg xmlns=\"http://www.w3.org/2000/svg\" height=\"24px\"viewBox=\"0 0 24 24\"\n",
              "     width=\"24px\">\n",
              "    <g>\n",
              "        <path d=\"M19 3H5c-1.1 0-2 .9-2 2v14c0 1.1.9 2 2 2h14c1.1 0 2-.9 2-2V5c0-1.1-.9-2-2-2zM9 17H7v-7h2v7zm4 0h-2V7h2v10zm4 0h-2v-4h2v4z\"/>\n",
              "    </g>\n",
              "</svg>\n",
              "  </button>\n",
              "\n",
              "<style>\n",
              "  .colab-df-quickchart {\n",
              "      --bg-color: #E8F0FE;\n",
              "      --fill-color: #1967D2;\n",
              "      --hover-bg-color: #E2EBFA;\n",
              "      --hover-fill-color: #174EA6;\n",
              "      --disabled-fill-color: #AAA;\n",
              "      --disabled-bg-color: #DDD;\n",
              "  }\n",
              "\n",
              "  [theme=dark] .colab-df-quickchart {\n",
              "      --bg-color: #3B4455;\n",
              "      --fill-color: #D2E3FC;\n",
              "      --hover-bg-color: #434B5C;\n",
              "      --hover-fill-color: #FFFFFF;\n",
              "      --disabled-bg-color: #3B4455;\n",
              "      --disabled-fill-color: #666;\n",
              "  }\n",
              "\n",
              "  .colab-df-quickchart {\n",
              "    background-color: var(--bg-color);\n",
              "    border: none;\n",
              "    border-radius: 50%;\n",
              "    cursor: pointer;\n",
              "    display: none;\n",
              "    fill: var(--fill-color);\n",
              "    height: 32px;\n",
              "    padding: 0;\n",
              "    width: 32px;\n",
              "  }\n",
              "\n",
              "  .colab-df-quickchart:hover {\n",
              "    background-color: var(--hover-bg-color);\n",
              "    box-shadow: 0 1px 2px rgba(60, 64, 67, 0.3), 0 1px 3px 1px rgba(60, 64, 67, 0.15);\n",
              "    fill: var(--button-hover-fill-color);\n",
              "  }\n",
              "\n",
              "  .colab-df-quickchart-complete:disabled,\n",
              "  .colab-df-quickchart-complete:disabled:hover {\n",
              "    background-color: var(--disabled-bg-color);\n",
              "    fill: var(--disabled-fill-color);\n",
              "    box-shadow: none;\n",
              "  }\n",
              "\n",
              "  .colab-df-spinner {\n",
              "    border: 2px solid var(--fill-color);\n",
              "    border-color: transparent;\n",
              "    border-bottom-color: var(--fill-color);\n",
              "    animation:\n",
              "      spin 1s steps(1) infinite;\n",
              "  }\n",
              "\n",
              "  @keyframes spin {\n",
              "    0% {\n",
              "      border-color: transparent;\n",
              "      border-bottom-color: var(--fill-color);\n",
              "      border-left-color: var(--fill-color);\n",
              "    }\n",
              "    20% {\n",
              "      border-color: transparent;\n",
              "      border-left-color: var(--fill-color);\n",
              "      border-top-color: var(--fill-color);\n",
              "    }\n",
              "    30% {\n",
              "      border-color: transparent;\n",
              "      border-left-color: var(--fill-color);\n",
              "      border-top-color: var(--fill-color);\n",
              "      border-right-color: var(--fill-color);\n",
              "    }\n",
              "    40% {\n",
              "      border-color: transparent;\n",
              "      border-right-color: var(--fill-color);\n",
              "      border-top-color: var(--fill-color);\n",
              "    }\n",
              "    60% {\n",
              "      border-color: transparent;\n",
              "      border-right-color: var(--fill-color);\n",
              "    }\n",
              "    80% {\n",
              "      border-color: transparent;\n",
              "      border-right-color: var(--fill-color);\n",
              "      border-bottom-color: var(--fill-color);\n",
              "    }\n",
              "    90% {\n",
              "      border-color: transparent;\n",
              "      border-bottom-color: var(--fill-color);\n",
              "    }\n",
              "  }\n",
              "</style>\n",
              "\n",
              "  <script>\n",
              "    async function quickchart(key) {\n",
              "      const quickchartButtonEl =\n",
              "        document.querySelector('#' + key + ' button');\n",
              "      quickchartButtonEl.disabled = true;  // To prevent multiple clicks.\n",
              "      quickchartButtonEl.classList.add('colab-df-spinner');\n",
              "      try {\n",
              "        const charts = await google.colab.kernel.invokeFunction(\n",
              "            'suggestCharts', [key], {});\n",
              "      } catch (error) {\n",
              "        console.error('Error during call to suggestCharts:', error);\n",
              "      }\n",
              "      quickchartButtonEl.classList.remove('colab-df-spinner');\n",
              "      quickchartButtonEl.classList.add('colab-df-quickchart-complete');\n",
              "    }\n",
              "    (() => {\n",
              "      let quickchartButtonEl =\n",
              "        document.querySelector('#df-a18e232e-9e41-41ac-9400-65f75e74730b button');\n",
              "      quickchartButtonEl.style.display =\n",
              "        google.colab.kernel.accessAllowed ? 'block' : 'none';\n",
              "    })();\n",
              "  </script>\n",
              "</div>\n",
              "\n",
              "    </div>\n",
              "  </div>\n"
            ],
            "application/vnd.google.colaboratory.intrinsic+json": {
              "type": "dataframe",
              "variable_name": "data"
            }
          },
          "metadata": {},
          "execution_count": 71
        }
      ],
      "source": [
        "data['cleaned_text'] = cleaned_text\n",
        "data.head()"
      ]
    },
    {
      "cell_type": "code",
      "source": [
        "# After cleaned there are some NaN in the cleaned_text\n",
        "data = data.dropna()\n",
        "data.to_csv(\"emotion_cleaned.csv\", index=False)"
      ],
      "metadata": {
        "id": "rGMnBaCGuTxi"
      },
      "execution_count": null,
      "outputs": []
    },
    {
      "cell_type": "markdown",
      "metadata": {
        "id": "Va-O82r3mUob"
      },
      "source": [
        "# Data Visualization"
      ]
    },
    {
      "cell_type": "code",
      "execution_count": null,
      "metadata": {
        "colab": {
          "base_uri": "https://localhost:8080/"
        },
        "id": "yjr93eK-mbJq",
        "outputId": "745fbed4-8768-4d90-99c2-4b9a99d5107c"
      },
      "outputs": [
        {
          "output_type": "execute_result",
          "data": {
            "text/plain": [
              "75302"
            ]
          },
          "metadata": {},
          "execution_count": 29
        }
      ],
      "source": [
        "# All words before cleaned\n",
        "all_words = []\n",
        "\n",
        "for t in data[\"text\"]:\n",
        "  all_words.extend(t.split())\n",
        "\n",
        "# number of unique words in the whole corpus\n",
        "len(set(all_words))"
      ]
    },
    {
      "cell_type": "markdown",
      "metadata": {
        "id": "iOltTBQNnLpH"
      },
      "source": [
        "So in 416809 entries we have 75302 unique words"
      ]
    },
    {
      "cell_type": "code",
      "execution_count": null,
      "metadata": {
        "id": "DIVnBUi5nTrJ"
      },
      "outputs": [],
      "source": [
        "# import lib for diagram\n",
        "\n",
        "import matplotlib.pyplot as plt"
      ]
    },
    {
      "cell_type": "code",
      "execution_count": null,
      "metadata": {
        "colab": {
          "base_uri": "https://localhost:8080/",
          "height": 505
        },
        "id": "AK6_-t1dnk0Q",
        "outputId": "781ff6ed-4499-4800-b589-17158305277c"
      },
      "outputs": [
        {
          "output_type": "display_data",
          "data": {
            "text/plain": [
              "<Figure size 640x480 with 1 Axes>"
            ],
            "image/png": "[encoded data removed]"
          },
          "metadata": {}
        }
      ],
      "source": [
        "# frequency distribution\n",
        "freq_dist = nltk.FreqDist(all_words)\n",
        "\n",
        "plt.title(\"Top 25 most common words\")\n",
        "\n",
        "freq_dist.plot(25, cumulative=False)\n",
        "\n",
        "plt.show()"
      ]
    },
    {
      "cell_type": "code",
      "execution_count": null,
      "metadata": {
        "colab": {
          "base_uri": "https://localhost:8080/"
        },
        "id": "d9ycfJ3qz-eQ",
        "outputId": "cea7a1d5-dd26-4f7e-b039-d85c75eed4a2"
      },
      "outputs": [
        {
          "output_type": "execute_result",
          "data": {
            "text/plain": [
              "65652"
            ]
          },
          "metadata": {},
          "execution_count": 32
        }
      ],
      "source": [
        "# All cleaned words without stopwords\n",
        "all_cleaned_words = []\n",
        "\n",
        "for t in data[\"cleaned_text\"]:\n",
        "  all_cleaned_words.extend(t.split())\n",
        "\n",
        "# number of unique words in the whole corpus\n",
        "len(set(all_cleaned_words))"
      ]
    },
    {
      "cell_type": "code",
      "execution_count": null,
      "metadata": {
        "colab": {
          "base_uri": "https://localhost:8080/",
          "height": 505
        },
        "id": "HGgkHzAl0dEx",
        "outputId": "d2ebbc39-1ac4-4a68-f3a8-31969a0be8d7"
      },
      "outputs": [
        {
          "output_type": "display_data",
          "data": {
            "text/plain": [
              "<Figure size 640x480 with 1 Axes>"
            ],
            "image/png": "[encoded data removed]"
          },
          "metadata": {}
        }
      ],
      "source": [
        "# frequency distribution\n",
        "freq_dist = nltk.FreqDist(all_cleaned_words)\n",
        "\n",
        "plt.title(\"Top 25 most common words\")\n",
        "\n",
        "freq_dist.plot(25, cumulative=False)\n",
        "\n",
        "plt.show()"
      ]
    },
    {
      "cell_type": "markdown",
      "metadata": {
        "id": "v-lN9tWR02Q4"
      },
      "source": [
        "now we can see some valuable words to detect emotions"
      ]
    },
    {
      "cell_type": "markdown",
      "source": [
        "# Load cleaned text"
      ],
      "metadata": {
        "id": "ON7QbNHm1eef"
      }
    },
    {
      "cell_type": "code",
      "source": [
        "import numpy as np\n",
        "import pandas as pd\n",
        "pd.set_option(\"display.max_colwidth\", 200)\n",
        "\n",
        "data = pd.read_csv(\"/content/emotion_cleaned.csv\")\n",
        "data[\"label\"] = data[\"label\"].astype(int)\n",
        "data.head(30)"
      ],
      "metadata": {
        "colab": {
          "base_uri": "https://localhost:8080/",
          "height": 1000
        },
        "id": "_byF0MJj1j8f",
        "outputId": "d6ef5a1c-6283-4608-8456-7eff9757ed69"
      },
      "execution_count": null,
      "outputs": [
        {
          "output_type": "execute_result",
          "data": {
            "text/plain": [
              "                                                                                                                                                                                                       text  \\\n",
              "0                                                                                                                                                             i just feel really helpless and heavy hearted   \n",
              "1   ive enjoyed being able to slouch about relax and unwind and frankly needed it after those last few weeks around the end of uni and the expo i have lately started to find myself feeling a bit listl...   \n",
              "2                                                                                                                                           i gave up my internship with the dmrg and am feeling distraught   \n",
              "3                                                                                                                                                                                i dont know i feel so lost   \n",
              "4   i am a kindergarten teacher and i am thoroughly weary of my job after having taken the university entrance exam i suffered from anxiety for weeks as i did not want to carry on with my work studies...   \n",
              "5                                                                                                                                                                i was beginning to feel quite disheartened   \n",
              "6                                                                             i would think that whomever would be lucky enough to stay in this suite must feel like it is the most romantic place on earth   \n",
              "7                                                                              i fear that they won t ever feel that delicious excitement of christmas eve at least not in the same way i remember doing it   \n",
              "8                                                                                                                                   im forever taking some time out to have a lie down because i feel weird   \n",
              "9                                                                                                                                                      i can still lose the weight without feeling deprived   \n",
              "10                                                        i try to be nice though so if you get a bitchy person on the phone or at the window feel free to have a little fit and throw your pen at her face   \n",
              "11                                                                                                                       im feeling a little like a damaged tree and that my roots are a little out of wack   \n",
              "12                                                                                                                              i have officially graduated im not feeling as ecstatic as i thought i would   \n",
              "13  i feel like a jerk because the library students who all claim to love scrabble cant be bothered to participate and clearly scrabble is an inappropriate choice for a group of students whose native ...   \n",
              "14                                                                                 i feel my portfolio demonstrates how eager i am to learn but some who know me better might call it annoyingly persistent   \n",
              "15                                             i may be more biased than the next because i have a dependent life to take care of and to keep safe but i feel we all need to take care of ourselves as well   \n",
              "16                                                                                                                                                                                   i didn t feel terrific   \n",
              "17                                                                                                   i miss all the others as well that feel that i wronged them and they will soon understand that i didnt   \n",
              "18                                                                                                                                                               i feel so stupid that i realise it so late   \n",
              "19                                        i saunter through the airport terminals feeling that i have had an experience that renders the petty tribulations of everyday travel somehow far less significant   \n",
              "20                                                                                                              i need to feel dangerous and pretty so here a striking dance pick deep in vogue minutes ago   \n",
              "21                                                                                 i am feeling much stronger and more confident now and by professional opinion i know that i do not have anything serious   \n",
              "22                                i take a shower i feel wonderful energetic and all my previous feelings about my life turn into this awesome feeling creating my life like the happiest life in the world   \n",
              "23                                                                                                                     i don t feel submissive and for the time being i ve lost interest in some bdsm stuff   \n",
              "24  i would imagine this is just one of the reasons why marriage is so hard because theyll see all the good bad and ugly parts of you the parts that make it hard for you to love yourself and it feels ...   \n",
              "25                                                                                                                                                    i feel like a real fan not that i was ever a fake fan   \n",
              "26                                                                                                                                             i feel like i am actually getting something useful out of it   \n",
              "27                                                                                    i was able to overcome this anxiousness and feel peaceful as i quickly jotted down all the answers to todays homework   \n",
              "28                                                                                                                                    i have been successful in providing some peace of mind i feel content   \n",
              "29                                                                                                                                       i guess that feeling is what im really getting all nostalgic about   \n",
              "\n",
              "    label  \\\n",
              "0       4   \n",
              "1       0   \n",
              "2       4   \n",
              "3       0   \n",
              "4       4   \n",
              "5       0   \n",
              "6       2   \n",
              "7       1   \n",
              "8       5   \n",
              "9       0   \n",
              "10      1   \n",
              "11      0   \n",
              "12      1   \n",
              "13      3   \n",
              "14      1   \n",
              "15      1   \n",
              "16      1   \n",
              "17      3   \n",
              "18      0   \n",
              "19      3   \n",
              "20      3   \n",
              "21      1   \n",
              "22      1   \n",
              "23      0   \n",
              "24      0   \n",
              "25      0   \n",
              "26      1   \n",
              "27      1   \n",
              "28      1   \n",
              "29      2   \n",
              "\n",
              "                                                                                                                                     cleaned_text  \n",
              "0                                                                                                                  really helpless heavy hearted   \n",
              "1                                      enjoy able slouch relax unwind frankly need week end uni expo lately start bit listless really good thing   \n",
              "2                                                                                                                give internship dmrg distraught   \n",
              "3                                                                                                                                      know lose   \n",
              "4                  kindergarten teacher thoroughly weary job take university entrance exam suffer anxiety week want carry work study alternative   \n",
              "5                                                                                                                         begin quite dishearten   \n",
              "6                                                                                      think whomever lucky stay suite like romantic place earth   \n",
              "7                                                                                           fear delicious excitement christmas eve way remember   \n",
              "8                                                                                                                    forever take time lie weird   \n",
              "9                                                                                                                            lose weight deprive   \n",
              "10                                                                            try nice bitchy person phone window free little fit throw pen face   \n",
              "11                                                                                                      little like damage tree root little wack   \n",
              "12                                                                                                          officially graduate ecstatic thought   \n",
              "13  like jerk library student claim love scrabble bother participate clearly scrabble inappropriate choice group student native language english   \n",
              "14                                                                             portfolio demonstrate eager learn know good annoyingly persistent   \n",
              "15                                                                                                       bias dependent life care safe need care   \n",
              "16                                                                                                                                      terrific   \n",
              "17                                                                                                                    miss wrong soon understand   \n",
              "18                                                                                                                           stupid realise late   \n",
              "19                                                  saunter airport terminal experience render petty tribulation everyday travel far significant   \n",
              "20                                                                                 need dangerous pretty strike dance pick deep vogue minute ago   \n",
              "21                                                                                                    strong confident professional opinion know   \n",
              "22                                               shower wonderful energetic previous feeling life turn awesome create life like happy life world   \n",
              "23                                                                                                               submissive time lose bdsm stuff   \n",
              "24                                   imagine reason marriage hard good bad ugly part part make hard love feel awful like part expose people know   \n",
              "25                                                                                                                        like real fan fake fan   \n",
              "26                                                                                                                      like actually get useful   \n",
              "27                                                                          able overcome anxiousness peaceful quickly jot answer today homework   \n",
              "28                                                                                                         successful provide peace mind content   \n",
              "29                                                                                                                    guess really get nostalgic   "
            ],
            "text/html": [
              "\n",
              "  <div id=\"df-695657b6-fab7-4e30-8e8c-2d1283d87bd1\" class=\"colab-df-container\">\n",
              "    <div>\n",
              "<style scoped>\n",
              "    .dataframe tbody tr th:only-of-type {\n",
              "        vertical-align: middle;\n",
              "    }\n",
              "\n",
              "    .dataframe tbody tr th {\n",
              "        vertical-align: top;\n",
              "    }\n",
              "\n",
              "    .dataframe thead th {\n",
              "        text-align: right;\n",
              "    }\n",
              "</style>\n",
              "<table border=\"1\" class=\"dataframe\">\n",
              "  <thead>\n",
              "    <tr style=\"text-align: right;\">\n",
              "      <th></th>\n",
              "      <th>text</th>\n",
              "      <th>label</th>\n",
              "      <th>cleaned_text</th>\n",
              "    </tr>\n",
              "  </thead>\n",
              "  <tbody>\n",
              "    <tr>\n",
              "      <th>0</th>\n",
              "      <td>i just feel really helpless and heavy hearted</td>\n",
              "      <td>4</td>\n",
              "      <td>really helpless heavy hearted</td>\n",
              "    </tr>\n",
              "    <tr>\n",
              "      <th>1</th>\n",
              "      <td>ive enjoyed being able to slouch about relax and unwind and frankly needed it after those last few weeks around the end of uni and the expo i have lately started to find myself feeling a bit listl...</td>\n",
              "      <td>0</td>\n",
              "      <td>enjoy able slouch relax unwind frankly need week end uni expo lately start bit listless really good thing</td>\n",
              "    </tr>\n",
              "    <tr>\n",
              "      <th>2</th>\n",
              "      <td>i gave up my internship with the dmrg and am feeling distraught</td>\n",
              "      <td>4</td>\n",
              "      <td>give internship dmrg distraught</td>\n",
              "    </tr>\n",
              "    <tr>\n",
              "      <th>3</th>\n",
              "      <td>i dont know i feel so lost</td>\n",
              "      <td>0</td>\n",
              "      <td>know lose</td>\n",
              "    </tr>\n",
              "    <tr>\n",
              "      <th>4</th>\n",
              "      <td>i am a kindergarten teacher and i am thoroughly weary of my job after having taken the university entrance exam i suffered from anxiety for weeks as i did not want to carry on with my work studies...</td>\n",
              "      <td>4</td>\n",
              "      <td>kindergarten teacher thoroughly weary job take university entrance exam suffer anxiety week want carry work study alternative</td>\n",
              "    </tr>\n",
              "    <tr>\n",
              "      <th>5</th>\n",
              "      <td>i was beginning to feel quite disheartened</td>\n",
              "      <td>0</td>\n",
              "      <td>begin quite dishearten</td>\n",
              "    </tr>\n",
              "    <tr>\n",
              "      <th>6</th>\n",
              "      <td>i would think that whomever would be lucky enough to stay in this suite must feel like it is the most romantic place on earth</td>\n",
              "      <td>2</td>\n",
              "      <td>think whomever lucky stay suite like romantic place earth</td>\n",
              "    </tr>\n",
              "    <tr>\n",
              "      <th>7</th>\n",
              "      <td>i fear that they won t ever feel that delicious excitement of christmas eve at least not in the same way i remember doing it</td>\n",
              "      <td>1</td>\n",
              "      <td>fear delicious excitement christmas eve way remember</td>\n",
              "    </tr>\n",
              "    <tr>\n",
              "      <th>8</th>\n",
              "      <td>im forever taking some time out to have a lie down because i feel weird</td>\n",
              "      <td>5</td>\n",
              "      <td>forever take time lie weird</td>\n",
              "    </tr>\n",
              "    <tr>\n",
              "      <th>9</th>\n",
              "      <td>i can still lose the weight without feeling deprived</td>\n",
              "      <td>0</td>\n",
              "      <td>lose weight deprive</td>\n",
              "    </tr>\n",
              "    <tr>\n",
              "      <th>10</th>\n",
              "      <td>i try to be nice though so if you get a bitchy person on the phone or at the window feel free to have a little fit and throw your pen at her face</td>\n",
              "      <td>1</td>\n",
              "      <td>try nice bitchy person phone window free little fit throw pen face</td>\n",
              "    </tr>\n",
              "    <tr>\n",
              "      <th>11</th>\n",
              "      <td>im feeling a little like a damaged tree and that my roots are a little out of wack</td>\n",
              "      <td>0</td>\n",
              "      <td>little like damage tree root little wack</td>\n",
              "    </tr>\n",
              "    <tr>\n",
              "      <th>12</th>\n",
              "      <td>i have officially graduated im not feeling as ecstatic as i thought i would</td>\n",
              "      <td>1</td>\n",
              "      <td>officially graduate ecstatic thought</td>\n",
              "    </tr>\n",
              "    <tr>\n",
              "      <th>13</th>\n",
              "      <td>i feel like a jerk because the library students who all claim to love scrabble cant be bothered to participate and clearly scrabble is an inappropriate choice for a group of students whose native ...</td>\n",
              "      <td>3</td>\n",
              "      <td>like jerk library student claim love scrabble bother participate clearly scrabble inappropriate choice group student native language english</td>\n",
              "    </tr>\n",
              "    <tr>\n",
              "      <th>14</th>\n",
              "      <td>i feel my portfolio demonstrates how eager i am to learn but some who know me better might call it annoyingly persistent</td>\n",
              "      <td>1</td>\n",
              "      <td>portfolio demonstrate eager learn know good annoyingly persistent</td>\n",
              "    </tr>\n",
              "    <tr>\n",
              "      <th>15</th>\n",
              "      <td>i may be more biased than the next because i have a dependent life to take care of and to keep safe but i feel we all need to take care of ourselves as well</td>\n",
              "      <td>1</td>\n",
              "      <td>bias dependent life care safe need care</td>\n",
              "    </tr>\n",
              "    <tr>\n",
              "      <th>16</th>\n",
              "      <td>i didn t feel terrific</td>\n",
              "      <td>1</td>\n",
              "      <td>terrific</td>\n",
              "    </tr>\n",
              "    <tr>\n",
              "      <th>17</th>\n",
              "      <td>i miss all the others as well that feel that i wronged them and they will soon understand that i didnt</td>\n",
              "      <td>3</td>\n",
              "      <td>miss wrong soon understand</td>\n",
              "    </tr>\n",
              "    <tr>\n",
              "      <th>18</th>\n",
              "      <td>i feel so stupid that i realise it so late</td>\n",
              "      <td>0</td>\n",
              "      <td>stupid realise late</td>\n",
              "    </tr>\n",
              "    <tr>\n",
              "      <th>19</th>\n",
              "      <td>i saunter through the airport terminals feeling that i have had an experience that renders the petty tribulations of everyday travel somehow far less significant</td>\n",
              "      <td>3</td>\n",
              "      <td>saunter airport terminal experience render petty tribulation everyday travel far significant</td>\n",
              "    </tr>\n",
              "    <tr>\n",
              "      <th>20</th>\n",
              "      <td>i need to feel dangerous and pretty so here a striking dance pick deep in vogue minutes ago</td>\n",
              "      <td>3</td>\n",
              "      <td>need dangerous pretty strike dance pick deep vogue minute ago</td>\n",
              "    </tr>\n",
              "    <tr>\n",
              "      <th>21</th>\n",
              "      <td>i am feeling much stronger and more confident now and by professional opinion i know that i do not have anything serious</td>\n",
              "      <td>1</td>\n",
              "      <td>strong confident professional opinion know</td>\n",
              "    </tr>\n",
              "    <tr>\n",
              "      <th>22</th>\n",
              "      <td>i take a shower i feel wonderful energetic and all my previous feelings about my life turn into this awesome feeling creating my life like the happiest life in the world</td>\n",
              "      <td>1</td>\n",
              "      <td>shower wonderful energetic previous feeling life turn awesome create life like happy life world</td>\n",
              "    </tr>\n",
              "    <tr>\n",
              "      <th>23</th>\n",
              "      <td>i don t feel submissive and for the time being i ve lost interest in some bdsm stuff</td>\n",
              "      <td>0</td>\n",
              "      <td>submissive time lose bdsm stuff</td>\n",
              "    </tr>\n",
              "    <tr>\n",
              "      <th>24</th>\n",
              "      <td>i would imagine this is just one of the reasons why marriage is so hard because theyll see all the good bad and ugly parts of you the parts that make it hard for you to love yourself and it feels ...</td>\n",
              "      <td>0</td>\n",
              "      <td>imagine reason marriage hard good bad ugly part part make hard love feel awful like part expose people know</td>\n",
              "    </tr>\n",
              "    <tr>\n",
              "      <th>25</th>\n",
              "      <td>i feel like a real fan not that i was ever a fake fan</td>\n",
              "      <td>0</td>\n",
              "      <td>like real fan fake fan</td>\n",
              "    </tr>\n",
              "    <tr>\n",
              "      <th>26</th>\n",
              "      <td>i feel like i am actually getting something useful out of it</td>\n",
              "      <td>1</td>\n",
              "      <td>like actually get useful</td>\n",
              "    </tr>\n",
              "    <tr>\n",
              "      <th>27</th>\n",
              "      <td>i was able to overcome this anxiousness and feel peaceful as i quickly jotted down all the answers to todays homework</td>\n",
              "      <td>1</td>\n",
              "      <td>able overcome anxiousness peaceful quickly jot answer today homework</td>\n",
              "    </tr>\n",
              "    <tr>\n",
              "      <th>28</th>\n",
              "      <td>i have been successful in providing some peace of mind i feel content</td>\n",
              "      <td>1</td>\n",
              "      <td>successful provide peace mind content</td>\n",
              "    </tr>\n",
              "    <tr>\n",
              "      <th>29</th>\n",
              "      <td>i guess that feeling is what im really getting all nostalgic about</td>\n",
              "      <td>2</td>\n",
              "      <td>guess really get nostalgic</td>\n",
              "    </tr>\n",
              "  </tbody>\n",
              "</table>\n",
              "</div>\n",
              "    <div class=\"colab-df-buttons\">\n",
              "\n",
              "  <div class=\"colab-df-container\">\n",
              "    <button class=\"colab-df-convert\" onclick=\"convertToInteractive('df-695657b6-fab7-4e30-8e8c-2d1283d87bd1')\"\n",
              "            title=\"Convert this dataframe to an interactive table.\"\n",
              "            style=\"display:none;\">\n",
              "\n",
              "  <svg xmlns=\"http://www.w3.org/2000/svg\" height=\"24px\" viewBox=\"0 -960 960 960\">\n",
              "    <path d=\"M120-120v-720h720v720H120Zm60-500h600v-160H180v160Zm220 220h160v-160H400v160Zm0 220h160v-160H400v160ZM180-400h160v-160H180v160Zm440 0h160v-160H620v160ZM180-180h160v-160H180v160Zm440 0h160v-160H620v160Z\"/>\n",
              "  </svg>\n",
              "    </button>\n",
              "\n",
              "  <style>\n",
              "    .colab-df-container {\n",
              "      display:flex;\n",
              "      gap: 12px;\n",
              "    }\n",
              "\n",
              "    .colab-df-convert {\n",
              "      background-color: #E8F0FE;\n",
              "      border: none;\n",
              "      border-radius: 50%;\n",
              "      cursor: pointer;\n",
              "      display: none;\n",
              "      fill: #1967D2;\n",
              "      height: 32px;\n",
              "      padding: 0 0 0 0;\n",
              "      width: 32px;\n",
              "    }\n",
              "\n",
              "    .colab-df-convert:hover {\n",
              "      background-color: #E2EBFA;\n",
              "      box-shadow: 0px 1px 2px rgba(60, 64, 67, 0.3), 0px 1px 3px 1px rgba(60, 64, 67, 0.15);\n",
              "      fill: #174EA6;\n",
              "    }\n",
              "\n",
              "    .colab-df-buttons div {\n",
              "      margin-bottom: 4px;\n",
              "    }\n",
              "\n",
              "    [theme=dark] .colab-df-convert {\n",
              "      background-color: #3B4455;\n",
              "      fill: #D2E3FC;\n",
              "    }\n",
              "\n",
              "    [theme=dark] .colab-df-convert:hover {\n",
              "      background-color: #434B5C;\n",
              "      box-shadow: 0px 1px 3px 1px rgba(0, 0, 0, 0.15);\n",
              "      filter: drop-shadow(0px 1px 2px rgba(0, 0, 0, 0.3));\n",
              "      fill: #FFFFFF;\n",
              "    }\n",
              "  </style>\n",
              "\n",
              "    <script>\n",
              "      const buttonEl =\n",
              "        document.querySelector('#df-695657b6-fab7-4e30-8e8c-2d1283d87bd1 button.colab-df-convert');\n",
              "      buttonEl.style.display =\n",
              "        google.colab.kernel.accessAllowed ? 'block' : 'none';\n",
              "\n",
              "      async function convertToInteractive(key) {\n",
              "        const element = document.querySelector('#df-695657b6-fab7-4e30-8e8c-2d1283d87bd1');\n",
              "        const dataTable =\n",
              "          await google.colab.kernel.invokeFunction('convertToInteractive',\n",
              "                                                    [key], {});\n",
              "        if (!dataTable) return;\n",
              "\n",
              "        const docLinkHtml = 'Like what you see? Visit the ' +\n",
              "          '<a target=\"_blank\" href=https://colab.research.google.com/notebooks/data_table.ipynb>data table notebook</a>'\n",
              "          + ' to learn more about interactive tables.';\n",
              "        element.innerHTML = '';\n",
              "        dataTable['output_type'] = 'display_data';\n",
              "        await google.colab.output.renderOutput(dataTable, element);\n",
              "        const docLink = document.createElement('div');\n",
              "        docLink.innerHTML = docLinkHtml;\n",
              "        element.appendChild(docLink);\n",
              "      }\n",
              "    </script>\n",
              "  </div>\n",
              "\n",
              "\n",
              "<div id=\"df-aa669090-e242-44a3-bdbe-79041d671e21\">\n",
              "  <button class=\"colab-df-quickchart\" onclick=\"quickchart('df-aa669090-e242-44a3-bdbe-79041d671e21')\"\n",
              "            title=\"Suggest charts\"\n",
              "            style=\"display:none;\">\n",
              "\n",
              "<svg xmlns=\"http://www.w3.org/2000/svg\" height=\"24px\"viewBox=\"0 0 24 24\"\n",
              "     width=\"24px\">\n",
              "    <g>\n",
              "        <path d=\"M19 3H5c-1.1 0-2 .9-2 2v14c0 1.1.9 2 2 2h14c1.1 0 2-.9 2-2V5c0-1.1-.9-2-2-2zM9 17H7v-7h2v7zm4 0h-2V7h2v10zm4 0h-2v-4h2v4z\"/>\n",
              "    </g>\n",
              "</svg>\n",
              "  </button>\n",
              "\n",
              "<style>\n",
              "  .colab-df-quickchart {\n",
              "      --bg-color: #E8F0FE;\n",
              "      --fill-color: #1967D2;\n",
              "      --hover-bg-color: #E2EBFA;\n",
              "      --hover-fill-color: #174EA6;\n",
              "      --disabled-fill-color: #AAA;\n",
              "      --disabled-bg-color: #DDD;\n",
              "  }\n",
              "\n",
              "  [theme=dark] .colab-df-quickchart {\n",
              "      --bg-color: #3B4455;\n",
              "      --fill-color: #D2E3FC;\n",
              "      --hover-bg-color: #434B5C;\n",
              "      --hover-fill-color: #FFFFFF;\n",
              "      --disabled-bg-color: #3B4455;\n",
              "      --disabled-fill-color: #666;\n",
              "  }\n",
              "\n",
              "  .colab-df-quickchart {\n",
              "    background-color: var(--bg-color);\n",
              "    border: none;\n",
              "    border-radius: 50%;\n",
              "    cursor: pointer;\n",
              "    display: none;\n",
              "    fill: var(--fill-color);\n",
              "    height: 32px;\n",
              "    padding: 0;\n",
              "    width: 32px;\n",
              "  }\n",
              "\n",
              "  .colab-df-quickchart:hover {\n",
              "    background-color: var(--hover-bg-color);\n",
              "    box-shadow: 0 1px 2px rgba(60, 64, 67, 0.3), 0 1px 3px 1px rgba(60, 64, 67, 0.15);\n",
              "    fill: var(--button-hover-fill-color);\n",
              "  }\n",
              "\n",
              "  .colab-df-quickchart-complete:disabled,\n",
              "  .colab-df-quickchart-complete:disabled:hover {\n",
              "    background-color: var(--disabled-bg-color);\n",
              "    fill: var(--disabled-fill-color);\n",
              "    box-shadow: none;\n",
              "  }\n",
              "\n",
              "  .colab-df-spinner {\n",
              "    border: 2px solid var(--fill-color);\n",
              "    border-color: transparent;\n",
              "    border-bottom-color: var(--fill-color);\n",
              "    animation:\n",
              "      spin 1s steps(1) infinite;\n",
              "  }\n",
              "\n",
              "  @keyframes spin {\n",
              "    0% {\n",
              "      border-color: transparent;\n",
              "      border-bottom-color: var(--fill-color);\n",
              "      border-left-color: var(--fill-color);\n",
              "    }\n",
              "    20% {\n",
              "      border-color: transparent;\n",
              "      border-left-color: var(--fill-color);\n",
              "      border-top-color: var(--fill-color);\n",
              "    }\n",
              "    30% {\n",
              "      border-color: transparent;\n",
              "      border-left-color: var(--fill-color);\n",
              "      border-top-color: var(--fill-color);\n",
              "      border-right-color: var(--fill-color);\n",
              "    }\n",
              "    40% {\n",
              "      border-color: transparent;\n",
              "      border-right-color: var(--fill-color);\n",
              "      border-top-color: var(--fill-color);\n",
              "    }\n",
              "    60% {\n",
              "      border-color: transparent;\n",
              "      border-right-color: var(--fill-color);\n",
              "    }\n",
              "    80% {\n",
              "      border-color: transparent;\n",
              "      border-right-color: var(--fill-color);\n",
              "      border-bottom-color: var(--fill-color);\n",
              "    }\n",
              "    90% {\n",
              "      border-color: transparent;\n",
              "      border-bottom-color: var(--fill-color);\n",
              "    }\n",
              "  }\n",
              "</style>\n",
              "\n",
              "  <script>\n",
              "    async function quickchart(key) {\n",
              "      const quickchartButtonEl =\n",
              "        document.querySelector('#' + key + ' button');\n",
              "      quickchartButtonEl.disabled = true;  // To prevent multiple clicks.\n",
              "      quickchartButtonEl.classList.add('colab-df-spinner');\n",
              "      try {\n",
              "        const charts = await google.colab.kernel.invokeFunction(\n",
              "            'suggestCharts', [key], {});\n",
              "      } catch (error) {\n",
              "        console.error('Error during call to suggestCharts:', error);\n",
              "      }\n",
              "      quickchartButtonEl.classList.remove('colab-df-spinner');\n",
              "      quickchartButtonEl.classList.add('colab-df-quickchart-complete');\n",
              "    }\n",
              "    (() => {\n",
              "      let quickchartButtonEl =\n",
              "        document.querySelector('#df-aa669090-e242-44a3-bdbe-79041d671e21 button');\n",
              "      quickchartButtonEl.style.display =\n",
              "        google.colab.kernel.accessAllowed ? 'block' : 'none';\n",
              "    })();\n",
              "  </script>\n",
              "</div>\n",
              "\n",
              "    </div>\n",
              "  </div>\n"
            ],
            "application/vnd.google.colaboratory.intrinsic+json": {
              "type": "dataframe",
              "variable_name": "data"
            }
          },
          "metadata": {},
          "execution_count": 39
        }
      ]
    },
    {
      "cell_type": "markdown",
      "metadata": {
        "id": "bjlDh_DV2TEe"
      },
      "source": [
        "# Bag of Words Model - Feature Extraction\n",
        "\n",
        "Problems:\n",
        "- High Sparsity of the feature matrix\n",
        "- High Dimensionality\n",
        "- The ordering of the words is lost - loss of context, no semantic relation between words\n",
        "\n",
        "Solutions:\n",
        "- Use max_df and max_features to narrow down to few useful features\n",
        "- Use TruncatedSVD for Dimensionality Reduction\n",
        "- N-gram. But Word Embeddings is better."
      ]
    },
    {
      "cell_type": "markdown",
      "source": [
        "## Count Vectorizer"
      ],
      "metadata": {
        "id": "TZrPorQ5XPWt"
      }
    },
    {
      "cell_type": "code",
      "execution_count": null,
      "metadata": {
        "id": "-7alCr1Q2pHd",
        "colab": {
          "base_uri": "https://localhost:8080/"
        },
        "outputId": "476540a6-490e-4f2b-8aa0-d60d18dfdbbf"
      },
      "outputs": [
        {
          "output_type": "execute_result",
          "data": {
            "text/plain": [
              "(416519, 65628)"
            ]
          },
          "metadata": {},
          "execution_count": 29
        }
      ],
      "source": [
        "from sklearn.feature_extraction.text import CountVectorizer\n",
        "\n",
        "countvector = CountVectorizer() # Will count the number of time that a word from the vocab present in a document\n",
        "\n",
        "features = countvector.fit_transform(data[\"cleaned_text\"])\n",
        "\n",
        "features.shape"
      ]
    },
    {
      "cell_type": "code",
      "execution_count": null,
      "metadata": {
        "id": "TEOqceiz_XU2",
        "colab": {
          "base_uri": "https://localhost:8080/"
        },
        "outputId": "317b6176-67e6-4e57-fc0b-be431fd15b89"
      },
      "outputs": [
        {
          "output_type": "execute_result",
          "data": {
            "text/plain": [
              "27027979605"
            ]
          },
          "metadata": {},
          "execution_count": 27
        }
      ],
      "source": [
        "416809 * 64845 # 27 Bilion of cells, and I guest 99.99% of it are zeros"
      ]
    },
    {
      "cell_type": "code",
      "execution_count": null,
      "metadata": {
        "id": "ntpZSd1P4xC5",
        "colab": {
          "base_uri": "https://localhost:8080/",
          "height": 392
        },
        "outputId": "5b2373ea-2059-4d13-d346-f7ba0dc7c536"
      },
      "outputs": [
        {
          "output_type": "execute_result",
          "data": {
            "text/plain": [
              "   0      1      2      3      4      5      6      7      8      9      ...  \\\n",
              "0      0      0      0      0      0      0      0      0      0      0  ...   \n",
              "1      0      0      0      0      0      0      0      0      0      0  ...   \n",
              "2      0      0      0      0      0      0      0      0      0      0  ...   \n",
              "3      0      0      0      0      0      0      0      0      0      0  ...   \n",
              "4      0      0      0      0      0      0      0      0      0      0  ...   \n",
              "5      0      0      0      0      0      0      0      0      0      0  ...   \n",
              "6      0      0      0      0      0      0      0      0      0      0  ...   \n",
              "7      0      0      0      0      0      0      0      0      0      0  ...   \n",
              "8      0      0      0      0      0      0      0      0      0      0  ...   \n",
              "9      0      0      0      0      0      0      0      0      0      0  ...   \n",
              "\n",
              "   65618  65619  65620  65621  65622  65623  65624  65625  65626  65627  \n",
              "0      0      0      0      0      0      0      0      0      0      0  \n",
              "1      0      0      0      0      0      0      0      0      0      0  \n",
              "2      0      0      0      0      0      0      0      0      0      0  \n",
              "3      0      0      0      0      0      0      0      0      0      0  \n",
              "4      0      0      0      0      0      0      0      0      0      0  \n",
              "5      0      0      0      0      0      0      0      0      0      0  \n",
              "6      0      0      0      0      0      0      0      0      0      0  \n",
              "7      0      0      0      0      0      0      0      0      0      0  \n",
              "8      0      0      0      0      0      0      0      0      0      0  \n",
              "9      0      0      0      0      0      0      0      0      0      0  \n",
              "\n",
              "[10 rows x 65628 columns]"
            ],
            "text/html": [
              "\n",
              "  <div id=\"df-7db41055-10ed-4501-983b-3f98c655997b\" class=\"colab-df-container\">\n",
              "    <div>\n",
              "<style scoped>\n",
              "    .dataframe tbody tr th:only-of-type {\n",
              "        vertical-align: middle;\n",
              "    }\n",
              "\n",
              "    .dataframe tbody tr th {\n",
              "        vertical-align: top;\n",
              "    }\n",
              "\n",
              "    .dataframe thead th {\n",
              "        text-align: right;\n",
              "    }\n",
              "</style>\n",
              "<table border=\"1\" class=\"dataframe\">\n",
              "  <thead>\n",
              "    <tr style=\"text-align: right;\">\n",
              "      <th></th>\n",
              "      <th>0</th>\n",
              "      <th>1</th>\n",
              "      <th>2</th>\n",
              "      <th>3</th>\n",
              "      <th>4</th>\n",
              "      <th>5</th>\n",
              "      <th>6</th>\n",
              "      <th>7</th>\n",
              "      <th>8</th>\n",
              "      <th>9</th>\n",
              "      <th>...</th>\n",
              "      <th>65618</th>\n",
              "      <th>65619</th>\n",
              "      <th>65620</th>\n",
              "      <th>65621</th>\n",
              "      <th>65622</th>\n",
              "      <th>65623</th>\n",
              "      <th>65624</th>\n",
              "      <th>65625</th>\n",
              "      <th>65626</th>\n",
              "      <th>65627</th>\n",
              "    </tr>\n",
              "  </thead>\n",
              "  <tbody>\n",
              "    <tr>\n",
              "      <th>0</th>\n",
              "      <td>0</td>\n",
              "      <td>0</td>\n",
              "      <td>0</td>\n",
              "      <td>0</td>\n",
              "      <td>0</td>\n",
              "      <td>0</td>\n",
              "      <td>0</td>\n",
              "      <td>0</td>\n",
              "      <td>0</td>\n",
              "      <td>0</td>\n",
              "      <td>...</td>\n",
              "      <td>0</td>\n",
              "      <td>0</td>\n",
              "      <td>0</td>\n",
              "      <td>0</td>\n",
              "      <td>0</td>\n",
              "      <td>0</td>\n",
              "      <td>0</td>\n",
              "      <td>0</td>\n",
              "      <td>0</td>\n",
              "      <td>0</td>\n",
              "    </tr>\n",
              "    <tr>\n",
              "      <th>1</th>\n",
              "      <td>0</td>\n",
              "      <td>0</td>\n",
              "      <td>0</td>\n",
              "      <td>0</td>\n",
              "      <td>0</td>\n",
              "      <td>0</td>\n",
              "      <td>0</td>\n",
              "      <td>0</td>\n",
              "      <td>0</td>\n",
              "      <td>0</td>\n",
              "      <td>...</td>\n",
              "      <td>0</td>\n",
              "      <td>0</td>\n",
              "      <td>0</td>\n",
              "      <td>0</td>\n",
              "      <td>0</td>\n",
              "      <td>0</td>\n",
              "      <td>0</td>\n",
              "      <td>0</td>\n",
              "      <td>0</td>\n",
              "      <td>0</td>\n",
              "    </tr>\n",
              "    <tr>\n",
              "      <th>2</th>\n",
              "      <td>0</td>\n",
              "      <td>0</td>\n",
              "      <td>0</td>\n",
              "      <td>0</td>\n",
              "      <td>0</td>\n",
              "      <td>0</td>\n",
              "      <td>0</td>\n",
              "      <td>0</td>\n",
              "      <td>0</td>\n",
              "      <td>0</td>\n",
              "      <td>...</td>\n",
              "      <td>0</td>\n",
              "      <td>0</td>\n",
              "      <td>0</td>\n",
              "      <td>0</td>\n",
              "      <td>0</td>\n",
              "      <td>0</td>\n",
              "      <td>0</td>\n",
              "      <td>0</td>\n",
              "      <td>0</td>\n",
              "      <td>0</td>\n",
              "    </tr>\n",
              "    <tr>\n",
              "      <th>3</th>\n",
              "      <td>0</td>\n",
              "      <td>0</td>\n",
              "      <td>0</td>\n",
              "      <td>0</td>\n",
              "      <td>0</td>\n",
              "      <td>0</td>\n",
              "      <td>0</td>\n",
              "      <td>0</td>\n",
              "      <td>0</td>\n",
              "      <td>0</td>\n",
              "      <td>...</td>\n",
              "      <td>0</td>\n",
              "      <td>0</td>\n",
              "      <td>0</td>\n",
              "      <td>0</td>\n",
              "      <td>0</td>\n",
              "      <td>0</td>\n",
              "      <td>0</td>\n",
              "      <td>0</td>\n",
              "      <td>0</td>\n",
              "      <td>0</td>\n",
              "    </tr>\n",
              "    <tr>\n",
              "      <th>4</th>\n",
              "      <td>0</td>\n",
              "      <td>0</td>\n",
              "      <td>0</td>\n",
              "      <td>0</td>\n",
              "      <td>0</td>\n",
              "      <td>0</td>\n",
              "      <td>0</td>\n",
              "      <td>0</td>\n",
              "      <td>0</td>\n",
              "      <td>0</td>\n",
              "      <td>...</td>\n",
              "      <td>0</td>\n",
              "      <td>0</td>\n",
              "      <td>0</td>\n",
              "      <td>0</td>\n",
              "      <td>0</td>\n",
              "      <td>0</td>\n",
              "      <td>0</td>\n",
              "      <td>0</td>\n",
              "      <td>0</td>\n",
              "      <td>0</td>\n",
              "    </tr>\n",
              "    <tr>\n",
              "      <th>5</th>\n",
              "      <td>0</td>\n",
              "      <td>0</td>\n",
              "      <td>0</td>\n",
              "      <td>0</td>\n",
              "      <td>0</td>\n",
              "      <td>0</td>\n",
              "      <td>0</td>\n",
              "      <td>0</td>\n",
              "      <td>0</td>\n",
              "      <td>0</td>\n",
              "      <td>...</td>\n",
              "      <td>0</td>\n",
              "      <td>0</td>\n",
              "      <td>0</td>\n",
              "      <td>0</td>\n",
              "      <td>0</td>\n",
              "      <td>0</td>\n",
              "      <td>0</td>\n",
              "      <td>0</td>\n",
              "      <td>0</td>\n",
              "      <td>0</td>\n",
              "    </tr>\n",
              "    <tr>\n",
              "      <th>6</th>\n",
              "      <td>0</td>\n",
              "      <td>0</td>\n",
              "      <td>0</td>\n",
              "      <td>0</td>\n",
              "      <td>0</td>\n",
              "      <td>0</td>\n",
              "      <td>0</td>\n",
              "      <td>0</td>\n",
              "      <td>0</td>\n",
              "      <td>0</td>\n",
              "      <td>...</td>\n",
              "      <td>0</td>\n",
              "      <td>0</td>\n",
              "      <td>0</td>\n",
              "      <td>0</td>\n",
              "      <td>0</td>\n",
              "      <td>0</td>\n",
              "      <td>0</td>\n",
              "      <td>0</td>\n",
              "      <td>0</td>\n",
              "      <td>0</td>\n",
              "    </tr>\n",
              "    <tr>\n",
              "      <th>7</th>\n",
              "      <td>0</td>\n",
              "      <td>0</td>\n",
              "      <td>0</td>\n",
              "      <td>0</td>\n",
              "      <td>0</td>\n",
              "      <td>0</td>\n",
              "      <td>0</td>\n",
              "      <td>0</td>\n",
              "      <td>0</td>\n",
              "      <td>0</td>\n",
              "      <td>...</td>\n",
              "      <td>0</td>\n",
              "      <td>0</td>\n",
              "      <td>0</td>\n",
              "      <td>0</td>\n",
              "      <td>0</td>\n",
              "      <td>0</td>\n",
              "      <td>0</td>\n",
              "      <td>0</td>\n",
              "      <td>0</td>\n",
              "      <td>0</td>\n",
              "    </tr>\n",
              "    <tr>\n",
              "      <th>8</th>\n",
              "      <td>0</td>\n",
              "      <td>0</td>\n",
              "      <td>0</td>\n",
              "      <td>0</td>\n",
              "      <td>0</td>\n",
              "      <td>0</td>\n",
              "      <td>0</td>\n",
              "      <td>0</td>\n",
              "      <td>0</td>\n",
              "      <td>0</td>\n",
              "      <td>...</td>\n",
              "      <td>0</td>\n",
              "      <td>0</td>\n",
              "      <td>0</td>\n",
              "      <td>0</td>\n",
              "      <td>0</td>\n",
              "      <td>0</td>\n",
              "      <td>0</td>\n",
              "      <td>0</td>\n",
              "      <td>0</td>\n",
              "      <td>0</td>\n",
              "    </tr>\n",
              "    <tr>\n",
              "      <th>9</th>\n",
              "      <td>0</td>\n",
              "      <td>0</td>\n",
              "      <td>0</td>\n",
              "      <td>0</td>\n",
              "      <td>0</td>\n",
              "      <td>0</td>\n",
              "      <td>0</td>\n",
              "      <td>0</td>\n",
              "      <td>0</td>\n",
              "      <td>0</td>\n",
              "      <td>...</td>\n",
              "      <td>0</td>\n",
              "      <td>0</td>\n",
              "      <td>0</td>\n",
              "      <td>0</td>\n",
              "      <td>0</td>\n",
              "      <td>0</td>\n",
              "      <td>0</td>\n",
              "      <td>0</td>\n",
              "      <td>0</td>\n",
              "      <td>0</td>\n",
              "    </tr>\n",
              "  </tbody>\n",
              "</table>\n",
              "<p>10 rows × 65628 columns</p>\n",
              "</div>\n",
              "    <div class=\"colab-df-buttons\">\n",
              "\n",
              "  <div class=\"colab-df-container\">\n",
              "    <button class=\"colab-df-convert\" onclick=\"convertToInteractive('df-7db41055-10ed-4501-983b-3f98c655997b')\"\n",
              "            title=\"Convert this dataframe to an interactive table.\"\n",
              "            style=\"display:none;\">\n",
              "\n",
              "  <svg xmlns=\"http://www.w3.org/2000/svg\" height=\"24px\" viewBox=\"0 -960 960 960\">\n",
              "    <path d=\"M120-120v-720h720v720H120Zm60-500h600v-160H180v160Zm220 220h160v-160H400v160Zm0 220h160v-160H400v160ZM180-400h160v-160H180v160Zm440 0h160v-160H620v160ZM180-180h160v-160H180v160Zm440 0h160v-160H620v160Z\"/>\n",
              "  </svg>\n",
              "    </button>\n",
              "\n",
              "  <style>\n",
              "    .colab-df-container {\n",
              "      display:flex;\n",
              "      gap: 12px;\n",
              "    }\n",
              "\n",
              "    .colab-df-convert {\n",
              "      background-color: #E8F0FE;\n",
              "      border: none;\n",
              "      border-radius: 50%;\n",
              "      cursor: pointer;\n",
              "      display: none;\n",
              "      fill: #1967D2;\n",
              "      height: 32px;\n",
              "      padding: 0 0 0 0;\n",
              "      width: 32px;\n",
              "    }\n",
              "\n",
              "    .colab-df-convert:hover {\n",
              "      background-color: #E2EBFA;\n",
              "      box-shadow: 0px 1px 2px rgba(60, 64, 67, 0.3), 0px 1px 3px 1px rgba(60, 64, 67, 0.15);\n",
              "      fill: #174EA6;\n",
              "    }\n",
              "\n",
              "    .colab-df-buttons div {\n",
              "      margin-bottom: 4px;\n",
              "    }\n",
              "\n",
              "    [theme=dark] .colab-df-convert {\n",
              "      background-color: #3B4455;\n",
              "      fill: #D2E3FC;\n",
              "    }\n",
              "\n",
              "    [theme=dark] .colab-df-convert:hover {\n",
              "      background-color: #434B5C;\n",
              "      box-shadow: 0px 1px 3px 1px rgba(0, 0, 0, 0.15);\n",
              "      filter: drop-shadow(0px 1px 2px rgba(0, 0, 0, 0.3));\n",
              "      fill: #FFFFFF;\n",
              "    }\n",
              "  </style>\n",
              "\n",
              "    <script>\n",
              "      const buttonEl =\n",
              "        document.querySelector('#df-7db41055-10ed-4501-983b-3f98c655997b button.colab-df-convert');\n",
              "      buttonEl.style.display =\n",
              "        google.colab.kernel.accessAllowed ? 'block' : 'none';\n",
              "\n",
              "      async function convertToInteractive(key) {\n",
              "        const element = document.querySelector('#df-7db41055-10ed-4501-983b-3f98c655997b');\n",
              "        const dataTable =\n",
              "          await google.colab.kernel.invokeFunction('convertToInteractive',\n",
              "                                                    [key], {});\n",
              "        if (!dataTable) return;\n",
              "\n",
              "        const docLinkHtml = 'Like what you see? Visit the ' +\n",
              "          '<a target=\"_blank\" href=https://colab.research.google.com/notebooks/data_table.ipynb>data table notebook</a>'\n",
              "          + ' to learn more about interactive tables.';\n",
              "        element.innerHTML = '';\n",
              "        dataTable['output_type'] = 'display_data';\n",
              "        await google.colab.output.renderOutput(dataTable, element);\n",
              "        const docLink = document.createElement('div');\n",
              "        docLink.innerHTML = docLinkHtml;\n",
              "        element.appendChild(docLink);\n",
              "      }\n",
              "    </script>\n",
              "  </div>\n",
              "\n",
              "\n",
              "<div id=\"df-53d4b22b-f5e4-4abf-9c01-7c071a0f69a0\">\n",
              "  <button class=\"colab-df-quickchart\" onclick=\"quickchart('df-53d4b22b-f5e4-4abf-9c01-7c071a0f69a0')\"\n",
              "            title=\"Suggest charts\"\n",
              "            style=\"display:none;\">\n",
              "\n",
              "<svg xmlns=\"http://www.w3.org/2000/svg\" height=\"24px\"viewBox=\"0 0 24 24\"\n",
              "     width=\"24px\">\n",
              "    <g>\n",
              "        <path d=\"M19 3H5c-1.1 0-2 .9-2 2v14c0 1.1.9 2 2 2h14c1.1 0 2-.9 2-2V5c0-1.1-.9-2-2-2zM9 17H7v-7h2v7zm4 0h-2V7h2v10zm4 0h-2v-4h2v4z\"/>\n",
              "    </g>\n",
              "</svg>\n",
              "  </button>\n",
              "\n",
              "<style>\n",
              "  .colab-df-quickchart {\n",
              "      --bg-color: #E8F0FE;\n",
              "      --fill-color: #1967D2;\n",
              "      --hover-bg-color: #E2EBFA;\n",
              "      --hover-fill-color: #174EA6;\n",
              "      --disabled-fill-color: #AAA;\n",
              "      --disabled-bg-color: #DDD;\n",
              "  }\n",
              "\n",
              "  [theme=dark] .colab-df-quickchart {\n",
              "      --bg-color: #3B4455;\n",
              "      --fill-color: #D2E3FC;\n",
              "      --hover-bg-color: #434B5C;\n",
              "      --hover-fill-color: #FFFFFF;\n",
              "      --disabled-bg-color: #3B4455;\n",
              "      --disabled-fill-color: #666;\n",
              "  }\n",
              "\n",
              "  .colab-df-quickchart {\n",
              "    background-color: var(--bg-color);\n",
              "    border: none;\n",
              "    border-radius: 50%;\n",
              "    cursor: pointer;\n",
              "    display: none;\n",
              "    fill: var(--fill-color);\n",
              "    height: 32px;\n",
              "    padding: 0;\n",
              "    width: 32px;\n",
              "  }\n",
              "\n",
              "  .colab-df-quickchart:hover {\n",
              "    background-color: var(--hover-bg-color);\n",
              "    box-shadow: 0 1px 2px rgba(60, 64, 67, 0.3), 0 1px 3px 1px rgba(60, 64, 67, 0.15);\n",
              "    fill: var(--button-hover-fill-color);\n",
              "  }\n",
              "\n",
              "  .colab-df-quickchart-complete:disabled,\n",
              "  .colab-df-quickchart-complete:disabled:hover {\n",
              "    background-color: var(--disabled-bg-color);\n",
              "    fill: var(--disabled-fill-color);\n",
              "    box-shadow: none;\n",
              "  }\n",
              "\n",
              "  .colab-df-spinner {\n",
              "    border: 2px solid var(--fill-color);\n",
              "    border-color: transparent;\n",
              "    border-bottom-color: var(--fill-color);\n",
              "    animation:\n",
              "      spin 1s steps(1) infinite;\n",
              "  }\n",
              "\n",
              "  @keyframes spin {\n",
              "    0% {\n",
              "      border-color: transparent;\n",
              "      border-bottom-color: var(--fill-color);\n",
              "      border-left-color: var(--fill-color);\n",
              "    }\n",
              "    20% {\n",
              "      border-color: transparent;\n",
              "      border-left-color: var(--fill-color);\n",
              "      border-top-color: var(--fill-color);\n",
              "    }\n",
              "    30% {\n",
              "      border-color: transparent;\n",
              "      border-left-color: var(--fill-color);\n",
              "      border-top-color: var(--fill-color);\n",
              "      border-right-color: var(--fill-color);\n",
              "    }\n",
              "    40% {\n",
              "      border-color: transparent;\n",
              "      border-right-color: var(--fill-color);\n",
              "      border-top-color: var(--fill-color);\n",
              "    }\n",
              "    60% {\n",
              "      border-color: transparent;\n",
              "      border-right-color: var(--fill-color);\n",
              "    }\n",
              "    80% {\n",
              "      border-color: transparent;\n",
              "      border-right-color: var(--fill-color);\n",
              "      border-bottom-color: var(--fill-color);\n",
              "    }\n",
              "    90% {\n",
              "      border-color: transparent;\n",
              "      border-bottom-color: var(--fill-color);\n",
              "    }\n",
              "  }\n",
              "</style>\n",
              "\n",
              "  <script>\n",
              "    async function quickchart(key) {\n",
              "      const quickchartButtonEl =\n",
              "        document.querySelector('#' + key + ' button');\n",
              "      quickchartButtonEl.disabled = true;  // To prevent multiple clicks.\n",
              "      quickchartButtonEl.classList.add('colab-df-spinner');\n",
              "      try {\n",
              "        const charts = await google.colab.kernel.invokeFunction(\n",
              "            'suggestCharts', [key], {});\n",
              "      } catch (error) {\n",
              "        console.error('Error during call to suggestCharts:', error);\n",
              "      }\n",
              "      quickchartButtonEl.classList.remove('colab-df-spinner');\n",
              "      quickchartButtonEl.classList.add('colab-df-quickchart-complete');\n",
              "    }\n",
              "    (() => {\n",
              "      let quickchartButtonEl =\n",
              "        document.querySelector('#df-53d4b22b-f5e4-4abf-9c01-7c071a0f69a0 button');\n",
              "      quickchartButtonEl.style.display =\n",
              "        google.colab.kernel.accessAllowed ? 'block' : 'none';\n",
              "    })();\n",
              "  </script>\n",
              "</div>\n",
              "\n",
              "    </div>\n",
              "  </div>\n"
            ],
            "application/vnd.google.colaboratory.intrinsic+json": {
              "type": "dataframe"
            }
          },
          "metadata": {},
          "execution_count": 26
        }
      ],
      "source": [
        "# the matrix is too big to visualize, out of RAM\n",
        "# but most of its are zero\n",
        "# below is just one row\n",
        "pd.DataFrame(features[:10].todense())"
      ]
    },
    {
      "cell_type": "code",
      "execution_count": null,
      "metadata": {
        "id": "buHweIQ-_n6R",
        "colab": {
          "base_uri": "https://localhost:8080/"
        },
        "outputId": "22da1545-24bf-4643-f270-7438613d80cb"
      },
      "outputs": [
        {
          "output_type": "execute_result",
          "data": {
            "text/plain": [
              "array(['aa', 'aaa', 'aaaa', 'aaaaaaaaaaaaaaaaggghhhh',\n",
              "       'aaaaaaaaaaaaaaarrrrrrrrrrrrrrrrrrrrrrrrrrrrrrrrrggggggggggggggggggggggggggggghhhhhhhhhhhhhh',\n",
              "       'aaaaaaaall', 'aaaaaaand', 'aaaaaand', 'aaaaah', 'aaaaahhhhhh',\n",
              "       'aaaaall', 'aaaaand', 'aaaah', 'aaaahhhhhh', 'aaaand', 'aaah',\n",
              "       'aaahs', 'aaand', 'aaargh', 'aaawesome', 'aab', 'aabsolutely',\n",
              "       'aac', 'aacc', 'aactually', 'aad', 'aadmi', 'aah', 'aahhh',\n",
              "       'aahhing', 'aainaa', 'aaishwaryaa', 'aajao', 'aakash', 'aakhri',\n",
              "       'aal', 'aaliyah', 'aallll', 'aam', 'aand', 'aap', 'aaradhya',\n",
              "       'aardvark', 'aardvarkartglass', 'aaron', 'aarrggh', 'aart',\n",
              "       'aarthi', 'aaryn', 'aashiqui', 'aate', 'aatp', 'aau', 'ab', 'aba',\n",
              "       'aback', 'abad', 'abaddon', 'abagail', 'abah', 'abandoment',\n",
              "       'abandon', 'abandonded', 'abandoned', 'abandoning', 'abandonment',\n",
              "       'abandonned', 'abandonship', 'abang', 'abani', 'abash', 'abashed',\n",
              "       'abashedly', 'abate', 'abaya', 'abb', 'abba', 'abbas', 'abbasi',\n",
              "       'abbatoir', 'abbey', 'abbigail', 'abbott', 'abbreviate',\n",
              "       'abbreviated', 'abbreviation', 'abbrevs', 'abbut', 'abby', 'abbys',\n",
              "       'abc', 'abcesses', 'abcnews', 'abcs', 'abd', 'abdicate', 'abdomen',\n",
              "       'abdominal', 'abduct', 'abductees'], dtype=object)"
            ]
          },
          "metadata": {},
          "execution_count": 28
        }
      ],
      "source": [
        "countvector.get_feature_names_out()[:100]"
      ]
    },
    {
      "cell_type": "markdown",
      "metadata": {
        "id": "rXIV8YZRC51O"
      },
      "source": [
        "### Model Building"
      ]
    },
    {
      "cell_type": "code",
      "execution_count": null,
      "metadata": {
        "id": "0EqxukosC90v"
      },
      "outputs": [],
      "source": [
        "from sklearn.model_selection import train_test_split\n",
        "\n",
        "X_train, X_test, y_train, y_test = train_test_split(features, data[\"label\"], test_size=0.2, stratify=data['label'], random_state=42)"
      ]
    },
    {
      "cell_type": "code",
      "execution_count": null,
      "metadata": {
        "id": "i9vjNWjEDrtH",
        "colab": {
          "base_uri": "https://localhost:8080/"
        },
        "outputId": "43aa323e-b72c-4267-c59d-9761184d7330"
      },
      "outputs": [
        {
          "output_type": "stream",
          "name": "stdout",
          "text": [
            "0.9117086565730834\n",
            "0.8764164986075098\n"
          ]
        }
      ],
      "source": [
        "from sklearn.linear_model import LogisticRegression\n",
        "LR = LogisticRegression(solver='liblinear')\n",
        "LR.fit(X_train,y_train)\n",
        "\n",
        "print(LR.score(X_train,y_train))\n",
        "print(LR.score(X_test,y_test))"
      ]
    },
    {
      "cell_type": "markdown",
      "source": [
        "overfitted 91 on train but 87 on test"
      ],
      "metadata": {
        "id": "yVMZG09XZUBn"
      }
    },
    {
      "cell_type": "code",
      "execution_count": null,
      "metadata": {
        "id": "QKmtiuBuIpZP",
        "colab": {
          "base_uri": "https://localhost:8080/"
        },
        "outputId": "a19150c5-b065-4d33-f92a-1ada6098cbc8"
      },
      "outputs": [
        {
          "output_type": "stream",
          "name": "stdout",
          "text": [
            "0.8981108293444172\n",
            "0.8907735522904062\n"
          ]
        }
      ],
      "source": [
        "LR1 = LogisticRegression(class_weight=\"balanced\",solver='liblinear', penalty=\"l1\", C=0.5)\n",
        "LR1.fit(X_train,y_train)\n",
        "\n",
        "print(LR1.score(X_train,y_train))\n",
        "print(LR1.score(X_test,y_test))"
      ]
    },
    {
      "cell_type": "markdown",
      "source": [
        "best model, just 0.8 difference"
      ],
      "metadata": {
        "id": "dPu1Qvk_ZiQg"
      }
    },
    {
      "cell_type": "code",
      "execution_count": null,
      "metadata": {
        "id": "HpaExPPvJcZ8",
        "colab": {
          "base_uri": "https://localhost:8080/"
        },
        "outputId": "40d52e2e-806c-499e-8cfe-cbd4a7f90032"
      },
      "outputs": [
        {
          "output_type": "stream",
          "name": "stdout",
          "text": [
            "0.9031946340951038\n",
            "0.884303274752713\n"
          ]
        }
      ],
      "source": [
        "LR2 = LogisticRegression(class_weight=\"balanced\",solver='liblinear', penalty=\"l2\", C=0.4)\n",
        "LR2.fit(X_train,y_train)\n",
        "\n",
        "print(LR2.score(X_train,y_train))\n",
        "print(LR2.score(X_test,y_test))"
      ]
    },
    {
      "cell_type": "markdown",
      "source": [
        "not good as the above model"
      ],
      "metadata": {
        "id": "CfFDIa9uZzXm"
      }
    },
    {
      "cell_type": "markdown",
      "metadata": {
        "id": "JZadYTN22i_p"
      },
      "source": [
        "#### Hyper parameters tuning of a model"
      ]
    },
    {
      "cell_type": "code",
      "execution_count": null,
      "metadata": {
        "colab": {
          "base_uri": "https://localhost:8080/"
        },
        "id": "Ae8kKo7KwPdS",
        "outputId": "46d5ddb3-56c8-4c81-dc83-48295dab5a87"
      },
      "outputs": [
        {
          "output_type": "stream",
          "name": "stdout",
          "text": [
            "Fitting 5 folds for each of 20 candidates, totalling 100 fits\n"
          ]
        }
      ],
      "source": [
        "from sklearn.model_selection import GridSearchCV\n",
        "\n",
        "C_values = np.arange(0.00001, 1, 0.05) # 20 values\n",
        "\n",
        "grid = GridSearchCV(estimator=LR1, param_grid={'C': C_values}, cv=kfold, scoring='accuracy', return_train_score=True, verbose=2, n_jobs=-1)\n",
        "grid_results = grid.fit(X,y)"
      ]
    },
    {
      "cell_type": "code",
      "execution_count": null,
      "metadata": {
        "id": "nualG5hAyKQ4",
        "colab": {
          "base_uri": "https://localhost:8080/",
          "height": 116
        },
        "outputId": "abeb3fcd-1124-405a-9ea4-d294150a55fb"
      },
      "outputs": [
        {
          "output_type": "execute_result",
          "data": {
            "text/plain": [
              "GridSearchCV(cv=StratifiedKFold(n_splits=5, random_state=42, shuffle=True),\n",
              "             estimator=LogisticRegression(C=0.5, class_weight='balanced',\n",
              "                                          penalty='l1', solver='liblinear'),\n",
              "             n_jobs=-1,\n",
              "             param_grid={'C': array([1.0000e-05, 5.0010e-02, 1.0001e-01, 1.5001e-01, 2.0001e-01,\n",
              "       2.5001e-01, 3.0001e-01, 3.5001e-01, 4.0001e-01, 4.5001e-01,\n",
              "       5.0001e-01, 5.5001e-01, 6.0001e-01, 6.5001e-01, 7.0001e-01,\n",
              "       7.5001e-01, 8.0001e-01, 8.5001e-01, 9.0001e-01, 9.5001e-01])},\n",
              "             return_train_score=True, scoring='accuracy', verbose=2)"
            ],
            "text/html": [
              "<style>#sk-container-id-1 {color: black;background-color: white;}#sk-container-id-1 pre{padding: 0;}#sk-container-id-1 div.sk-toggleable {background-color: white;}#sk-container-id-1 label.sk-toggleable__label {cursor: pointer;display: block;width: 100%;margin-bottom: 0;padding: 0.3em;box-sizing: border-box;text-align: center;}#sk-container-id-1 label.sk-toggleable__label-arrow:before {content: \"▸\";float: left;margin-right: 0.25em;color: #696969;}#sk-container-id-1 label.sk-toggleable__label-arrow:hover:before {color: black;}#sk-container-id-1 div.sk-estimator:hover label.sk-toggleable__label-arrow:before {color: black;}#sk-container-id-1 div.sk-toggleable__content {max-height: 0;max-width: 0;overflow: hidden;text-align: left;background-color: #f0f8ff;}#sk-container-id-1 div.sk-toggleable__content pre {margin: 0.2em;color: black;border-radius: 0.25em;background-color: #f0f8ff;}#sk-container-id-1 input.sk-toggleable__control:checked~div.sk-toggleable__content {max-height: 200px;max-width: 100%;overflow: auto;}#sk-container-id-1 input.sk-toggleable__control:checked~label.sk-toggleable__label-arrow:before {content: \"▾\";}#sk-container-id-1 div.sk-estimator input.sk-toggleable__control:checked~label.sk-toggleable__label {background-color: #d4ebff;}#sk-container-id-1 div.sk-label input.sk-toggleable__control:checked~label.sk-toggleable__label {background-color: #d4ebff;}#sk-container-id-1 input.sk-hidden--visually {border: 0;clip: rect(1px 1px 1px 1px);clip: rect(1px, 1px, 1px, 1px);height: 1px;margin: -1px;overflow: hidden;padding: 0;position: absolute;width: 1px;}#sk-container-id-1 div.sk-estimator {font-family: monospace;background-color: #f0f8ff;border: 1px dotted black;border-radius: 0.25em;box-sizing: border-box;margin-bottom: 0.5em;}#sk-container-id-1 div.sk-estimator:hover {background-color: #d4ebff;}#sk-container-id-1 div.sk-parallel-item::after {content: \"\";width: 100%;border-bottom: 1px solid gray;flex-grow: 1;}#sk-container-id-1 div.sk-label:hover label.sk-toggleable__label {background-color: #d4ebff;}#sk-container-id-1 div.sk-serial::before {content: \"\";position: absolute;border-left: 1px solid gray;box-sizing: border-box;top: 0;bottom: 0;left: 50%;z-index: 0;}#sk-container-id-1 div.sk-serial {display: flex;flex-direction: column;align-items: center;background-color: white;padding-right: 0.2em;padding-left: 0.2em;position: relative;}#sk-container-id-1 div.sk-item {position: relative;z-index: 1;}#sk-container-id-1 div.sk-parallel {display: flex;align-items: stretch;justify-content: center;background-color: white;position: relative;}#sk-container-id-1 div.sk-item::before, #sk-container-id-1 div.sk-parallel-item::before {content: \"\";position: absolute;border-left: 1px solid gray;box-sizing: border-box;top: 0;bottom: 0;left: 50%;z-index: -1;}#sk-container-id-1 div.sk-parallel-item {display: flex;flex-direction: column;z-index: 1;position: relative;background-color: white;}#sk-container-id-1 div.sk-parallel-item:first-child::after {align-self: flex-end;width: 50%;}#sk-container-id-1 div.sk-parallel-item:last-child::after {align-self: flex-start;width: 50%;}#sk-container-id-1 div.sk-parallel-item:only-child::after {width: 0;}#sk-container-id-1 div.sk-dashed-wrapped {border: 1px dashed gray;margin: 0 0.4em 0.5em 0.4em;box-sizing: border-box;padding-bottom: 0.4em;background-color: white;}#sk-container-id-1 div.sk-label label {font-family: monospace;font-weight: bold;display: inline-block;line-height: 1.2em;}#sk-container-id-1 div.sk-label-container {text-align: center;}#sk-container-id-1 div.sk-container {/* jupyter's `normalize.less` sets `[hidden] { display: none; }` but bootstrap.min.css set `[hidden] { display: none !important; }` so we also need the `!important` here to be able to override the default hidden behavior on the sphinx rendered scikit-learn.org. See: https://github.com/scikit-learn/scikit-learn/issues/21755 */display: inline-block !important;position: relative;}#sk-container-id-1 div.sk-text-repr-fallback {display: none;}</style><div id=\"sk-container-id-1\" class=\"sk-top-container\"><div class=\"sk-text-repr-fallback\"><pre>GridSearchCV(cv=StratifiedKFold(n_splits=5, random_state=42, shuffle=True),\n",
              "             estimator=LogisticRegression(C=0.5, class_weight=&#x27;balanced&#x27;,\n",
              "                                          penalty=&#x27;l1&#x27;, solver=&#x27;liblinear&#x27;),\n",
              "             n_jobs=-1,\n",
              "             param_grid={&#x27;C&#x27;: array([1.0000e-05, 5.0010e-02, 1.0001e-01, 1.5001e-01, 2.0001e-01,\n",
              "       2.5001e-01, 3.0001e-01, 3.5001e-01, 4.0001e-01, 4.5001e-01,\n",
              "       5.0001e-01, 5.5001e-01, 6.0001e-01, 6.5001e-01, 7.0001e-01,\n",
              "       7.5001e-01, 8.0001e-01, 8.5001e-01, 9.0001e-01, 9.5001e-01])},\n",
              "             return_train_score=True, scoring=&#x27;accuracy&#x27;, verbose=2)</pre><b>In a Jupyter environment, please rerun this cell to show the HTML representation or trust the notebook. <br />On GitHub, the HTML representation is unable to render, please try loading this page with nbviewer.org.</b></div><div class=\"sk-container\" hidden><div class=\"sk-item sk-dashed-wrapped\"><div class=\"sk-label-container\"><div class=\"sk-label sk-toggleable\"><input class=\"sk-toggleable__control sk-hidden--visually\" id=\"sk-estimator-id-1\" type=\"checkbox\" ><label for=\"sk-estimator-id-1\" class=\"sk-toggleable__label sk-toggleable__label-arrow\">GridSearchCV</label><div class=\"sk-toggleable__content\"><pre>GridSearchCV(cv=StratifiedKFold(n_splits=5, random_state=42, shuffle=True),\n",
              "             estimator=LogisticRegression(C=0.5, class_weight=&#x27;balanced&#x27;,\n",
              "                                          penalty=&#x27;l1&#x27;, solver=&#x27;liblinear&#x27;),\n",
              "             n_jobs=-1,\n",
              "             param_grid={&#x27;C&#x27;: array([1.0000e-05, 5.0010e-02, 1.0001e-01, 1.5001e-01, 2.0001e-01,\n",
              "       2.5001e-01, 3.0001e-01, 3.5001e-01, 4.0001e-01, 4.5001e-01,\n",
              "       5.0001e-01, 5.5001e-01, 6.0001e-01, 6.5001e-01, 7.0001e-01,\n",
              "       7.5001e-01, 8.0001e-01, 8.5001e-01, 9.0001e-01, 9.5001e-01])},\n",
              "             return_train_score=True, scoring=&#x27;accuracy&#x27;, verbose=2)</pre></div></div></div><div class=\"sk-parallel\"><div class=\"sk-parallel-item\"><div class=\"sk-item\"><div class=\"sk-label-container\"><div class=\"sk-label sk-toggleable\"><input class=\"sk-toggleable__control sk-hidden--visually\" id=\"sk-estimator-id-2\" type=\"checkbox\" ><label for=\"sk-estimator-id-2\" class=\"sk-toggleable__label sk-toggleable__label-arrow\">estimator: LogisticRegression</label><div class=\"sk-toggleable__content\"><pre>LogisticRegression(C=0.5, class_weight=&#x27;balanced&#x27;, penalty=&#x27;l1&#x27;,\n",
              "                   solver=&#x27;liblinear&#x27;)</pre></div></div></div><div class=\"sk-serial\"><div class=\"sk-item\"><div class=\"sk-estimator sk-toggleable\"><input class=\"sk-toggleable__control sk-hidden--visually\" id=\"sk-estimator-id-3\" type=\"checkbox\" ><label for=\"sk-estimator-id-3\" class=\"sk-toggleable__label sk-toggleable__label-arrow\">LogisticRegression</label><div class=\"sk-toggleable__content\"><pre>LogisticRegression(C=0.5, class_weight=&#x27;balanced&#x27;, penalty=&#x27;l1&#x27;,\n",
              "                   solver=&#x27;liblinear&#x27;)</pre></div></div></div></div></div></div></div></div></div></div>"
            ]
          },
          "metadata": {},
          "execution_count": 48
        }
      ],
      "source": [
        "grid_results"
      ]
    },
    {
      "cell_type": "code",
      "execution_count": null,
      "metadata": {
        "id": "FbhdkwHMxN34",
        "colab": {
          "base_uri": "https://localhost:8080/"
        },
        "outputId": "202c783b-e9c7-42c7-d3be-006a17413aae"
      },
      "outputs": [
        {
          "output_type": "execute_result",
          "data": {
            "text/plain": [
              "({'C': 0.45001}, 0.8913459163361223, 9)"
            ]
          },
          "metadata": {},
          "execution_count": 49
        }
      ],
      "source": [
        "grid_results.best_params_, grid_results.best_score_, grid_results.best_index_"
      ]
    },
    {
      "cell_type": "code",
      "execution_count": null,
      "metadata": {
        "id": "CwCb0Wkyzmn4",
        "colab": {
          "base_uri": "https://localhost:8080/"
        },
        "outputId": "5bab81af-6bff-4e86-dce0-750397c17ee7"
      },
      "outputs": [
        {
          "output_type": "execute_result",
          "data": {
            "text/plain": [
              "dict_keys(['mean_fit_time', 'std_fit_time', 'mean_score_time', 'std_score_time', 'param_C', 'params', 'split0_test_score', 'split1_test_score', 'split2_test_score', 'split3_test_score', 'split4_test_score', 'mean_test_score', 'std_test_score', 'rank_test_score', 'split0_train_score', 'split1_train_score', 'split2_train_score', 'split3_train_score', 'split4_train_score', 'mean_train_score', 'std_train_score'])"
            ]
          },
          "metadata": {},
          "execution_count": 50
        }
      ],
      "source": [
        "grid_results.cv_results_.keys()"
      ]
    },
    {
      "cell_type": "code",
      "execution_count": null,
      "metadata": {
        "id": "8qWQfnfrzsR9",
        "colab": {
          "base_uri": "https://localhost:8080/"
        },
        "outputId": "a153d54f-a46b-40b8-9b25-fa9a3c97d2f2"
      },
      "outputs": [
        {
          "output_type": "execute_result",
          "data": {
            "text/plain": [
              "89.13459163361223"
            ]
          },
          "metadata": {},
          "execution_count": 51
        }
      ],
      "source": [
        "grid_results.cv_results_['mean_test_score'][grid_results.best_index_]*100"
      ]
    },
    {
      "cell_type": "code",
      "execution_count": null,
      "metadata": {
        "id": "f59uGuC30GWw",
        "colab": {
          "base_uri": "https://localhost:8080/"
        },
        "outputId": "cf40a355-25e1-406a-ee02-eed5bf92b7d1"
      },
      "outputs": [
        {
          "output_type": "execute_result",
          "data": {
            "text/plain": [
              "89.72598958081966"
            ]
          },
          "metadata": {},
          "execution_count": 52
        }
      ],
      "source": [
        "grid_results.cv_results_['mean_train_score'][grid_results.best_index_]*100"
      ]
    },
    {
      "cell_type": "code",
      "execution_count": null,
      "metadata": {
        "id": "_MYQjkJ92t0V",
        "colab": {
          "base_uri": "https://localhost:8080/"
        },
        "outputId": "67ad7b13-0b99-4640-ea53-75df0fa8c997"
      },
      "outputs": [
        {
          "output_type": "execute_result",
          "data": {
            "text/plain": [
              "0.06575758234214785"
            ]
          },
          "metadata": {},
          "execution_count": 53
        }
      ],
      "source": [
        "grid_results.cv_results_['std_test_score'][grid_results.best_index_]*100"
      ]
    },
    {
      "cell_type": "code",
      "execution_count": null,
      "metadata": {
        "id": "nHWS36uP2vZD",
        "colab": {
          "base_uri": "https://localhost:8080/"
        },
        "outputId": "e9e593ad-ca74-40cf-a62e-5fe83585a41e"
      },
      "outputs": [
        {
          "output_type": "execute_result",
          "data": {
            "text/plain": [
              "array([0.29074948, 0.88273766, 0.88666032, 0.88886756, 0.89001677,\n",
              "       0.89067175, 0.89093326, 0.89117797, 0.89128354, 0.89134592,\n",
              "       0.89123555, 0.89098604, 0.89077251, 0.89067654, 0.89037425,\n",
              "       0.89007675, 0.88977205, 0.88945056, 0.88912667, 0.88887956])"
            ]
          },
          "metadata": {},
          "execution_count": 54
        }
      ],
      "source": [
        "grid_results.cv_results_['mean_test_score']"
      ]
    },
    {
      "cell_type": "code",
      "execution_count": null,
      "metadata": {
        "id": "TDuokM392xN-",
        "colab": {
          "base_uri": "https://localhost:8080/"
        },
        "outputId": "203d6c2f-d753-4d3b-db40-e4e9c5c6136f"
      },
      "outputs": [
        {
          "output_type": "execute_result",
          "data": {
            "text/plain": [
              "array([0.29074948, 0.88371352, 0.88841712, 0.89107361, 0.89280102,\n",
              "       0.89398801, 0.89496148, 0.89581979, 0.89652995, 0.8972599 ,\n",
              "       0.89787469, 0.89850927, 0.89910726, 0.89966687, 0.90022768,\n",
              "       0.90080409, 0.9013487 , 0.9019437 , 0.90243673, 0.90298554])"
            ]
          },
          "metadata": {},
          "execution_count": 55
        }
      ],
      "source": [
        "grid_results.cv_results_['mean_train_score']"
      ]
    },
    {
      "cell_type": "code",
      "execution_count": null,
      "metadata": {
        "id": "xcyyGB8S2zZk",
        "colab": {
          "base_uri": "https://localhost:8080/",
          "height": 447
        },
        "outputId": "2a08bdac-4717-4fc2-9b11-ef36f6567e49"
      },
      "outputs": [
        {
          "output_type": "execute_result",
          "data": {
            "text/plain": [
              "[<matplotlib.lines.Line2D at 0x7c10d15827d0>]"
            ]
          },
          "metadata": {},
          "execution_count": 56
        },
        {
          "output_type": "display_data",
          "data": {
            "text/plain": [
              "<Figure size 640x480 with 1 Axes>"
            ],
            "image/png": "[encoded data removed]"
          },
          "metadata": {}
        }
      ],
      "source": [
        "plt.plot(grid_results.cv_results_['mean_train_score'] - grid_results.cv_results_['mean_test_score'])"
      ]
    },
    {
      "cell_type": "code",
      "execution_count": null,
      "metadata": {
        "id": "7kzq37tO23DL",
        "colab": {
          "base_uri": "https://localhost:8080/"
        },
        "outputId": "cd9a51da-e783-4e22-f2a5-f311480c691b"
      },
      "outputs": [
        {
          "output_type": "execute_result",
          "data": {
            "text/plain": [
              "{'C': array([1.0000e-05, 5.0010e-02, 1.0001e-01, 1.5001e-01, 2.0001e-01,\n",
              "        2.5001e-01, 3.0001e-01, 3.5001e-01, 4.0001e-01, 4.5001e-01,\n",
              "        5.0001e-01, 5.5001e-01, 6.0001e-01, 6.5001e-01, 7.0001e-01,\n",
              "        7.5001e-01, 8.0001e-01, 8.5001e-01, 9.0001e-01, 9.5001e-01])}"
            ]
          },
          "metadata": {},
          "execution_count": 57
        }
      ],
      "source": [
        "grid_results.param_grid"
      ]
    },
    {
      "cell_type": "code",
      "execution_count": null,
      "metadata": {
        "id": "N_phSvNZ25ZW",
        "colab": {
          "base_uri": "https://localhost:8080/"
        },
        "outputId": "167a5819-c9da-44f4-a922-6c7e064ab9d2"
      },
      "outputs": [
        {
          "output_type": "execute_result",
          "data": {
            "text/plain": [
              "0.15001000000000003"
            ]
          },
          "metadata": {},
          "execution_count": 58
        }
      ],
      "source": [
        "grid_results.param_grid['C'][3]"
      ]
    },
    {
      "cell_type": "code",
      "execution_count": null,
      "metadata": {
        "id": "ubcLlf2P268x",
        "colab": {
          "base_uri": "https://localhost:8080/"
        },
        "outputId": "b139bc9b-ece8-411b-8512-a58975b1dd52"
      },
      "outputs": [
        {
          "output_type": "execute_result",
          "data": {
            "text/plain": [
              "array([4.51677584e-12, 9.75866284e-04, 1.75679928e-03, 2.20604545e-03,\n",
              "       2.78424840e-03, 3.31626677e-03, 4.02822365e-03, 4.64181428e-03,\n",
              "       5.24640773e-03, 5.91397947e-03, 6.63913233e-03, 7.52323015e-03,\n",
              "       8.33475314e-03, 8.99033008e-03, 9.85343550e-03, 1.07273369e-02,\n",
              "       1.15766465e-02, 1.24931337e-02, 1.33100547e-02, 1.41059830e-02])"
            ]
          },
          "metadata": {},
          "execution_count": 59
        }
      ],
      "source": [
        "grid_results.cv_results_['mean_train_score'] - grid_results.cv_results_['mean_test_score']"
      ]
    },
    {
      "cell_type": "markdown",
      "source": [
        "### Cross Validation"
      ],
      "metadata": {
        "id": "Ri2R-DTBXIoo"
      }
    },
    {
      "cell_type": "code",
      "execution_count": null,
      "metadata": {
        "id": "wviWIpUPtSxW"
      },
      "outputs": [],
      "source": [
        "# Cross-Validate\n",
        "from sklearn.model_selection import cross_val_score, cross_validate\n",
        "from sklearn.model_selection import StratifiedKFold"
      ]
    },
    {
      "cell_type": "code",
      "execution_count": null,
      "metadata": {
        "id": "ZXBD9_xqtzbu",
        "colab": {
          "base_uri": "https://localhost:8080/"
        },
        "outputId": "9436e6a1-7236-417f-ebc0-ce8b241517e9"
      },
      "outputs": [
        {
          "output_type": "stream",
          "name": "stdout",
          "text": [
            "[0.89255018 0.89251416 0.88899693 0.89024537 0.89197268]\n",
            "89.13 0.14\n"
          ]
        }
      ],
      "source": [
        "import numpy as np\n",
        "\n",
        "X = features\n",
        "y = data[\"label\"]\n",
        "\n",
        "kfold = StratifiedKFold(n_splits=5, shuffle=True, random_state=42)\n",
        "results = cross_val_score(LR1, X, y, cv=kfold, scoring=\"accuracy\")\n",
        "print(results)\n",
        "print(np.round((results.mean())*100, 2), np.round((results.std())*100, 2))"
      ]
    },
    {
      "cell_type": "markdown",
      "source": [
        "cross validation to make sure that LR1 still the best model, accuracy is 89.12% +/- 0.14%"
      ],
      "metadata": {
        "id": "TxRFvtMnZ74D"
      }
    },
    {
      "cell_type": "code",
      "execution_count": null,
      "metadata": {
        "id": "Hlmo5_U4vbz_",
        "colab": {
          "base_uri": "https://localhost:8080/"
        },
        "outputId": "385bd861-cb74-4311-8981-13df824c9c60"
      },
      "outputs": [
        {
          "output_type": "execute_result",
          "data": {
            "text/plain": [
              "{'fit_time': array([16.0355463 , 14.70435429, 15.08504748, 14.82551003, 14.26492524]),\n",
              " 'score_time': array([0.02757192, 0.01781535, 0.01842189, 0.01838684, 0.01899838]),\n",
              " 'test_score': array([0.89253817, 0.89253817, 0.88900893, 0.89023336, 0.89196067]),\n",
              " 'train_score': array([0.8980388 , 0.8980178 , 0.89894513, 0.89836292, 0.89813814])}"
            ]
          },
          "metadata": {},
          "execution_count": 32
        }
      ],
      "source": [
        "kfold = StratifiedKFold(n_splits=5, shuffle=True, random_state=42)\n",
        "results = cross_validate(LR1, X, y, cv=kfold, scoring=\"accuracy\", return_train_score=True)\n",
        "\n",
        "results"
      ]
    },
    {
      "cell_type": "code",
      "execution_count": null,
      "metadata": {
        "id": "wVe8y44wvvRq",
        "colab": {
          "base_uri": "https://localhost:8080/"
        },
        "outputId": "fa9d8451-c271-45d5-f835-dc53cbf8f2bb"
      },
      "outputs": [
        {
          "output_type": "stream",
          "name": "stdout",
          "text": [
            "[0.8980388  0.8980178  0.89894513 0.89836292 0.89813814]\n",
            "89.83 0.03\n"
          ]
        }
      ],
      "source": [
        "print(results[\"train_score\"])\n",
        "print(np.round((results[\"train_score\"].mean())*100, 2), np.round((results[\"train_score\"].std())*100, 2))"
      ]
    },
    {
      "cell_type": "code",
      "execution_count": null,
      "metadata": {
        "id": "yqEz5v8swFp1",
        "colab": {
          "base_uri": "https://localhost:8080/"
        },
        "outputId": "137a906b-fc79-4581-93d8-6de89cef6b69"
      },
      "outputs": [
        {
          "output_type": "stream",
          "name": "stdout",
          "text": [
            "[0.89253817 0.89253817 0.88900893 0.89023336 0.89196067]\n",
            "89.13 0.14\n"
          ]
        }
      ],
      "source": [
        "print(results[\"test_score\"])\n",
        "print(np.round((results[\"test_score\"].mean())*100, 2), np.round((results[\"test_score\"].std())*100, 2))"
      ]
    },
    {
      "cell_type": "markdown",
      "source": [
        "everything good"
      ],
      "metadata": {
        "id": "N-mRd1RGaNib"
      }
    },
    {
      "cell_type": "markdown",
      "source": [
        "### Pipeline the process"
      ],
      "metadata": {
        "id": "wWnTfb2lY_ey"
      }
    },
    {
      "cell_type": "markdown",
      "source": [
        "From LR1 above now we make pipelines"
      ],
      "metadata": {
        "id": "U0fYSPrOaT1l"
      }
    },
    {
      "cell_type": "code",
      "execution_count": null,
      "metadata": {
        "id": "bFSto0ah28zS",
        "colab": {
          "base_uri": "https://localhost:8080/"
        },
        "outputId": "92758807-12eb-4d19-eef8-f9d63b4e54d6"
      },
      "outputs": [
        {
          "output_type": "stream",
          "name": "stdout",
          "text": [
            "89.13 0.14\n"
          ]
        },
        {
          "output_type": "execute_result",
          "data": {
            "text/plain": [
              "65628"
            ]
          },
          "metadata": {},
          "execution_count": 38
        }
      ],
      "source": [
        "# Create a pipeline & cross-validate\n",
        "from sklearn.pipeline import make_pipeline, Pipeline\n",
        "\n",
        "X = data['cleaned_text']\n",
        "y = data['label']\n",
        "\n",
        "CV = CountVectorizer()\n",
        "LR1 = LogisticRegression(class_weight='balanced', solver='liblinear', penalty='l1', C=0.5)\n",
        "\n",
        "CV_pipe1 = Pipeline([('CV', CV) , ('LR', LR1)] )\n",
        "\n",
        "results = cross_val_score(CV_pipe1, X, y, cv=kfold, scoring='accuracy')\n",
        "print(np.round((results.mean())*100, 2), np.round((results.std())*100, 2))\n",
        "\n",
        "CV_pipe1.fit(X,y)\n",
        "len(CV_pipe1['CV'].vocabulary_)"
      ]
    },
    {
      "cell_type": "code",
      "execution_count": null,
      "metadata": {
        "id": "L_FsuYUK3wTx",
        "colab": {
          "base_uri": "https://localhost:8080/"
        },
        "outputId": "ece95722-693c-4a8f-ca4f-a4f30ed28d2e"
      },
      "outputs": [
        {
          "output_type": "stream",
          "name": "stdout",
          "text": [
            "89.12 0.14\n"
          ]
        },
        {
          "output_type": "execute_result",
          "data": {
            "text/plain": [
              "11734"
            ]
          },
          "metadata": {},
          "execution_count": 39
        }
      ],
      "source": [
        "# Create a pipeline & cross-validate\n",
        "from sklearn.pipeline import make_pipeline, Pipeline\n",
        "\n",
        "X = data['cleaned_text']\n",
        "y = data['label']\n",
        "\n",
        "CV = CountVectorizer(min_df=10, max_features=None)\n",
        "LR1 = LogisticRegression(class_weight='balanced', solver='liblinear', penalty='l1', C=0.5)\n",
        "\n",
        "CV_pipe2 = Pipeline([('CV', CV) , ('LR', LR1)] )\n",
        "\n",
        "results = cross_val_score(CV_pipe2, X, y, cv=kfold, scoring='accuracy')\n",
        "print(np.round((results.mean())*100, 2), np.round((results.std())*100, 2))\n",
        "\n",
        "CV_pipe2.fit(X,y)\n",
        "len(CV_pipe2['CV'].vocabulary_)"
      ]
    },
    {
      "cell_type": "code",
      "source": [
        "# Create a pipeline & cross-validate\n",
        "from sklearn.pipeline import make_pipeline, Pipeline\n",
        "\n",
        "X = data['cleaned_text']\n",
        "y = data['label']\n",
        "\n",
        "CV = CountVectorizer(min_df=10, max_features=10000)\n",
        "LR1 = LogisticRegression(class_weight='balanced', solver='liblinear', penalty='l1', C=0.5)\n",
        "\n",
        "CV_pipe3 = Pipeline([('CV', CV) , ('LR', LR1)] )\n",
        "\n",
        "results = cross_val_score(CV_pipe3, X, y, cv=kfold, scoring='accuracy')\n",
        "print(np.round((results.mean())*100, 2), np.round((results.std())*100, 2))\n",
        "\n",
        "CV_pipe3.fit(X,y)\n",
        "len(CV_pipe3['CV'].vocabulary_)"
      ],
      "metadata": {
        "id": "6j0bKGuxs_XL",
        "colab": {
          "base_uri": "https://localhost:8080/"
        },
        "outputId": "4c1b2a1f-0d67-41a7-a97c-b1f8bf6f270d"
      },
      "execution_count": null,
      "outputs": [
        {
          "output_type": "stream",
          "name": "stdout",
          "text": [
            "89.12 0.14\n"
          ]
        },
        {
          "output_type": "execute_result",
          "data": {
            "text/plain": [
              "10000"
            ]
          },
          "metadata": {},
          "execution_count": 35
        }
      ]
    },
    {
      "cell_type": "code",
      "source": [
        "# Create a pipeline & cross-validate\n",
        "from sklearn.pipeline import make_pipeline, Pipeline\n",
        "from sklearn.naive_bayes import MultinomialNB\n",
        "\n",
        "X = data['cleaned_text']\n",
        "y = data['label']\n",
        "\n",
        "CV = CountVectorizer(min_df=10, max_features=None)\n",
        "NB = MultinomialNB()\n",
        "\n",
        "CV_pipe4 = Pipeline([('CV', CV) , ('NB', NB)] )\n",
        "\n",
        "results = cross_val_score(CV_pipe4, X, y, cv=kfold, scoring='accuracy')\n",
        "print(np.round((results.mean())*100, 2), np.round((results.std())*100, 2))\n",
        "\n",
        "CV_pipe4.fit(X,y)\n",
        "len(CV_pipe4['CV'].vocabulary_)"
      ],
      "metadata": {
        "colab": {
          "base_uri": "https://localhost:8080/"
        },
        "id": "AZfTRB11PuCP",
        "outputId": "5457680a-a1b0-4c07-feae-2f1735376cce"
      },
      "execution_count": null,
      "outputs": [
        {
          "output_type": "stream",
          "name": "stdout",
          "text": [
            "86.65 0.15\n"
          ]
        },
        {
          "output_type": "execute_result",
          "data": {
            "text/plain": [
              "11734"
            ]
          },
          "metadata": {},
          "execution_count": 36
        }
      ]
    },
    {
      "cell_type": "code",
      "source": [
        "# export models\n",
        "import pickle\n",
        "\n",
        "with open(r'CV_NB_pipeline.pickle', 'wb') as handle:\n",
        "  pickle.dump(CV_pipe4, handle, protocol=pickle.HIGHEST_PROTOCOL)"
      ],
      "metadata": {
        "id": "ot33iQcCVdK2"
      },
      "execution_count": null,
      "outputs": []
    },
    {
      "cell_type": "markdown",
      "source": [
        "**Discussion:**\n",
        "\n",
        "From the above performance, I will choose CV_pipe3 for deloyment\n",
        "\n",
        "As it is slightly low in accuracy 0.01% but using less words in the vocab"
      ],
      "metadata": {
        "id": "Dpm1wPxBcagX"
      }
    },
    {
      "cell_type": "code",
      "source": [
        "tt = [\"i have a good grade\"]\n",
        "print(CV_pipe1.predict(tt))\n",
        "print(CV_pipe2.predict(tt))\n",
        "print(CV_pipe3.predict(tt))"
      ],
      "metadata": {
        "colab": {
          "base_uri": "https://localhost:8080/"
        },
        "id": "PQ8Q7WkLdnCQ",
        "outputId": "90444634-9461-4cba-aafb-8d561bf95dd9"
      },
      "execution_count": null,
      "outputs": [
        {
          "output_type": "stream",
          "name": "stdout",
          "text": [
            "[1]\n",
            "[1]\n",
            "[1]\n"
          ]
        }
      ]
    },
    {
      "cell_type": "code",
      "source": [
        "# export models\n",
        "import pickle\n",
        "\n",
        "with open(r'CV_LR_pipeline_full.pickle', 'wb') as handle:\n",
        "  pickle.dump(CV_pipe1, handle, protocol=pickle.HIGHEST_PROTOCOL)\n",
        "\n",
        "with open(r'CV_LR_pipeline_10k.pickle', 'wb') as handle:\n",
        "  pickle.dump(CV_pipe3, handle, protocol=pickle.HIGHEST_PROTOCOL)"
      ],
      "metadata": {
        "id": "mekUWDXgjMsb"
      },
      "execution_count": null,
      "outputs": []
    },
    {
      "cell_type": "markdown",
      "source": [
        "### N-gram Model"
      ],
      "metadata": {
        "id": "FvgmAGgcemgP"
      }
    },
    {
      "cell_type": "code",
      "source": [
        "# Unigrams + Bigrams\n",
        "X = data['cleaned_text']\n",
        "y = data['label']\n",
        "\n",
        "CV = CountVectorizer(ngram_range=(1, 2), min_df=5)\n",
        "\n",
        "LR1 = LogisticRegression(class_weight='balanced', solver='liblinear', penalty='l1', C=0.5)\n",
        "CV_pipe4 = Pipeline([('CV', CV) , ('LR', LR1)] )\n",
        "results = cross_validate(CV_pipe4, X, y, cv=kfold, scoring='accuracy', return_train_score=True)\n",
        "\n",
        "print(np.round((results['train_score'].mean())*100, 2), np.round((results['train_score'].std())*100, 2))\n",
        "\n",
        "# print(results['test_score'])\n",
        "print(np.round((results['test_score'].mean())*100, 2), np.round((results['test_score'].std())*100, 2))\n",
        "\n",
        "CV.fit_transform(X)\n",
        "len(CV.vocabulary_)"
      ],
      "metadata": {
        "id": "ejbGB2-ies7G",
        "colab": {
          "base_uri": "https://localhost:8080/"
        },
        "outputId": "b4daf744-791a-4928-a8df-73edee03701a"
      },
      "execution_count": null,
      "outputs": [
        {
          "output_type": "stream",
          "name": "stdout",
          "text": [
            "90.29 0.03\n",
            "89.28 0.12\n"
          ]
        },
        {
          "output_type": "execute_result",
          "data": {
            "text/plain": [
              "86814"
            ]
          },
          "metadata": {},
          "execution_count": 84
        }
      ]
    },
    {
      "cell_type": "code",
      "source": [
        "# export models\n",
        "import pickle\n",
        "\n",
        "with open(r'CV_LR_pipeline_n_grams.pickle', 'wb') as handle:\n",
        "  pickle.dump(CV_pipe4, handle, protocol=pickle.HIGHEST_PROTOCOL)"
      ],
      "metadata": {
        "id": "ILVWFajAlV8r"
      },
      "execution_count": null,
      "outputs": []
    },
    {
      "cell_type": "markdown",
      "metadata": {
        "id": "1Xf5sSwp4BCY"
      },
      "source": [
        "## TF-IDF Vectorizer"
      ]
    },
    {
      "cell_type": "code",
      "execution_count": null,
      "metadata": {
        "id": "Puz7ddWa4D9B"
      },
      "outputs": [],
      "source": [
        "# TF_score = how many times a word (from the vocab) is appearing in a given doc / total no. of words in that doc\n",
        "# TF(today | doc2) = 2/5\n",
        "# TF_score will be high for \"very frequent\" words in a given doc\n",
        "\n",
        "# IDF_score = log( (1+Total no. of documents) / (1+No. of documents contianing that \"term\") )\n",
        "# IDF_score penalizes those those words which are EQUALLY frequent in almost all the documents\n",
        "\n",
        "# TF_IDF score = TF_score*IDF_score"
      ]
    },
    {
      "cell_type": "code",
      "source": [
        "from sklearn.feature_extraction.text import TfidfVectorizer\n",
        "X = data['cleaned_text']\n",
        "y = data['label']\n",
        "\n",
        "# we want to include only those words in the vocab which have min df of 5,\n",
        "# means select only those words which occur ATLEAST in 5 documents!!\n",
        "# AND SELECT the TOP 1000 FEATURES ONLY to build the model\n",
        "TFIDF = TfidfVectorizer(min_df=5, max_features=None)\n",
        "\n",
        "LR1 = LogisticRegression(class_weight='balanced', solver='liblinear', penalty='l1', C=0.5)\n",
        "TFIDF_pipe = Pipeline([('TFIDF', TFIDF) , ('LR', LR1)] )\n",
        "results = cross_validate(TFIDF_pipe, X, y, cv=kfold, scoring='accuracy', return_train_score=True)\n",
        "\n",
        "# print(results['train_score'])\n",
        "print(np.round((results['train_score'].mean())*100, 2), np.round((results['train_score'].std())*100, 2))\n",
        "\n",
        "# print(results['test_score'])\n",
        "print(np.round((results['test_score'].mean())*100, 2), np.round((results['test_score'].std())*100, 2))\n",
        "\n",
        "TFIDF.fit_transform(X)\n",
        "len(TFIDF.vocabulary_)"
      ],
      "metadata": {
        "colab": {
          "base_uri": "https://localhost:8080/"
        },
        "id": "Y7SGYeE-d3WO",
        "outputId": "a9997c2e-dabd-4ee4-e065-5d831749c28e"
      },
      "execution_count": null,
      "outputs": [
        {
          "output_type": "stream",
          "name": "stdout",
          "text": [
            "89.62 0.03\n",
            "89.24 0.12\n"
          ]
        },
        {
          "output_type": "execute_result",
          "data": {
            "text/plain": [
              "17535"
            ]
          },
          "metadata": {},
          "execution_count": 87
        }
      ]
    },
    {
      "cell_type": "code",
      "source": [
        "with open(r'TFIDF_LR_pipeline_full.pickle', 'wb') as handle:\n",
        "  pickle.dump(TFIDF_pipe, handle, protocol=pickle.HIGHEST_PROTOCOL)"
      ],
      "metadata": {
        "id": "0Mouoj1smXue"
      },
      "execution_count": null,
      "outputs": []
    },
    {
      "cell_type": "markdown",
      "source": [
        "## Word Embeddings\n",
        "\n",
        "Word Embeddings uses word_vectors which are dense representations - no 0 number\n",
        "\n",
        "The dimensionality of the feature set is limited by the size of the word embeddings - MAX 300 vector_size which the developer will decide. Different with the above two vectors where the vocab_size is the vector_size\n",
        "\n",
        "Three popular pre-build WE:\n",
        "- Word2Vec Models: gives the context of each word in a given document\n",
        "- GloVe Models: gives the context of each word in the entire corpus\n",
        "- FastText encode characters instead of words\n",
        "\n"
      ],
      "metadata": {
        "id": "PYlAinRzlif_"
      }
    },
    {
      "cell_type": "code",
      "source": [
        "pip install gensim"
      ],
      "metadata": {
        "colab": {
          "base_uri": "https://localhost:8080/"
        },
        "id": "O-Pe46hgl2Kt",
        "outputId": "d438a11d-5d93-45ef-d627-8626c9a46bbc"
      },
      "execution_count": null,
      "outputs": [
        {
          "output_type": "stream",
          "name": "stdout",
          "text": [
            "Requirement already satisfied: gensim in /usr/local/lib/python3.10/dist-packages (4.3.2)\n",
            "Requirement already satisfied: numpy>=1.18.5 in /usr/local/lib/python3.10/dist-packages (from gensim) (1.25.2)\n",
            "Requirement already satisfied: scipy>=1.7.0 in /usr/local/lib/python3.10/dist-packages (from gensim) (1.11.4)\n",
            "Requirement already satisfied: smart-open>=1.8.1 in /usr/local/lib/python3.10/dist-packages (from gensim) (6.4.0)\n"
          ]
        }
      ]
    },
    {
      "cell_type": "markdown",
      "source": [
        "### Build from the data"
      ],
      "metadata": {
        "id": "7RsB86xUNQ2k"
      }
    },
    {
      "cell_type": "code",
      "source": [
        "text_list = list(data['cleaned_text'].apply(lambda x: x.split()))\n",
        "text_list[0]"
      ],
      "metadata": {
        "id": "qxMNDXqTRE9O",
        "colab": {
          "base_uri": "https://localhost:8080/"
        },
        "outputId": "affad136-b41f-428f-8eaa-9ead20f14c06"
      },
      "execution_count": null,
      "outputs": [
        {
          "output_type": "execute_result",
          "data": {
            "text/plain": [
              "['really', 'helpless', 'heavy', 'hearted']"
            ]
          },
          "metadata": {},
          "execution_count": 2
        }
      ]
    },
    {
      "cell_type": "code",
      "source": [
        "from gensim.models import Word2Vec\n",
        "# train model\n",
        "cbow_model = Word2Vec(text_list, vector_size = 100, window = 3, min_count=5, sg=0)"
      ],
      "metadata": {
        "id": "FVBjVwGmRScQ"
      },
      "execution_count": null,
      "outputs": []
    },
    {
      "cell_type": "code",
      "source": [
        "# Num of vocab\n",
        "len(cbow_model.wv.index_to_key)"
      ],
      "metadata": {
        "id": "VAfwgItiRfAM",
        "colab": {
          "base_uri": "https://localhost:8080/"
        },
        "outputId": "80ce4a71-055f-4c27-c455-d1405ba4e3cc"
      },
      "execution_count": null,
      "outputs": [
        {
          "output_type": "execute_result",
          "data": {
            "text/plain": [
              "17783"
            ]
          },
          "metadata": {},
          "execution_count": 4
        }
      ]
    },
    {
      "cell_type": "code",
      "source": [
        "# Each document vector will have dimension [1 x 200]\n",
        "def document_vector(doc):\n",
        "    \"\"\"Create document vectors by averaging word vectors. Remove out-of-vocabulary words.\"\"\"\n",
        "\n",
        "    # doc1 contains those words of the document which are included in the vocab\n",
        "    doc1 = [word for word in doc.split() if word in cbow_model.wv.index_to_key]\n",
        "\n",
        "    wv1 = []  # this will contain the WE of all the vocab words from the doc\n",
        "    for word in doc1:\n",
        "        wv1.append(cbow_model.wv.get_vector(word))\n",
        "    wv1_ = np.array(wv1)\n",
        "    wv1_mean = wv1_.mean(axis=0)\n",
        "    return wv1_mean\n"
      ],
      "metadata": {
        "id": "o6nBNFCWRkUI"
      },
      "execution_count": null,
      "outputs": []
    },
    {
      "cell_type": "code",
      "source": [
        "# this contains some NaN value\n",
        "text_temp = data['cleaned_text'].apply(document_vector)"
      ],
      "metadata": {
        "id": "yXq_jSYYR-JO",
        "colab": {
          "base_uri": "https://localhost:8080/"
        },
        "outputId": "26189f72-5cc3-4f78-f3c2-68341d227502"
      },
      "execution_count": null,
      "outputs": [
        {
          "output_type": "stream",
          "name": "stderr",
          "text": [
            "<ipython-input-5-fabb2f2c7792>:12: RuntimeWarning: Mean of empty slice.\n",
            "  wv1_mean = wv1_.mean(axis=0)\n"
          ]
        }
      ]
    },
    {
      "cell_type": "code",
      "source": [
        "np.where(pd.isnull(text_temp))"
      ],
      "metadata": {
        "colab": {
          "base_uri": "https://localhost:8080/"
        },
        "id": "z7kaz7_z4uMs",
        "outputId": "f7cbe5a6-3281-47f8-d4f1-698e691b80fe"
      },
      "execution_count": null,
      "outputs": [
        {
          "output_type": "execute_result",
          "data": {
            "text/plain": [
              "(array([ 13887,  22507,  48789,  51533,  64871, 109213, 113319, 163163,\n",
              "        175116, 185586, 206668, 207105, 222143, 227492, 238224, 244903,\n",
              "        247093, 371696, 374128]),)"
            ]
          },
          "metadata": {},
          "execution_count": 7
        }
      ]
    },
    {
      "cell_type": "code",
      "source": [
        "text_temp[13887]"
      ],
      "metadata": {
        "colab": {
          "base_uri": "https://localhost:8080/"
        },
        "id": "pEeAckDE4zxf",
        "outputId": "8e224e29-92bb-46d4-c755-513b1c4b3ef3"
      },
      "execution_count": null,
      "outputs": [
        {
          "output_type": "execute_result",
          "data": {
            "text/plain": [
              "nan"
            ]
          },
          "metadata": {},
          "execution_count": 8
        }
      ]
    },
    {
      "cell_type": "code",
      "source": [
        "text_temp[:5]"
      ],
      "metadata": {
        "colab": {
          "base_uri": "https://localhost:8080/"
        },
        "id": "6qFnqsPSwWW6",
        "outputId": "9f505338-80da-49b5-951b-659b156f8547"
      },
      "execution_count": null,
      "outputs": [
        {
          "output_type": "execute_result",
          "data": {
            "text/plain": [
              "0    [-0.15185456, 0.117051676, 0.47263235, 0.13816965, 0.4627935, -0.09650575, 0.25585082, 0.30824926, -0.21503821, 0.16847125, -0.35541308, -0.7285992, 0.017626682, -0.16740116, 0.09735915, -0.170802...\n",
              "1    [-0.14669414, 0.22120431, 0.431243, -0.05068932, -0.03768524, -0.40879324, 0.28984985, 0.5149234, 0.43455118, -0.05840901, -0.08792387, -0.21289723, -0.018032806, 0.04146565, 0.15615994, -0.386156...\n",
              "2    [-0.03794523, -0.13293152, 0.23744665, 0.32069376, 0.32136783, -0.3993417, 0.0002593994, -0.067071594, 0.1325474, -0.20881225, -0.49721813, -0.48309693, -0.14970727, -0.10741082, -0.24151643, -0.3...\n",
              "3    [-0.80178654, -0.439791, 1.6683531, 0.31475377, 0.29651833, -0.44596446, 0.6141461, 0.1553777, -0.2542143, 0.08419252, -0.38771003, -0.6885016, -0.50545883, -0.26340243, -0.054581422, 0.37610087, ...\n",
              "4    [-0.16256545, 0.05703211, 0.4279797, 0.14398435, 0.23361695, -0.75867206, -0.11936466, 0.09637068, 0.29838604, 0.123865366, -0.37800303, -0.25471663, -0.31091136, -0.13491793, 0.0021415844, -0.392...\n",
              "Name: cleaned_text, dtype: object"
            ]
          },
          "metadata": {},
          "execution_count": 9
        }
      ]
    },
    {
      "cell_type": "code",
      "source": [
        "text_temp[0].shape"
      ],
      "metadata": {
        "colab": {
          "base_uri": "https://localhost:8080/"
        },
        "id": "fw7BUNkev2Cy",
        "outputId": "3a4c311e-2193-4e06-de09-1d4127ff156a"
      },
      "execution_count": null,
      "outputs": [
        {
          "output_type": "execute_result",
          "data": {
            "text/plain": [
              "(100,)"
            ]
          },
          "metadata": {},
          "execution_count": 10
        }
      ]
    },
    {
      "cell_type": "code",
      "source": [
        "# Combining all the document vectors into a singl numpy array\n",
        "embedding_size = 100\n",
        "text_vec = np.ones((len(text_temp), embedding_size))*np.nan\n",
        "for i in range(text_vec.shape[0]):\n",
        "    text_vec[i,:] = text_temp.iloc[i]\n",
        "\n",
        "text_vec.shape # this itself is the final FEATURE MATRIX"
      ],
      "metadata": {
        "id": "3rjgc2vTSKm7",
        "colab": {
          "base_uri": "https://localhost:8080/"
        },
        "outputId": "48e942c6-6e0a-461d-c05e-ec205d139b84"
      },
      "execution_count": null,
      "outputs": [
        {
          "output_type": "execute_result",
          "data": {
            "text/plain": [
              "(416519, 100)"
            ]
          },
          "metadata": {},
          "execution_count": 11
        }
      ]
    },
    {
      "cell_type": "code",
      "source": [
        "# Create a new DF to store these new documnent features\n",
        "df = pd.DataFrame(text_vec)\n",
        "df['y'] = data['label']\n",
        "df.dropna(how='any', axis=0, inplace=True)\n",
        "df.head()"
      ],
      "metadata": {
        "colab": {
          "base_uri": "https://localhost:8080/",
          "height": 255
        },
        "id": "Cp4PZLIX5LOB",
        "outputId": "823f1d0f-a158-4f85-d63e-73404fb00121"
      },
      "execution_count": null,
      "outputs": [
        {
          "output_type": "execute_result",
          "data": {
            "text/plain": [
              "          0         1         2         3         4         5         6  \\\n",
              "0 -0.151855  0.117052  0.472632  0.138170  0.462793 -0.096506  0.255851   \n",
              "1 -0.146694  0.221204  0.431243 -0.050689 -0.037685 -0.408793  0.289850   \n",
              "2 -0.037945 -0.132932  0.237447  0.320694  0.321368 -0.399342  0.000259   \n",
              "3 -0.801787 -0.439791  1.668353  0.314754  0.296518 -0.445964  0.614146   \n",
              "4 -0.162565  0.057032  0.427980  0.143984  0.233617 -0.758672 -0.119365   \n",
              "\n",
              "          7         8         9  ...        91        92        93        94  \\\n",
              "0  0.308249 -0.215038  0.168471  ...  0.252512  0.122625  0.040191 -0.010650   \n",
              "1  0.514923  0.434551 -0.058409  ... -0.300776  0.119319  0.105568  0.829350   \n",
              "2 -0.067072  0.132547 -0.208812  ...  0.187926  0.074755  0.088322  0.333985   \n",
              "3  0.155378 -0.254214  0.084193  ...  0.059346  0.457440  0.558102  0.172011   \n",
              "4  0.096371  0.298386  0.123865  ... -0.221199  0.248493  0.352681  0.984194   \n",
              "\n",
              "         95        96        97        98        99  y  \n",
              "0  0.166620 -0.054928 -0.213085  0.368046 -0.112545  4  \n",
              "1  0.113963  0.021717 -0.178327 -0.328783  0.018150  0  \n",
              "2  0.238788 -0.138343 -0.369473 -0.426753 -0.040187  4  \n",
              "3 -0.711356 -0.499795 -1.433443 -0.583325 -0.251852  0  \n",
              "4  0.426188  0.232135 -0.338509 -0.614526 -0.235175  4  \n",
              "\n",
              "[5 rows x 101 columns]"
            ],
            "text/html": [
              "\n",
              "  <div id=\"df-f106f3d2-0f77-4a00-8dde-ec9d323d6258\" class=\"colab-df-container\">\n",
              "    <div>\n",
              "<style scoped>\n",
              "    .dataframe tbody tr th:only-of-type {\n",
              "        vertical-align: middle;\n",
              "    }\n",
              "\n",
              "    .dataframe tbody tr th {\n",
              "        vertical-align: top;\n",
              "    }\n",
              "\n",
              "    .dataframe thead th {\n",
              "        text-align: right;\n",
              "    }\n",
              "</style>\n",
              "<table border=\"1\" class=\"dataframe\">\n",
              "  <thead>\n",
              "    <tr style=\"text-align: right;\">\n",
              "      <th></th>\n",
              "      <th>0</th>\n",
              "      <th>1</th>\n",
              "      <th>2</th>\n",
              "      <th>3</th>\n",
              "      <th>4</th>\n",
              "      <th>5</th>\n",
              "      <th>6</th>\n",
              "      <th>7</th>\n",
              "      <th>8</th>\n",
              "      <th>9</th>\n",
              "      <th>...</th>\n",
              "      <th>91</th>\n",
              "      <th>92</th>\n",
              "      <th>93</th>\n",
              "      <th>94</th>\n",
              "      <th>95</th>\n",
              "      <th>96</th>\n",
              "      <th>97</th>\n",
              "      <th>98</th>\n",
              "      <th>99</th>\n",
              "      <th>y</th>\n",
              "    </tr>\n",
              "  </thead>\n",
              "  <tbody>\n",
              "    <tr>\n",
              "      <th>0</th>\n",
              "      <td>-0.151855</td>\n",
              "      <td>0.117052</td>\n",
              "      <td>0.472632</td>\n",
              "      <td>0.138170</td>\n",
              "      <td>0.462793</td>\n",
              "      <td>-0.096506</td>\n",
              "      <td>0.255851</td>\n",
              "      <td>0.308249</td>\n",
              "      <td>-0.215038</td>\n",
              "      <td>0.168471</td>\n",
              "      <td>...</td>\n",
              "      <td>0.252512</td>\n",
              "      <td>0.122625</td>\n",
              "      <td>0.040191</td>\n",
              "      <td>-0.010650</td>\n",
              "      <td>0.166620</td>\n",
              "      <td>-0.054928</td>\n",
              "      <td>-0.213085</td>\n",
              "      <td>0.368046</td>\n",
              "      <td>-0.112545</td>\n",
              "      <td>4</td>\n",
              "    </tr>\n",
              "    <tr>\n",
              "      <th>1</th>\n",
              "      <td>-0.146694</td>\n",
              "      <td>0.221204</td>\n",
              "      <td>0.431243</td>\n",
              "      <td>-0.050689</td>\n",
              "      <td>-0.037685</td>\n",
              "      <td>-0.408793</td>\n",
              "      <td>0.289850</td>\n",
              "      <td>0.514923</td>\n",
              "      <td>0.434551</td>\n",
              "      <td>-0.058409</td>\n",
              "      <td>...</td>\n",
              "      <td>-0.300776</td>\n",
              "      <td>0.119319</td>\n",
              "      <td>0.105568</td>\n",
              "      <td>0.829350</td>\n",
              "      <td>0.113963</td>\n",
              "      <td>0.021717</td>\n",
              "      <td>-0.178327</td>\n",
              "      <td>-0.328783</td>\n",
              "      <td>0.018150</td>\n",
              "      <td>0</td>\n",
              "    </tr>\n",
              "    <tr>\n",
              "      <th>2</th>\n",
              "      <td>-0.037945</td>\n",
              "      <td>-0.132932</td>\n",
              "      <td>0.237447</td>\n",
              "      <td>0.320694</td>\n",
              "      <td>0.321368</td>\n",
              "      <td>-0.399342</td>\n",
              "      <td>0.000259</td>\n",
              "      <td>-0.067072</td>\n",
              "      <td>0.132547</td>\n",
              "      <td>-0.208812</td>\n",
              "      <td>...</td>\n",
              "      <td>0.187926</td>\n",
              "      <td>0.074755</td>\n",
              "      <td>0.088322</td>\n",
              "      <td>0.333985</td>\n",
              "      <td>0.238788</td>\n",
              "      <td>-0.138343</td>\n",
              "      <td>-0.369473</td>\n",
              "      <td>-0.426753</td>\n",
              "      <td>-0.040187</td>\n",
              "      <td>4</td>\n",
              "    </tr>\n",
              "    <tr>\n",
              "      <th>3</th>\n",
              "      <td>-0.801787</td>\n",
              "      <td>-0.439791</td>\n",
              "      <td>1.668353</td>\n",
              "      <td>0.314754</td>\n",
              "      <td>0.296518</td>\n",
              "      <td>-0.445964</td>\n",
              "      <td>0.614146</td>\n",
              "      <td>0.155378</td>\n",
              "      <td>-0.254214</td>\n",
              "      <td>0.084193</td>\n",
              "      <td>...</td>\n",
              "      <td>0.059346</td>\n",
              "      <td>0.457440</td>\n",
              "      <td>0.558102</td>\n",
              "      <td>0.172011</td>\n",
              "      <td>-0.711356</td>\n",
              "      <td>-0.499795</td>\n",
              "      <td>-1.433443</td>\n",
              "      <td>-0.583325</td>\n",
              "      <td>-0.251852</td>\n",
              "      <td>0</td>\n",
              "    </tr>\n",
              "    <tr>\n",
              "      <th>4</th>\n",
              "      <td>-0.162565</td>\n",
              "      <td>0.057032</td>\n",
              "      <td>0.427980</td>\n",
              "      <td>0.143984</td>\n",
              "      <td>0.233617</td>\n",
              "      <td>-0.758672</td>\n",
              "      <td>-0.119365</td>\n",
              "      <td>0.096371</td>\n",
              "      <td>0.298386</td>\n",
              "      <td>0.123865</td>\n",
              "      <td>...</td>\n",
              "      <td>-0.221199</td>\n",
              "      <td>0.248493</td>\n",
              "      <td>0.352681</td>\n",
              "      <td>0.984194</td>\n",
              "      <td>0.426188</td>\n",
              "      <td>0.232135</td>\n",
              "      <td>-0.338509</td>\n",
              "      <td>-0.614526</td>\n",
              "      <td>-0.235175</td>\n",
              "      <td>4</td>\n",
              "    </tr>\n",
              "  </tbody>\n",
              "</table>\n",
              "<p>5 rows × 101 columns</p>\n",
              "</div>\n",
              "    <div class=\"colab-df-buttons\">\n",
              "\n",
              "  <div class=\"colab-df-container\">\n",
              "    <button class=\"colab-df-convert\" onclick=\"convertToInteractive('df-f106f3d2-0f77-4a00-8dde-ec9d323d6258')\"\n",
              "            title=\"Convert this dataframe to an interactive table.\"\n",
              "            style=\"display:none;\">\n",
              "\n",
              "  <svg xmlns=\"http://www.w3.org/2000/svg\" height=\"24px\" viewBox=\"0 -960 960 960\">\n",
              "    <path d=\"M120-120v-720h720v720H120Zm60-500h600v-160H180v160Zm220 220h160v-160H400v160Zm0 220h160v-160H400v160ZM180-400h160v-160H180v160Zm440 0h160v-160H620v160ZM180-180h160v-160H180v160Zm440 0h160v-160H620v160Z\"/>\n",
              "  </svg>\n",
              "    </button>\n",
              "\n",
              "  <style>\n",
              "    .colab-df-container {\n",
              "      display:flex;\n",
              "      gap: 12px;\n",
              "    }\n",
              "\n",
              "    .colab-df-convert {\n",
              "      background-color: #E8F0FE;\n",
              "      border: none;\n",
              "      border-radius: 50%;\n",
              "      cursor: pointer;\n",
              "      display: none;\n",
              "      fill: #1967D2;\n",
              "      height: 32px;\n",
              "      padding: 0 0 0 0;\n",
              "      width: 32px;\n",
              "    }\n",
              "\n",
              "    .colab-df-convert:hover {\n",
              "      background-color: #E2EBFA;\n",
              "      box-shadow: 0px 1px 2px rgba(60, 64, 67, 0.3), 0px 1px 3px 1px rgba(60, 64, 67, 0.15);\n",
              "      fill: #174EA6;\n",
              "    }\n",
              "\n",
              "    .colab-df-buttons div {\n",
              "      margin-bottom: 4px;\n",
              "    }\n",
              "\n",
              "    [theme=dark] .colab-df-convert {\n",
              "      background-color: #3B4455;\n",
              "      fill: #D2E3FC;\n",
              "    }\n",
              "\n",
              "    [theme=dark] .colab-df-convert:hover {\n",
              "      background-color: #434B5C;\n",
              "      box-shadow: 0px 1px 3px 1px rgba(0, 0, 0, 0.15);\n",
              "      filter: drop-shadow(0px 1px 2px rgba(0, 0, 0, 0.3));\n",
              "      fill: #FFFFFF;\n",
              "    }\n",
              "  </style>\n",
              "\n",
              "    <script>\n",
              "      const buttonEl =\n",
              "        document.querySelector('#df-f106f3d2-0f77-4a00-8dde-ec9d323d6258 button.colab-df-convert');\n",
              "      buttonEl.style.display =\n",
              "        google.colab.kernel.accessAllowed ? 'block' : 'none';\n",
              "\n",
              "      async function convertToInteractive(key) {\n",
              "        const element = document.querySelector('#df-f106f3d2-0f77-4a00-8dde-ec9d323d6258');\n",
              "        const dataTable =\n",
              "          await google.colab.kernel.invokeFunction('convertToInteractive',\n",
              "                                                    [key], {});\n",
              "        if (!dataTable) return;\n",
              "\n",
              "        const docLinkHtml = 'Like what you see? Visit the ' +\n",
              "          '<a target=\"_blank\" href=https://colab.research.google.com/notebooks/data_table.ipynb>data table notebook</a>'\n",
              "          + ' to learn more about interactive tables.';\n",
              "        element.innerHTML = '';\n",
              "        dataTable['output_type'] = 'display_data';\n",
              "        await google.colab.output.renderOutput(dataTable, element);\n",
              "        const docLink = document.createElement('div');\n",
              "        docLink.innerHTML = docLinkHtml;\n",
              "        element.appendChild(docLink);\n",
              "      }\n",
              "    </script>\n",
              "  </div>\n",
              "\n",
              "\n",
              "<div id=\"df-603cd748-8ad4-4c22-b18f-e24c945714a7\">\n",
              "  <button class=\"colab-df-quickchart\" onclick=\"quickchart('df-603cd748-8ad4-4c22-b18f-e24c945714a7')\"\n",
              "            title=\"Suggest charts\"\n",
              "            style=\"display:none;\">\n",
              "\n",
              "<svg xmlns=\"http://www.w3.org/2000/svg\" height=\"24px\"viewBox=\"0 0 24 24\"\n",
              "     width=\"24px\">\n",
              "    <g>\n",
              "        <path d=\"M19 3H5c-1.1 0-2 .9-2 2v14c0 1.1.9 2 2 2h14c1.1 0 2-.9 2-2V5c0-1.1-.9-2-2-2zM9 17H7v-7h2v7zm4 0h-2V7h2v10zm4 0h-2v-4h2v4z\"/>\n",
              "    </g>\n",
              "</svg>\n",
              "  </button>\n",
              "\n",
              "<style>\n",
              "  .colab-df-quickchart {\n",
              "      --bg-color: #E8F0FE;\n",
              "      --fill-color: #1967D2;\n",
              "      --hover-bg-color: #E2EBFA;\n",
              "      --hover-fill-color: #174EA6;\n",
              "      --disabled-fill-color: #AAA;\n",
              "      --disabled-bg-color: #DDD;\n",
              "  }\n",
              "\n",
              "  [theme=dark] .colab-df-quickchart {\n",
              "      --bg-color: #3B4455;\n",
              "      --fill-color: #D2E3FC;\n",
              "      --hover-bg-color: #434B5C;\n",
              "      --hover-fill-color: #FFFFFF;\n",
              "      --disabled-bg-color: #3B4455;\n",
              "      --disabled-fill-color: #666;\n",
              "  }\n",
              "\n",
              "  .colab-df-quickchart {\n",
              "    background-color: var(--bg-color);\n",
              "    border: none;\n",
              "    border-radius: 50%;\n",
              "    cursor: pointer;\n",
              "    display: none;\n",
              "    fill: var(--fill-color);\n",
              "    height: 32px;\n",
              "    padding: 0;\n",
              "    width: 32px;\n",
              "  }\n",
              "\n",
              "  .colab-df-quickchart:hover {\n",
              "    background-color: var(--hover-bg-color);\n",
              "    box-shadow: 0 1px 2px rgba(60, 64, 67, 0.3), 0 1px 3px 1px rgba(60, 64, 67, 0.15);\n",
              "    fill: var(--button-hover-fill-color);\n",
              "  }\n",
              "\n",
              "  .colab-df-quickchart-complete:disabled,\n",
              "  .colab-df-quickchart-complete:disabled:hover {\n",
              "    background-color: var(--disabled-bg-color);\n",
              "    fill: var(--disabled-fill-color);\n",
              "    box-shadow: none;\n",
              "  }\n",
              "\n",
              "  .colab-df-spinner {\n",
              "    border: 2px solid var(--fill-color);\n",
              "    border-color: transparent;\n",
              "    border-bottom-color: var(--fill-color);\n",
              "    animation:\n",
              "      spin 1s steps(1) infinite;\n",
              "  }\n",
              "\n",
              "  @keyframes spin {\n",
              "    0% {\n",
              "      border-color: transparent;\n",
              "      border-bottom-color: var(--fill-color);\n",
              "      border-left-color: var(--fill-color);\n",
              "    }\n",
              "    20% {\n",
              "      border-color: transparent;\n",
              "      border-left-color: var(--fill-color);\n",
              "      border-top-color: var(--fill-color);\n",
              "    }\n",
              "    30% {\n",
              "      border-color: transparent;\n",
              "      border-left-color: var(--fill-color);\n",
              "      border-top-color: var(--fill-color);\n",
              "      border-right-color: var(--fill-color);\n",
              "    }\n",
              "    40% {\n",
              "      border-color: transparent;\n",
              "      border-right-color: var(--fill-color);\n",
              "      border-top-color: var(--fill-color);\n",
              "    }\n",
              "    60% {\n",
              "      border-color: transparent;\n",
              "      border-right-color: var(--fill-color);\n",
              "    }\n",
              "    80% {\n",
              "      border-color: transparent;\n",
              "      border-right-color: var(--fill-color);\n",
              "      border-bottom-color: var(--fill-color);\n",
              "    }\n",
              "    90% {\n",
              "      border-color: transparent;\n",
              "      border-bottom-color: var(--fill-color);\n",
              "    }\n",
              "  }\n",
              "</style>\n",
              "\n",
              "  <script>\n",
              "    async function quickchart(key) {\n",
              "      const quickchartButtonEl =\n",
              "        document.querySelector('#' + key + ' button');\n",
              "      quickchartButtonEl.disabled = true;  // To prevent multiple clicks.\n",
              "      quickchartButtonEl.classList.add('colab-df-spinner');\n",
              "      try {\n",
              "        const charts = await google.colab.kernel.invokeFunction(\n",
              "            'suggestCharts', [key], {});\n",
              "      } catch (error) {\n",
              "        console.error('Error during call to suggestCharts:', error);\n",
              "      }\n",
              "      quickchartButtonEl.classList.remove('colab-df-spinner');\n",
              "      quickchartButtonEl.classList.add('colab-df-quickchart-complete');\n",
              "    }\n",
              "    (() => {\n",
              "      let quickchartButtonEl =\n",
              "        document.querySelector('#df-603cd748-8ad4-4c22-b18f-e24c945714a7 button');\n",
              "      quickchartButtonEl.style.display =\n",
              "        google.colab.kernel.accessAllowed ? 'block' : 'none';\n",
              "    })();\n",
              "  </script>\n",
              "</div>\n",
              "\n",
              "    </div>\n",
              "  </div>\n"
            ],
            "application/vnd.google.colaboratory.intrinsic+json": {
              "type": "dataframe",
              "variable_name": "df"
            }
          },
          "metadata": {},
          "execution_count": 12
        }
      ]
    },
    {
      "cell_type": "code",
      "source": [
        "X_word_emb = df.drop('y', axis=1)\n",
        "y = df['y']\n",
        "X_word_emb.shape"
      ],
      "metadata": {
        "colab": {
          "base_uri": "https://localhost:8080/"
        },
        "id": "Sd3LfRdd5ZTV",
        "outputId": "edb1f5bc-98b2-448a-f8a3-b7e8a45e8fa6"
      },
      "execution_count": null,
      "outputs": [
        {
          "output_type": "execute_result",
          "data": {
            "text/plain": [
              "(416500, 100)"
            ]
          },
          "metadata": {},
          "execution_count": 13
        }
      ]
    },
    {
      "cell_type": "code",
      "source": [
        "from sklearn.pipeline import make_pipeline, Pipeline\n",
        "from sklearn.linear_model import LogisticRegression\n",
        "from sklearn.model_selection import cross_val_score, cross_validate\n",
        "from sklearn.model_selection import StratifiedKFold\n",
        "from sklearn.preprocessing import StandardScaler\n",
        "from sklearn.feature_extraction.text import CountVectorizer\n",
        "\n",
        "kfold = StratifiedKFold(n_splits=5, shuffle=True, random_state=42)\n",
        "LR1 = LogisticRegression(class_weight='balanced', solver='liblinear', penalty='l1', C=0.5, random_state=42)\n",
        "WE_pipe1 = Pipeline([('SC', StandardScaler()), ('LR', LR1)] )\n",
        "\n",
        "results = cross_validate(WE_pipe1, X_word_emb, y, cv=kfold, scoring='accuracy', return_train_score=True)\n",
        "\n",
        "# print(results['train_score'])\n",
        "print(np.round((results['train_score'].mean())*100, 2), np.round((results['train_score'].std())*100, 2))\n",
        "\n",
        "# print(results['test_score'])\n",
        "print(np.round((results['test_score'].mean())*100, 2), np.round((results['test_score'].std())*100, 2))\n"
      ],
      "metadata": {
        "id": "5Vj0mpYRSfAp",
        "colab": {
          "base_uri": "https://localhost:8080/"
        },
        "outputId": "df2372c4-305b-4e36-ba81-b551471b547b"
      },
      "execution_count": null,
      "outputs": [
        {
          "output_type": "stream",
          "name": "stdout",
          "text": [
            "66.45 0.04\n",
            "66.4 0.16\n"
          ]
        }
      ]
    },
    {
      "cell_type": "code",
      "source": [
        "import pickle\n",
        "\n",
        "with open(r'WE_LR_pipeline_self_built.pickle', 'wb') as handle:\n",
        "  pickle.dump(WE_pipe1, handle, protocol=pickle.HIGHEST_PROTOCOL)"
      ],
      "metadata": {
        "id": "90sWcYpvscR2"
      },
      "execution_count": null,
      "outputs": []
    },
    {
      "cell_type": "markdown",
      "source": [
        "### Pre-built\n",
        "\n",
        "Link: https://nlp.stanford.edu/projects/glove/\n"
      ],
      "metadata": {
        "id": "1pHGAt004hBB"
      }
    },
    {
      "cell_type": "code",
      "source": [
        "from gensim.models import KeyedVectors\n",
        "from gensim.scripts.glove2word2vec import glove2word2vec\n",
        "\n",
        "# convert glove to word2vec format\n",
        "glove2word2vec('/content/drive/MyDrive/glove.6B.100d.txt', 'word2vec.txt')"
      ],
      "metadata": {
        "id": "oGi8ZcqjPuOS",
        "colab": {
          "base_uri": "https://localhost:8080/"
        },
        "outputId": "8f6f3765-846d-4583-8ecf-1c0d0c1a0497"
      },
      "execution_count": null,
      "outputs": [
        {
          "output_type": "stream",
          "name": "stderr",
          "text": [
            "<ipython-input-16-626262c8f4a7>:5: DeprecationWarning: Call to deprecated `glove2word2vec` (KeyedVectors.load_word2vec_format(.., binary=False, no_header=True) loads GLoVE text vectors.).\n",
            "  glove2word2vec('/content/drive/MyDrive/glove.6B.100d.txt', 'word2vec.txt')\n"
          ]
        },
        {
          "output_type": "execute_result",
          "data": {
            "text/plain": [
              "(400000, 100)"
            ]
          },
          "metadata": {},
          "execution_count": 16
        }
      ]
    },
    {
      "cell_type": "code",
      "source": [
        "# load the converted model\n",
        "filename = 'word2vec.txt'\n",
        "model = KeyedVectors.load_word2vec_format(filename, binary=False)"
      ],
      "metadata": {
        "id": "bazxEh0nPvxb"
      },
      "execution_count": null,
      "outputs": []
    },
    {
      "cell_type": "code",
      "source": [
        "# calculate: (king - man) + woman = ?\n",
        "result = model.most_similar(positive=['woman', 'king'], negative=['man'], topn=1)\n",
        "print(result)"
      ],
      "metadata": {
        "id": "iEca6d65OCWN",
        "colab": {
          "base_uri": "https://localhost:8080/"
        },
        "outputId": "e142912a-a9b3-4474-fb19-ccaffb3ed7c4"
      },
      "execution_count": null,
      "outputs": [
        {
          "output_type": "stream",
          "name": "stdout",
          "text": [
            "[('queen', 0.7698540687561035)]\n"
          ]
        }
      ]
    },
    {
      "cell_type": "code",
      "source": [
        "# Finding the odd one out.\n",
        "print(model.doesnt_match('breakfast cereal dinner lunch'.split()))"
      ],
      "metadata": {
        "id": "NN80KrtcQHxf",
        "colab": {
          "base_uri": "https://localhost:8080/"
        },
        "outputId": "fbe6f915-0fa4-400b-aa18-8dc0d4b3fdbb"
      },
      "execution_count": null,
      "outputs": [
        {
          "output_type": "stream",
          "name": "stdout",
          "text": [
            "cereal\n"
          ]
        }
      ]
    },
    {
      "cell_type": "code",
      "source": [
        "#Checking how similarity works.\n",
        "print(model.similarity('strawberry', 'mango'))\n",
        "print(model.similarity('book', 'mango'))"
      ],
      "metadata": {
        "id": "svoaeSZ2QNgP",
        "colab": {
          "base_uri": "https://localhost:8080/"
        },
        "outputId": "16433ff9-e5d8-4406-e9b5-4d170e2eabad"
      },
      "execution_count": null,
      "outputs": [
        {
          "output_type": "stream",
          "name": "stdout",
          "text": [
            "0.55659294\n",
            "0.08692091\n"
          ]
        }
      ]
    },
    {
      "cell_type": "code",
      "source": [
        "def document_vector_glove(doc):\n",
        "    \"\"\"Create document vectors by averaging word vectors. Remove out-of-vocabulary words.\"\"\"\n",
        "\n",
        "    # doc1 contains those words of the document which are included in the vocab\n",
        "    doc1 = [word for word in doc.split() if word in model.index_to_key]\n",
        "\n",
        "    wv1 = []  # this will contain the WE of all the vocab words from the doc\n",
        "    for word in doc1:\n",
        "        wv1.append(model.get_vector(word))\n",
        "    wv1_ = np.array(wv1)\n",
        "    wv1_mean = wv1_.mean(axis=0)\n",
        "    return wv1_mean"
      ],
      "metadata": {
        "id": "1QLWPFSRTJ1N"
      },
      "execution_count": null,
      "outputs": []
    },
    {
      "cell_type": "code",
      "source": [
        "text_temp = data['cleaned_text'].apply(document_vector_glove)"
      ],
      "metadata": {
        "colab": {
          "base_uri": "https://localhost:8080/"
        },
        "id": "NAJG9fghTTcV",
        "outputId": "bf018f0f-85aa-42a3-a22e-351401bf2bfe"
      },
      "execution_count": null,
      "outputs": [
        {
          "output_type": "stream",
          "name": "stderr",
          "text": [
            "<ipython-input-42-ca7d899f84f1>:11: RuntimeWarning: Mean of empty slice.\n",
            "  wv1_mean = wv1_.mean(axis=0)\n"
          ]
        }
      ]
    },
    {
      "cell_type": "code",
      "source": [
        "# Combining all the document vectors into a singl numpy array\n",
        "embedding_size = 100\n",
        "text_vec = np.ones((len(text_temp), embedding_size))*np.nan\n",
        "for i in range(text_vec.shape[0]):\n",
        "    text_vec[i,:] = text_temp.iloc[i]\n",
        "\n",
        "df1 = pd.DataFrame(text_vec)\n",
        "df1['y'] = data['label']\n",
        "df1.dropna(how='any', axis=0, inplace=True)\n",
        "\n",
        "X_word_emb = df1.drop('y', axis=1)\n",
        "y = df1['y']\n",
        "X_word_emb.shape"
      ],
      "metadata": {
        "colab": {
          "base_uri": "https://localhost:8080/"
        },
        "id": "JYOMQhxKTa1Q",
        "outputId": "7e2a29bf-46bb-49c5-e36f-3344380794b6"
      },
      "execution_count": null,
      "outputs": [
        {
          "output_type": "execute_result",
          "data": {
            "text/plain": [
              "(416488, 100)"
            ]
          },
          "metadata": {},
          "execution_count": 44
        }
      ]
    },
    {
      "cell_type": "code",
      "source": [
        "kfold = StratifiedKFold(n_splits=5, shuffle=True, random_state=42)\n",
        "LR1 = LogisticRegression(class_weight='balanced', solver='liblinear', penalty='l1', C=0.4, random_state=42)\n",
        "WE_pipe2 = Pipeline([('SC', StandardScaler()), ('LR', LR1)] )\n",
        "\n",
        "results = cross_validate(WE_pipe2, X_word_emb, y, cv=kfold, scoring='accuracy', return_train_score=True)\n",
        "\n",
        "# print(results['train_score'])\n",
        "print(np.round((results['train_score'].mean())*100, 2), np.round((results['train_score'].std())*100, 2))\n",
        "\n",
        "# print(results['test_score'])\n",
        "print(np.round((results['test_score'].mean())*100, 2), np.round((results['test_score'].std())*100, 2))"
      ],
      "metadata": {
        "colab": {
          "base_uri": "https://localhost:8080/"
        },
        "id": "mwJ6xdABTkNr",
        "outputId": "8a6ff595-9745-4191-ace1-e402ce649f74"
      },
      "execution_count": null,
      "outputs": [
        {
          "output_type": "stream",
          "name": "stdout",
          "text": [
            "57.44 0.03\n",
            "57.39 0.17\n"
          ]
        }
      ]
    },
    {
      "cell_type": "code",
      "source": [
        "import pickle\n",
        "\n",
        "with open(r'WE_LR_pipeline_pre_built.pickle', 'wb') as handle:\n",
        "  pickle.dump(WE_pipe2, handle, protocol=pickle.HIGHEST_PROTOCOL)"
      ],
      "metadata": {
        "id": "353Oxzxiwgum"
      },
      "execution_count": null,
      "outputs": []
    },
    {
      "cell_type": "markdown",
      "source": [
        "# Deep Learning"
      ],
      "metadata": {
        "id": "OdmwNK9wTnpk"
      }
    },
    {
      "cell_type": "markdown",
      "source": [
        "## OHE - Binary features\n",
        "Making my own Count Vectorizer same as Bag of words"
      ],
      "metadata": {
        "id": "BtxGchpu6HTS"
      }
    },
    {
      "cell_type": "code",
      "source": [
        "import numpy as np\n",
        "import pandas as pd\n",
        "from sklearn.pipeline import make_pipeline, Pipeline\n",
        "from sklearn.linear_model import LogisticRegression\n",
        "from sklearn.model_selection import cross_val_score, cross_validate\n",
        "from sklearn.model_selection import StratifiedKFold\n",
        "from sklearn.preprocessing import StandardScaler\n",
        "from sklearn.feature_extraction.text import CountVectorizer\n",
        "from sklearn.model_selection import train_test_split\n"
      ],
      "metadata": {
        "id": "v-Ej63wYTzo8"
      },
      "execution_count": null,
      "outputs": []
    },
    {
      "cell_type": "code",
      "source": [
        "from keras.models import Sequential\n",
        "from keras.layers import Dense, Dropout\n",
        "from keras.callbacks import ModelCheckpoint\n",
        "import keras.backend as K"
      ],
      "metadata": {
        "id": "HldCxMo0WEp8"
      },
      "execution_count": null,
      "outputs": []
    },
    {
      "cell_type": "code",
      "source": [
        "def define_model(n_words):\n",
        "    # define network\n",
        "    model = Sequential()\n",
        "    model.add(Dense(64, input_shape=(n_words,), activation='relu', kernel_regularizer='l2'))\n",
        "#     model.add(Dropout(0.25))\n",
        "    model.add(Dense(32, activation='relu', kernel_regularizer='l2'))\n",
        "#     model.add(Dropout(0.25))\n",
        "    model.add(Dense(1, activation='sigmoid'))\n",
        "\n",
        "    # compile network\n",
        "    model.compile(loss='binary_crossentropy', optimizer='adam', metrics=['accuracy'], )\n",
        "\n",
        "    # summarize defined model\n",
        "    model.summary()\n",
        "    return model"
      ],
      "metadata": {
        "id": "X224yoIqWM-g"
      },
      "execution_count": null,
      "outputs": []
    },
    {
      "cell_type": "code",
      "source": [
        "# evaluate a neural network model\n",
        "def evaluate_model(Xtrain, ytrain, Xtest, ytest):\n",
        "    scores = list()\n",
        "    n_repeats = 5\n",
        "    n_words = Xtest.shape[1]\n",
        "\n",
        "    for i in range(n_repeats):\n",
        "        # define network\n",
        "        model = define_model(n_words)\n",
        "\n",
        "        # fit network\n",
        "        model.fit(Xtrain, ytrain, epochs=10, verbose=0)\n",
        "\n",
        "        # evaluate\n",
        "        _, acc = model.evaluate(Xtest, ytest, verbose=0)\n",
        "        scores.append(acc)\n",
        "\n",
        "        print('%d accuracy: %s' % ((i+1), acc))\n",
        "    return scores"
      ],
      "metadata": {
        "id": "f4Bgme7OWT1g"
      },
      "execution_count": null,
      "outputs": []
    },
    {
      "cell_type": "code",
      "source": [
        "# fit a tokenizer\n",
        "from keras.preprocessing.text import Tokenizer\n",
        "def create_tokenizer(lines):\n",
        "    tokenizer = Tokenizer()\n",
        "    tokenizer.fit_on_texts(lines)\n",
        "    return tokenizer"
      ],
      "metadata": {
        "id": "47gwt18AWXDU"
      },
      "execution_count": null,
      "outputs": []
    },
    {
      "cell_type": "code",
      "source": [
        "# I ran the code in free Google Colab so I only have 12GB RAM, I can not run the whole dataset\n",
        "import random\n",
        "\n",
        "def random_sampling(data, sample_size):\n",
        "  sampled_indices = random.sample(range(len(data)), sample_size)\n",
        "  return data.iloc[sampled_indices]\n",
        "\n",
        "new_data = random_sampling(data, 20000)\n",
        "\n",
        "new_data[\"label\"].value_counts(normalize=True)\n"
      ],
      "metadata": {
        "colab": {
          "base_uri": "https://localhost:8080/"
        },
        "id": "RdKR2R2T0Ocj",
        "outputId": "9a0955d9-f2ad-4c69-e61a-ba9b6b767dca"
      },
      "execution_count": null,
      "outputs": [
        {
          "output_type": "execute_result",
          "data": {
            "text/plain": [
              "label\n",
              "1    0.34115\n",
              "0    0.28810\n",
              "3    0.14195\n",
              "4    0.11430\n",
              "2    0.08020\n",
              "5    0.03430\n",
              "Name: proportion, dtype: float64"
            ]
          },
          "metadata": {},
          "execution_count": 5
        }
      ]
    },
    {
      "cell_type": "code",
      "source": [
        "# create the tokenizer\n",
        "train_docs = new_data['cleaned_text']\n",
        "tokenizer = create_tokenizer(train_docs)"
      ],
      "metadata": {
        "id": "86QkrRtvWbHP"
      },
      "execution_count": null,
      "outputs": []
    },
    {
      "cell_type": "code",
      "source": [
        "# encode data\n",
        "X = tokenizer.texts_to_matrix(train_docs, mode='binary')"
      ],
      "metadata": {
        "id": "hV-_NahUWeZV"
      },
      "execution_count": null,
      "outputs": []
    },
    {
      "cell_type": "code",
      "source": [
        "X.shape"
      ],
      "metadata": {
        "id": "M2QaB0uJWh-B",
        "colab": {
          "base_uri": "https://localhost:8080/"
        },
        "outputId": "109812cd-a305-41f3-a33b-799a7f878753"
      },
      "execution_count": null,
      "outputs": [
        {
          "output_type": "execute_result",
          "data": {
            "text/plain": [
              "(20000, 13738)"
            ]
          },
          "metadata": {},
          "execution_count": 12
        }
      ]
    },
    {
      "cell_type": "code",
      "source": [
        "X[0]"
      ],
      "metadata": {
        "id": "SK1pjzNVWmd1",
        "colab": {
          "base_uri": "https://localhost:8080/"
        },
        "outputId": "3dd01145-7790-43bf-9aff-23a8bcfd6e7c"
      },
      "execution_count": null,
      "outputs": [
        {
          "output_type": "execute_result",
          "data": {
            "text/plain": [
              "array([0., 1., 0., ..., 0., 0., 0.])"
            ]
          },
          "metadata": {},
          "execution_count": 13
        }
      ]
    },
    {
      "cell_type": "code",
      "source": [
        "y = new_data['label']"
      ],
      "metadata": {
        "id": "-en6qaznWo9N"
      },
      "execution_count": null,
      "outputs": []
    },
    {
      "cell_type": "code",
      "source": [
        "Xtrain, Xtest, ytrain, ytest = train_test_split(X, y,  test_size=0.2,random_state=42)"
      ],
      "metadata": {
        "id": "AK8PBh0wWsen"
      },
      "execution_count": null,
      "outputs": []
    },
    {
      "cell_type": "code",
      "source": [
        "Xtrain.shape, Xtest.shape"
      ],
      "metadata": {
        "id": "4PgW1Tq7Wu_M",
        "colab": {
          "base_uri": "https://localhost:8080/"
        },
        "outputId": "70e575ce-4bb6-43bf-90c5-5f734b6e79d5"
      },
      "execution_count": null,
      "outputs": [
        {
          "output_type": "execute_result",
          "data": {
            "text/plain": [
              "((16000, 13738), (4000, 13738))"
            ]
          },
          "metadata": {},
          "execution_count": 16
        }
      ]
    },
    {
      "cell_type": "code",
      "source": [
        "# define network\n",
        "K.clear_session()\n",
        "n_words = Xtrain.shape[1]\n",
        "model = define_model(n_words)"
      ],
      "metadata": {
        "id": "J6dkbExxWyk6",
        "colab": {
          "base_uri": "https://localhost:8080/"
        },
        "outputId": "c0ee4dfb-c280-44ad-99a2-084fa538f37c"
      },
      "execution_count": null,
      "outputs": [
        {
          "output_type": "stream",
          "name": "stdout",
          "text": [
            "Model: \"sequential\"\n",
            "_________________________________________________________________\n",
            " Layer (type)                Output Shape              Param #   \n",
            "=================================================================\n",
            " dense (Dense)               (None, 64)                879296    \n",
            "                                                                 \n",
            " dense_1 (Dense)             (None, 32)                2080      \n",
            "                                                                 \n",
            " dense_2 (Dense)             (None, 1)                 33        \n",
            "                                                                 \n",
            "=================================================================\n",
            "Total params: 881409 (3.36 MB)\n",
            "Trainable params: 881409 (3.36 MB)\n",
            "Non-trainable params: 0 (0.00 Byte)\n",
            "_________________________________________________________________\n"
          ]
        }
      ]
    },
    {
      "cell_type": "code",
      "source": [
        "# fit network\n",
        "checkpoint = ModelCheckpoint(\"DL_OHE.h5\",\n",
        "                             monitor=\"val_loss\",\n",
        "                             mode=\"min\",\n",
        "                             save_best_only = True,\n",
        "                             verbose=1)\n",
        "callbacks = [checkpoint]\n",
        "\n",
        "h = model.fit(Xtrain, ytrain, validation_split=0.1, callbacks = callbacks, batch_size=180, epochs=25, verbose=2)"
      ],
      "metadata": {
        "id": "Xaj0NCg8W3QJ",
        "colab": {
          "base_uri": "https://localhost:8080/"
        },
        "outputId": "0d33b558-52e0-4490-cd44-0f8c422e72af"
      },
      "execution_count": null,
      "outputs": [
        {
          "output_type": "stream",
          "name": "stdout",
          "text": [
            "Epoch 1/25\n",
            "\n",
            "Epoch 1: val_loss improved from inf to -3.32723, saving model to DL_OHE.h5\n",
            "80/80 - 4s - loss: -4.5918e-01 - accuracy: 0.3381 - val_loss: -3.3272e+00 - val_accuracy: 0.3438 - 4s/epoch - 47ms/step\n",
            "Epoch 2/25\n"
          ]
        },
        {
          "output_type": "stream",
          "name": "stderr",
          "text": [
            "/usr/local/lib/python3.10/dist-packages/keras/src/engine/training.py:3103: UserWarning: You are saving your model as an HDF5 file via `model.save()`. This file format is considered legacy. We recommend using instead the native Keras format, e.g. `model.save('my_model.keras')`.\n",
            "  saving_api.save_model(\n"
          ]
        },
        {
          "output_type": "stream",
          "name": "stdout",
          "text": [
            "\n",
            "Epoch 2: val_loss improved from -3.32723 to -26.92775, saving model to DL_OHE.h5\n",
            "80/80 - 1s - loss: -1.3273e+01 - accuracy: 0.3382 - val_loss: -2.6928e+01 - val_accuracy: 0.3438 - 615ms/epoch - 8ms/step\n",
            "Epoch 3/25\n",
            "\n",
            "Epoch 3: val_loss improved from -26.92775 to -101.85076, saving model to DL_OHE.h5\n",
            "80/80 - 1s - loss: -6.4623e+01 - accuracy: 0.3382 - val_loss: -1.0185e+02 - val_accuracy: 0.3438 - 634ms/epoch - 8ms/step\n",
            "Epoch 4/25\n",
            "\n",
            "Epoch 4: val_loss improved from -101.85076 to -262.69666, saving model to DL_OHE.h5\n",
            "80/80 - 1s - loss: -1.9341e+02 - accuracy: 0.3382 - val_loss: -2.6270e+02 - val_accuracy: 0.3438 - 630ms/epoch - 8ms/step\n",
            "Epoch 5/25\n",
            "\n",
            "Epoch 5: val_loss improved from -262.69666 to -539.82990, saving model to DL_OHE.h5\n",
            "80/80 - 1s - loss: -4.3637e+02 - accuracy: 0.3382 - val_loss: -5.3983e+02 - val_accuracy: 0.3438 - 611ms/epoch - 8ms/step\n",
            "Epoch 6/25\n",
            "\n",
            "Epoch 6: val_loss improved from -539.82990 to -958.25000, saving model to DL_OHE.h5\n",
            "80/80 - 1s - loss: -8.3217e+02 - accuracy: 0.3382 - val_loss: -9.5825e+02 - val_accuracy: 0.3438 - 626ms/epoch - 8ms/step\n",
            "Epoch 7/25\n",
            "\n",
            "Epoch 7: val_loss improved from -958.25000 to -1559.73621, saving model to DL_OHE.h5\n",
            "80/80 - 1s - loss: -1.4041e+03 - accuracy: 0.3382 - val_loss: -1.5597e+03 - val_accuracy: 0.3438 - 612ms/epoch - 8ms/step\n",
            "Epoch 8/25\n",
            "\n",
            "Epoch 8: val_loss improved from -1559.73621 to -2342.29883, saving model to DL_OHE.h5\n",
            "80/80 - 1s - loss: -2.1919e+03 - accuracy: 0.3382 - val_loss: -2.3423e+03 - val_accuracy: 0.3438 - 643ms/epoch - 8ms/step\n",
            "Epoch 9/25\n",
            "\n",
            "Epoch 9: val_loss improved from -2342.29883 to -3349.43213, saving model to DL_OHE.h5\n",
            "80/80 - 1s - loss: -3.2140e+03 - accuracy: 0.3382 - val_loss: -3.3494e+03 - val_accuracy: 0.3438 - 614ms/epoch - 8ms/step\n",
            "Epoch 10/25\n",
            "\n",
            "Epoch 10: val_loss improved from -3349.43213 to -4598.77734, saving model to DL_OHE.h5\n",
            "80/80 - 1s - loss: -4.4984e+03 - accuracy: 0.3382 - val_loss: -4.5988e+03 - val_accuracy: 0.3438 - 917ms/epoch - 11ms/step\n",
            "Epoch 11/25\n",
            "\n",
            "Epoch 11: val_loss improved from -4598.77734 to -6093.77148, saving model to DL_OHE.h5\n",
            "80/80 - 1s - loss: -6.0677e+03 - accuracy: 0.3382 - val_loss: -6.0938e+03 - val_accuracy: 0.3438 - 834ms/epoch - 10ms/step\n",
            "Epoch 12/25\n",
            "\n",
            "Epoch 12: val_loss improved from -6093.77148 to -7863.65479, saving model to DL_OHE.h5\n",
            "80/80 - 1s - loss: -7.9403e+03 - accuracy: 0.3382 - val_loss: -7.8637e+03 - val_accuracy: 0.3438 - 1s/epoch - 15ms/step\n",
            "Epoch 13/25\n",
            "\n",
            "Epoch 13: val_loss improved from -7863.65479 to -9923.07520, saving model to DL_OHE.h5\n",
            "80/80 - 2s - loss: -1.0135e+04 - accuracy: 0.3382 - val_loss: -9.9231e+03 - val_accuracy: 0.3438 - 2s/epoch - 21ms/step\n",
            "Epoch 14/25\n",
            "\n",
            "Epoch 14: val_loss improved from -9923.07520 to -12265.83105, saving model to DL_OHE.h5\n",
            "80/80 - 1s - loss: -1.2677e+04 - accuracy: 0.3382 - val_loss: -1.2266e+04 - val_accuracy: 0.3438 - 877ms/epoch - 11ms/step\n",
            "Epoch 15/25\n",
            "\n",
            "Epoch 15: val_loss improved from -12265.83105 to -14947.48047, saving model to DL_OHE.h5\n",
            "80/80 - 1s - loss: -1.5571e+04 - accuracy: 0.3382 - val_loss: -1.4947e+04 - val_accuracy: 0.3438 - 871ms/epoch - 11ms/step\n",
            "Epoch 16/25\n",
            "\n",
            "Epoch 16: val_loss improved from -14947.48047 to -17942.41016, saving model to DL_OHE.h5\n",
            "80/80 - 1s - loss: -1.8830e+04 - accuracy: 0.3382 - val_loss: -1.7942e+04 - val_accuracy: 0.3438 - 649ms/epoch - 8ms/step\n",
            "Epoch 17/25\n",
            "\n",
            "Epoch 17: val_loss improved from -17942.41016 to -21277.23828, saving model to DL_OHE.h5\n",
            "80/80 - 1s - loss: -2.2469e+04 - accuracy: 0.3382 - val_loss: -2.1277e+04 - val_accuracy: 0.3438 - 602ms/epoch - 8ms/step\n",
            "Epoch 18/25\n",
            "\n",
            "Epoch 18: val_loss improved from -21277.23828 to -24953.13672, saving model to DL_OHE.h5\n",
            "80/80 - 1s - loss: -2.6511e+04 - accuracy: 0.3382 - val_loss: -2.4953e+04 - val_accuracy: 0.3438 - 597ms/epoch - 7ms/step\n",
            "Epoch 19/25\n",
            "\n",
            "Epoch 19: val_loss improved from -24953.13672 to -28985.38281, saving model to DL_OHE.h5\n",
            "80/80 - 1s - loss: -3.0958e+04 - accuracy: 0.3382 - val_loss: -2.8985e+04 - val_accuracy: 0.3438 - 607ms/epoch - 8ms/step\n",
            "Epoch 20/25\n",
            "\n",
            "Epoch 20: val_loss improved from -28985.38281 to -33363.62891, saving model to DL_OHE.h5\n",
            "80/80 - 1s - loss: -3.5825e+04 - accuracy: 0.3382 - val_loss: -3.3364e+04 - val_accuracy: 0.3438 - 620ms/epoch - 8ms/step\n",
            "Epoch 21/25\n",
            "\n",
            "Epoch 21: val_loss improved from -33363.62891 to -38169.95312, saving model to DL_OHE.h5\n",
            "80/80 - 1s - loss: -4.1097e+04 - accuracy: 0.3382 - val_loss: -3.8170e+04 - val_accuracy: 0.3438 - 609ms/epoch - 8ms/step\n",
            "Epoch 22/25\n",
            "\n",
            "Epoch 22: val_loss improved from -38169.95312 to -43293.06641, saving model to DL_OHE.h5\n",
            "80/80 - 1s - loss: -4.6824e+04 - accuracy: 0.3382 - val_loss: -4.3293e+04 - val_accuracy: 0.3438 - 623ms/epoch - 8ms/step\n",
            "Epoch 23/25\n",
            "\n",
            "Epoch 23: val_loss improved from -43293.06641 to -48801.28125, saving model to DL_OHE.h5\n",
            "80/80 - 1s - loss: -5.2994e+04 - accuracy: 0.3382 - val_loss: -4.8801e+04 - val_accuracy: 0.3438 - 695ms/epoch - 9ms/step\n",
            "Epoch 24/25\n",
            "\n",
            "Epoch 24: val_loss improved from -48801.28125 to -54693.19141, saving model to DL_OHE.h5\n",
            "80/80 - 1s - loss: -5.9622e+04 - accuracy: 0.3382 - val_loss: -5.4693e+04 - val_accuracy: 0.3438 - 656ms/epoch - 8ms/step\n",
            "Epoch 25/25\n",
            "\n",
            "Epoch 25: val_loss improved from -54693.19141 to -61050.10547, saving model to DL_OHE.h5\n",
            "80/80 - 1s - loss: -6.6701e+04 - accuracy: 0.3382 - val_loss: -6.1050e+04 - val_accuracy: 0.3438 - 619ms/epoch - 8ms/step\n"
          ]
        }
      ]
    },
    {
      "cell_type": "code",
      "source": [
        "import matplotlib.pyplot as plt\n",
        "\n",
        "plt.figure(figsize=(8,5))\n",
        "plt.plot(list(range(1,26)), h.history['loss'], label='Training loss')\n",
        "plt.plot(list(range(1,26)), h.history['val_loss'], label='Validation loss')\n",
        "plt.legend(fontsize=15)\n",
        "plt.grid()\n",
        "plt.xlabel('Epochs', fontsize=15)\n",
        "plt.ylabel('Loss Fn valaues', fontsize=15)"
      ],
      "metadata": {
        "id": "0hYvVtHLW65V",
        "colab": {
          "base_uri": "https://localhost:8080/",
          "height": 488
        },
        "outputId": "d01386c7-f80b-4404-aa60-406862047b73"
      },
      "execution_count": null,
      "outputs": [
        {
          "output_type": "execute_result",
          "data": {
            "text/plain": [
              "Text(0, 0.5, 'Loss Fn valaues')"
            ]
          },
          "metadata": {},
          "execution_count": 19
        },
        {
          "output_type": "display_data",
          "data": {
            "text/plain": [
              "<Figure size 800x500 with 1 Axes>"
            ],
            "image/png": "[encoded data removed]"
          },
          "metadata": {}
        }
      ]
    },
    {
      "cell_type": "code",
      "source": [
        "import matplotlib.pyplot as plt\n",
        "\n",
        "plt.figure(figsize=(8,5))\n",
        "plt.plot(list(range(1,26)), h.history['accuracy'], label='Training Accuracy')\n",
        "plt.plot(list(range(1,26)), h.history['val_accuracy'], label='Validation Accuracy')\n",
        "plt.legend(fontsize=15)\n",
        "plt.grid()\n",
        "plt.xlabel('Epochs', fontsize=15)\n",
        "plt.ylabel('Accuracy', fontsize=15)"
      ],
      "metadata": {
        "id": "421GOGtzW-kc",
        "colab": {
          "base_uri": "https://localhost:8080/",
          "height": 491
        },
        "outputId": "f9ff8054-8ef2-43c6-f341-dedfc6150060"
      },
      "execution_count": null,
      "outputs": [
        {
          "output_type": "execute_result",
          "data": {
            "text/plain": [
              "Text(0, 0.5, 'Accuracy')"
            ]
          },
          "metadata": {},
          "execution_count": 20
        },
        {
          "output_type": "display_data",
          "data": {
            "text/plain": [
              "<Figure size 800x500 with 1 Axes>"
            ],
            "image/png": "[encoded data removed]"
          },
          "metadata": {}
        }
      ]
    },
    {
      "cell_type": "code",
      "source": [
        "# evaluate the model ONCe on the test set\n",
        "loss, acc = model.evaluate(Xtest, ytest, verbose=0)\n",
        "print('Test Accuracy: %f' % (acc*100))"
      ],
      "metadata": {
        "id": "lbGG-z5gW_Ul",
        "colab": {
          "base_uri": "https://localhost:8080/"
        },
        "outputId": "a87a2be4-2631-4a57-e34b-748b680406b7"
      },
      "execution_count": null,
      "outputs": [
        {
          "output_type": "stream",
          "name": "stdout",
          "text": [
            "Test Accuracy: 33.625001\n"
          ]
        }
      ]
    },
    {
      "cell_type": "code",
      "source": [
        "# evaluate (Train & Test repeated 5 times)\n",
        "res = evaluate_model(Xtrain, ytrain, Xtest, ytest)"
      ],
      "metadata": {
        "id": "UeHr-WZSXGoH",
        "colab": {
          "base_uri": "https://localhost:8080/"
        },
        "outputId": "a55aa8fa-cafb-479e-a554-4fb8294b390e"
      },
      "execution_count": null,
      "outputs": [
        {
          "output_type": "stream",
          "name": "stdout",
          "text": [
            "Model: \"sequential_1\"\n",
            "_________________________________________________________________\n",
            " Layer (type)                Output Shape              Param #   \n",
            "=================================================================\n",
            " dense_3 (Dense)             (None, 64)                879296    \n",
            "                                                                 \n",
            " dense_4 (Dense)             (None, 32)                2080      \n",
            "                                                                 \n",
            " dense_5 (Dense)             (None, 1)                 33        \n",
            "                                                                 \n",
            "=================================================================\n",
            "Total params: 881409 (3.36 MB)\n",
            "Trainable params: 881409 (3.36 MB)\n",
            "Non-trainable params: 0 (0.00 Byte)\n",
            "_________________________________________________________________\n",
            "1 accuracy: 0.3362500071525574\n",
            "Model: \"sequential_2\"\n",
            "_________________________________________________________________\n",
            " Layer (type)                Output Shape              Param #   \n",
            "=================================================================\n",
            " dense_6 (Dense)             (None, 64)                879296    \n",
            "                                                                 \n",
            " dense_7 (Dense)             (None, 32)                2080      \n",
            "                                                                 \n",
            " dense_8 (Dense)             (None, 1)                 33        \n",
            "                                                                 \n",
            "=================================================================\n",
            "Total params: 881409 (3.36 MB)\n",
            "Trainable params: 881409 (3.36 MB)\n",
            "Non-trainable params: 0 (0.00 Byte)\n",
            "_________________________________________________________________\n",
            "2 accuracy: 0.3362500071525574\n",
            "Model: \"sequential_3\"\n",
            "_________________________________________________________________\n",
            " Layer (type)                Output Shape              Param #   \n",
            "=================================================================\n",
            " dense_9 (Dense)             (None, 64)                879296    \n",
            "                                                                 \n",
            " dense_10 (Dense)            (None, 32)                2080      \n",
            "                                                                 \n",
            " dense_11 (Dense)            (None, 1)                 33        \n",
            "                                                                 \n",
            "=================================================================\n",
            "Total params: 881409 (3.36 MB)\n",
            "Trainable params: 881409 (3.36 MB)\n",
            "Non-trainable params: 0 (0.00 Byte)\n",
            "_________________________________________________________________\n",
            "3 accuracy: 0.3362500071525574\n",
            "Model: \"sequential_4\"\n",
            "_________________________________________________________________\n",
            " Layer (type)                Output Shape              Param #   \n",
            "=================================================================\n",
            " dense_12 (Dense)            (None, 64)                879296    \n",
            "                                                                 \n",
            " dense_13 (Dense)            (None, 32)                2080      \n",
            "                                                                 \n",
            " dense_14 (Dense)            (None, 1)                 33        \n",
            "                                                                 \n",
            "=================================================================\n",
            "Total params: 881409 (3.36 MB)\n",
            "Trainable params: 881409 (3.36 MB)\n",
            "Non-trainable params: 0 (0.00 Byte)\n",
            "_________________________________________________________________\n",
            "4 accuracy: 0.3362500071525574\n",
            "Model: \"sequential_5\"\n",
            "_________________________________________________________________\n",
            " Layer (type)                Output Shape              Param #   \n",
            "=================================================================\n",
            " dense_15 (Dense)            (None, 64)                879296    \n",
            "                                                                 \n",
            " dense_16 (Dense)            (None, 32)                2080      \n",
            "                                                                 \n",
            " dense_17 (Dense)            (None, 1)                 33        \n",
            "                                                                 \n",
            "=================================================================\n",
            "Total params: 881409 (3.36 MB)\n",
            "Trainable params: 881409 (3.36 MB)\n",
            "Non-trainable params: 0 (0.00 Byte)\n",
            "_________________________________________________________________\n",
            "5 accuracy: 0.3362500071525574\n"
          ]
        }
      ]
    },
    {
      "cell_type": "code",
      "source": [
        "import pickle\n",
        "\n",
        "with open(r'tokenizer-OHE.pickle', 'wb') as handle:\n",
        "  pickle.dump(tokenizer, handle, protocol=pickle.HIGHEST_PROTOCOL)"
      ],
      "metadata": {
        "id": "cNpInxnGExm5"
      },
      "execution_count": null,
      "outputs": []
    },
    {
      "cell_type": "markdown",
      "source": [
        "## Word Embeding Model with Keras Embeding Layer"
      ],
      "metadata": {
        "id": "yMCtmtPpXRl4"
      }
    },
    {
      "cell_type": "code",
      "source": [
        "pip install keras_preprocessing"
      ],
      "metadata": {
        "colab": {
          "base_uri": "https://localhost:8080/"
        },
        "id": "PRCMEgH_GH-c",
        "outputId": "46f724a8-3320-4616-cc9c-a34dc68c286d"
      },
      "execution_count": null,
      "outputs": [
        {
          "output_type": "stream",
          "name": "stdout",
          "text": [
            "Collecting keras_preprocessing\n",
            "  Downloading Keras_Preprocessing-1.1.2-py2.py3-none-any.whl (42 kB)\n",
            "\u001b[2K     \u001b[90m━━━━━━━━━━━━━━━━━━━━━━━━━━━━━━━━━━━━━━━━\u001b[0m \u001b[32m42.6/42.6 kB\u001b[0m \u001b[31m761.3 kB/s\u001b[0m eta \u001b[36m0:00:00\u001b[0m\n",
            "\u001b[?25hRequirement already satisfied: numpy>=1.9.1 in /usr/local/lib/python3.10/dist-packages (from keras_preprocessing) (1.25.2)\n",
            "Requirement already satisfied: six>=1.9.0 in /usr/local/lib/python3.10/dist-packages (from keras_preprocessing) (1.16.0)\n",
            "Installing collected packages: keras_preprocessing\n",
            "Successfully installed keras_preprocessing-1.1.2\n"
          ]
        }
      ]
    },
    {
      "cell_type": "code",
      "source": [
        "from numpy import array\n",
        "from keras.preprocessing.text import Tokenizer\n",
        "from keras_preprocessing.sequence import pad_sequences\n",
        "from keras.models import Sequential\n",
        "from keras.layers import Dense\n",
        "from keras.layers import Flatten\n",
        "from keras.layers import Embedding\n",
        "from keras.layers import Conv1D\n",
        "from keras.layers import MaxPooling1D\n",
        "from sklearn.model_selection import train_test_split\n",
        "import keras.backend as K"
      ],
      "metadata": {
        "id": "ld-1CStWXUEI"
      },
      "execution_count": null,
      "outputs": []
    },
    {
      "cell_type": "code",
      "source": [
        "Xtrain, Xtest, ytrain, ytest = train_test_split(new_data['cleaned_text'], new_data['label'],  test_size=0.2, random_state=42)"
      ],
      "metadata": {
        "id": "qFILKEThXbUE"
      },
      "execution_count": null,
      "outputs": []
    },
    {
      "cell_type": "code",
      "source": [
        "Xtrain.shape"
      ],
      "metadata": {
        "id": "xm2LRuofXeQB",
        "colab": {
          "base_uri": "https://localhost:8080/"
        },
        "outputId": "bbde77a0-7009-4aba-e5b2-39b26f7477ea"
      },
      "execution_count": null,
      "outputs": [
        {
          "output_type": "execute_result",
          "data": {
            "text/plain": [
              "(16000,)"
            ]
          },
          "metadata": {},
          "execution_count": 11
        }
      ]
    },
    {
      "cell_type": "code",
      "source": [
        "# integer encode and pad documents\n",
        "def encode_docs(tokenizer, max_length, docs):\n",
        "    # integer encode\n",
        "    encoded = tokenizer.texts_to_sequences(docs)\n",
        "\n",
        "    # pad sequences\n",
        "    padded = pad_sequences(encoded, maxlen=max_length, padding='post')\n",
        "    return padded"
      ],
      "metadata": {
        "id": "q8aklASdXhRL"
      },
      "execution_count": null,
      "outputs": []
    },
    {
      "cell_type": "code",
      "source": [
        "# define vocabulary size\n",
        "vocab_size = len(tokenizer.word_index) + 1\n",
        "print('Vocabulary size: %d' % vocab_size)\n",
        "\n",
        "# calculate the maximum sequence length\n",
        "max_length = max([len(s.split()) for s in train_docs])\n",
        "print('Maximum length: %d' % max_length)"
      ],
      "metadata": {
        "id": "B2jZZMBkXkzx",
        "colab": {
          "base_uri": "https://localhost:8080/"
        },
        "outputId": "58cd94be-d44f-40bd-e299-5fc73e34f0dc"
      },
      "execution_count": null,
      "outputs": [
        {
          "output_type": "stream",
          "name": "stdout",
          "text": [
            "Vocabulary size: 13738\n",
            "Maximum length: 34\n"
          ]
        }
      ]
    },
    {
      "cell_type": "code",
      "source": [
        "tokenizer = create_tokenizer(Xtrain)\n",
        "padded_docs_train = encode_docs(tokenizer, max_length, Xtrain)\n",
        "padded_docs_train"
      ],
      "metadata": {
        "id": "KIicz7xYXoNB",
        "colab": {
          "base_uri": "https://localhost:8080/"
        },
        "outputId": "1170d706-049c-4847-9f81-8fd7083c234b"
      },
      "execution_count": null,
      "outputs": [
        {
          "output_type": "execute_result",
          "data": {
            "text/plain": [
              "array([[ 205,    0,    0, ...,    0,    0,    0],\n",
              "       [  45, 5703,  101, ...,    0,    0,    0],\n",
              "       [ 344,    2,  159, ...,    0,    0,    0],\n",
              "       ...,\n",
              "       [ 201,  186,  109, ...,    0,    0,    0],\n",
              "       [ 758,  172,   86, ...,    0,    0,    0],\n",
              "       [  23,  294,  893, ...,    0,    0,    0]], dtype=int32)"
            ]
          },
          "metadata": {},
          "execution_count": 14
        }
      ]
    },
    {
      "cell_type": "code",
      "source": [
        "padded_docs_train.shape"
      ],
      "metadata": {
        "id": "f6DeUb62XrP_",
        "colab": {
          "base_uri": "https://localhost:8080/"
        },
        "outputId": "f3ffdc1a-0428-4ed6-8910-f38bd9e3c756"
      },
      "execution_count": null,
      "outputs": [
        {
          "output_type": "execute_result",
          "data": {
            "text/plain": [
              "(16000, 34)"
            ]
          },
          "metadata": {},
          "execution_count": 15
        }
      ]
    },
    {
      "cell_type": "code",
      "source": [
        "tokenizer = create_tokenizer(Xtest)\n",
        "padded_docs_test = encode_docs(tokenizer, max_length, Xtest)\n",
        "padded_docs_test.shape"
      ],
      "metadata": {
        "id": "ZyAujDgFXul9",
        "colab": {
          "base_uri": "https://localhost:8080/"
        },
        "outputId": "5c666ed4-3319-410e-fe36-5b63479f2808"
      },
      "execution_count": null,
      "outputs": [
        {
          "output_type": "execute_result",
          "data": {
            "text/plain": [
              "(4000, 34)"
            ]
          },
          "metadata": {},
          "execution_count": 16
        }
      ]
    },
    {
      "cell_type": "code",
      "source": [
        "# define the model\n",
        "def define_model(vocab_size, max_length):\n",
        "    model = Sequential()\n",
        "    model.add(Embedding(vocab_size, 300, input_length=max_length))\n",
        "\n",
        "    model.add(Conv1D(filters=64, kernel_size=3, activation='relu')) # this layer does feature extraction from the text\n",
        "    model.add(MaxPooling1D(pool_size=2)) # this layer concentrates to more imp. features\n",
        "\n",
        "    model.add(Conv1D(filters=64, kernel_size=8, activation='relu')) # this layer does feature extraction from the text\n",
        "    model.add(MaxPooling1D(pool_size=2)) # this layer concentrates to more imp. features\n",
        "\n",
        "    model.add(Flatten()) # feature matrix is collapsed into one dimension.\n",
        "    model.add(Dense(64, activation='relu'))  # hidden layer\n",
        "    model.add(Dense(32, activation='relu'))  # hidden layer\n",
        "\n",
        "    model.add(Dense(1, activation='sigmoid')) # output layer\n",
        "\n",
        "    # compile network\n",
        "    model.compile(loss='binary_crossentropy', optimizer='adam', metrics=['accuracy'])\n",
        "\n",
        "    # summarize defined model\n",
        "#     model.summary()\n",
        "\n",
        "    return model"
      ],
      "metadata": {
        "id": "poIwzzW8XylC"
      },
      "execution_count": null,
      "outputs": []
    },
    {
      "cell_type": "code",
      "source": [
        "# define model\n",
        "K.clear_session()\n",
        "model = define_model(vocab_size, max_length)\n",
        "model.summary()"
      ],
      "metadata": {
        "id": "x3YLUM0UX48z",
        "colab": {
          "base_uri": "https://localhost:8080/"
        },
        "outputId": "eee3be00-706c-4a2a-cef1-14e9290d5455"
      },
      "execution_count": null,
      "outputs": [
        {
          "output_type": "stream",
          "name": "stdout",
          "text": [
            "Model: \"sequential\"\n",
            "_________________________________________________________________\n",
            " Layer (type)                Output Shape              Param #   \n",
            "=================================================================\n",
            " embedding (Embedding)       (None, 34, 300)           4121400   \n",
            "                                                                 \n",
            " conv1d (Conv1D)             (None, 32, 64)            57664     \n",
            "                                                                 \n",
            " max_pooling1d (MaxPooling1  (None, 16, 64)            0         \n",
            " D)                                                              \n",
            "                                                                 \n",
            " conv1d_1 (Conv1D)           (None, 9, 64)             32832     \n",
            "                                                                 \n",
            " max_pooling1d_1 (MaxPoolin  (None, 4, 64)             0         \n",
            " g1D)                                                            \n",
            "                                                                 \n",
            " flatten (Flatten)           (None, 256)               0         \n",
            "                                                                 \n",
            " dense (Dense)               (None, 64)                16448     \n",
            "                                                                 \n",
            " dense_1 (Dense)             (None, 32)                2080      \n",
            "                                                                 \n",
            " dense_2 (Dense)             (None, 1)                 33        \n",
            "                                                                 \n",
            "=================================================================\n",
            "Total params: 4230457 (16.14 MB)\n",
            "Trainable params: 4230457 (16.14 MB)\n",
            "Non-trainable params: 0 (0.00 Byte)\n",
            "_________________________________________________________________\n"
          ]
        }
      ]
    },
    {
      "cell_type": "code",
      "source": [
        "# fit network\n",
        "model.fit(padded_docs_train, ytrain, epochs=25, verbose=2, validation_data=(padded_docs_test, ytest))\n",
        "\n",
        "# save the model\n",
        "model.save('DL_WE.h5')"
      ],
      "metadata": {
        "id": "mZHIUKkBYB7k",
        "colab": {
          "base_uri": "https://localhost:8080/"
        },
        "outputId": "282e8928-205c-4903-e6f2-ee8d066b9d10"
      },
      "execution_count": null,
      "outputs": [
        {
          "output_type": "stream",
          "name": "stdout",
          "text": [
            "Epoch 1/25\n",
            "500/500 - 56s - loss: -3.9704e+09 - accuracy: 0.3381 - val_loss: -2.8318e+10 - val_accuracy: 0.3537 - 56s/epoch - 112ms/step\n",
            "Epoch 2/25\n",
            "500/500 - 51s - loss: -6.4589e+11 - accuracy: 0.3380 - val_loss: -2.1317e+12 - val_accuracy: 0.3537 - 51s/epoch - 102ms/step\n",
            "Epoch 3/25\n",
            "500/500 - 61s - loss: -9.6856e+12 - accuracy: 0.3380 - val_loss: -2.1421e+13 - val_accuracy: 0.3537 - 61s/epoch - 122ms/step\n",
            "Epoch 4/25\n",
            "500/500 - 52s - loss: -5.7459e+13 - accuracy: 0.3380 - val_loss: -1.0129e+14 - val_accuracy: 0.3537 - 52s/epoch - 104ms/step\n",
            "Epoch 5/25\n",
            "500/500 - 47s - loss: -2.0896e+14 - accuracy: 0.3380 - val_loss: -3.1800e+14 - val_accuracy: 0.3537 - 47s/epoch - 93ms/step\n",
            "Epoch 6/25\n",
            "500/500 - 53s - loss: -5.6584e+14 - accuracy: 0.3380 - val_loss: -7.8880e+14 - val_accuracy: 0.3537 - 53s/epoch - 105ms/step\n",
            "Epoch 7/25\n",
            "500/500 - 46s - loss: -1.2741e+15 - accuracy: 0.3380 - val_loss: -1.6637e+15 - val_accuracy: 0.3537 - 46s/epoch - 92ms/step\n",
            "Epoch 8/25\n",
            "500/500 - 44s - loss: -2.5124e+15 - accuracy: 0.3380 - val_loss: -3.1246e+15 - val_accuracy: 0.3537 - 44s/epoch - 88ms/step\n",
            "Epoch 9/25\n",
            "500/500 - 44s - loss: -4.5000e+15 - accuracy: 0.3380 - val_loss: -5.4029e+15 - val_accuracy: 0.3537 - 44s/epoch - 88ms/step\n",
            "Epoch 10/25\n",
            "500/500 - 48s - loss: -7.5160e+15 - accuracy: 0.3380 - val_loss: -8.7916e+15 - val_accuracy: 0.3537 - 48s/epoch - 96ms/step\n",
            "Epoch 11/25\n",
            "500/500 - 50s - loss: -1.1910e+16 - accuracy: 0.3380 - val_loss: -1.3635e+16 - val_accuracy: 0.3537 - 50s/epoch - 99ms/step\n",
            "Epoch 12/25\n",
            "500/500 - 57s - loss: -1.8040e+16 - accuracy: 0.3380 - val_loss: -2.0305e+16 - val_accuracy: 0.3537 - 57s/epoch - 115ms/step\n",
            "Epoch 13/25\n",
            "500/500 - 55s - loss: -2.6357e+16 - accuracy: 0.3380 - val_loss: -2.9120e+16 - val_accuracy: 0.3537 - 55s/epoch - 110ms/step\n",
            "Epoch 14/25\n",
            "500/500 - 58s - loss: -3.7265e+16 - accuracy: 0.3380 - val_loss: -4.0670e+16 - val_accuracy: 0.3537 - 58s/epoch - 116ms/step\n",
            "Epoch 15/25\n",
            "500/500 - 56s - loss: -5.1473e+16 - accuracy: 0.3380 - val_loss: -5.5631e+16 - val_accuracy: 0.3537 - 56s/epoch - 113ms/step\n",
            "Epoch 16/25\n",
            "500/500 - 48s - loss: -6.9617e+16 - accuracy: 0.3380 - val_loss: -7.4541e+16 - val_accuracy: 0.3537 - 48s/epoch - 96ms/step\n",
            "Epoch 17/25\n",
            "500/500 - 47s - loss: -9.2338e+16 - accuracy: 0.3380 - val_loss: -9.7922e+16 - val_accuracy: 0.3537 - 47s/epoch - 95ms/step\n",
            "Epoch 18/25\n",
            "500/500 - 47s - loss: -1.2033e+17 - accuracy: 0.3380 - val_loss: -1.2665e+17 - val_accuracy: 0.3537 - 47s/epoch - 94ms/step\n",
            "Epoch 19/25\n",
            "500/500 - 58s - loss: -1.5435e+17 - accuracy: 0.3380 - val_loss: -1.6138e+17 - val_accuracy: 0.3537 - 58s/epoch - 116ms/step\n",
            "Epoch 20/25\n",
            "500/500 - 48s - loss: -1.9561e+17 - accuracy: 0.3380 - val_loss: -2.0355e+17 - val_accuracy: 0.3537 - 48s/epoch - 97ms/step\n",
            "Epoch 21/25\n",
            "500/500 - 46s - loss: -2.4524e+17 - accuracy: 0.3380 - val_loss: -2.5397e+17 - val_accuracy: 0.3537 - 46s/epoch - 93ms/step\n",
            "Epoch 22/25\n",
            "500/500 - 47s - loss: -3.0452e+17 - accuracy: 0.3380 - val_loss: -3.1382e+17 - val_accuracy: 0.3537 - 47s/epoch - 93ms/step\n",
            "Epoch 23/25\n",
            "500/500 - 47s - loss: -3.7437e+17 - accuracy: 0.3380 - val_loss: -3.8388e+17 - val_accuracy: 0.3537 - 47s/epoch - 95ms/step\n",
            "Epoch 24/25\n",
            "500/500 - 47s - loss: -4.5604e+17 - accuracy: 0.3380 - val_loss: -4.6597e+17 - val_accuracy: 0.3537 - 47s/epoch - 94ms/step\n",
            "Epoch 25/25\n",
            "500/500 - 46s - loss: -5.5121e+17 - accuracy: 0.3380 - val_loss: -5.6161e+17 - val_accuracy: 0.3537 - 46s/epoch - 92ms/step\n"
          ]
        },
        {
          "output_type": "stream",
          "name": "stderr",
          "text": [
            "/usr/local/lib/python3.10/dist-packages/keras/src/engine/training.py:3103: UserWarning: You are saving your model as an HDF5 file via `model.save()`. This file format is considered legacy. We recommend using instead the native Keras format, e.g. `model.save('my_model.keras')`.\n",
            "  saving_api.save_model(\n"
          ]
        }
      ]
    },
    {
      "cell_type": "code",
      "source": [
        "# evaluate the model ONCe on the test set\n",
        "loss, acc = model.evaluate(padded_docs_test, ytest, verbose=0)\n",
        "print('Test Accuracy: %f' % (acc*100))"
      ],
      "metadata": {
        "id": "iOW912DzYEzv",
        "colab": {
          "base_uri": "https://localhost:8080/"
        },
        "outputId": "71b58340-e26e-48cc-9040-17cc606972a4"
      },
      "execution_count": null,
      "outputs": [
        {
          "output_type": "stream",
          "name": "stdout",
          "text": [
            "Test Accuracy: 35.374999\n"
          ]
        }
      ]
    },
    {
      "cell_type": "code",
      "source": [
        "import pickle\n",
        "\n",
        "with open(r'tokenizer-WE.pickle', 'wb') as handle:\n",
        "  pickle.dump(tokenizer, handle, protocol=pickle.HIGHEST_PROTOCOL)"
      ],
      "metadata": {
        "id": "9Wv0C1LLJv8X"
      },
      "execution_count": null,
      "outputs": []
    },
    {
      "cell_type": "markdown",
      "source": [
        "# Test"
      ],
      "metadata": {
        "id": "88e7oJkEnBZw"
      }
    },
    {
      "cell_type": "code",
      "source": [
        "import pickle\n",
        "\n",
        "with open(r'/content/CV_LR_pipeline_full.pickle', 'rb') as handle:\n",
        "    CV_LR_pipeline_full = pickle.load(handle)"
      ],
      "metadata": {
        "id": "g0IjHl9mnIYy"
      },
      "execution_count": null,
      "outputs": []
    },
    {
      "cell_type": "code",
      "source": [
        "test_text = [\"I am happy\"]\n",
        "print(CV_LR_pipeline_full.predict(test_text))"
      ],
      "metadata": {
        "colab": {
          "base_uri": "https://localhost:8080/"
        },
        "id": "qEzL51hSnP8U",
        "outputId": "271f0aaa-0217-45a9-9804-f2a1f7882e6b"
      },
      "execution_count": null,
      "outputs": [
        {
          "output_type": "stream",
          "name": "stdout",
          "text": [
            "[1]\n"
          ]
        }
      ]
    }
  ],
  "metadata": {
    "colab": {
      "collapsed_sections": [
        "zHT_r2mqvFd8",
        "M9yoDyKI6Mun",
        "Va-O82r3mUob",
        "ON7QbNHm1eef",
        "JZadYTN22i_p",
        "1Xf5sSwp4BCY",
        "PYlAinRzlif_",
        "7RsB86xUNQ2k",
        "OdmwNK9wTnpk",
        "yMCtmtPpXRl4"
      ],
      "provenance": [],
      "gpuType": "T4"
    },
    "kernelspec": {
      "display_name": "Python 3",
      "name": "python3"
    },
    "language_info": {
      "name": "python"
    },
    "accelerator": "GPU"
  },
  "nbformat": 4,
  "nbformat_minor": 0
}